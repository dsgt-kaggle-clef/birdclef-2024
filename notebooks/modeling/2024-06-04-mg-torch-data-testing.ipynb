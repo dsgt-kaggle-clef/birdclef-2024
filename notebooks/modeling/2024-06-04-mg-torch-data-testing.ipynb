{
 "cells": [
  {
   "cell_type": "markdown",
   "metadata": {},
   "source": [
    "# Transforming data for Torch model"
   ]
  },
  {
   "cell_type": "code",
   "execution_count": 5,
   "metadata": {},
   "outputs": [
    {
     "name": "stderr",
     "output_type": "stream",
     "text": [
      "Setting default log level to \"WARN\".\n",
      "To adjust logging level use sc.setLogLevel(newLevel). For SparkR, use setLogLevel(newLevel).\n",
      "24/06/10 16:06:06 WARN NativeCodeLoader: Unable to load native-hadoop library for your platform... using builtin-java classes where applicable\n",
      "24/06/10 16:06:06 WARN SparkConf: Note that spark.local.dir will be overridden by the value set by the cluster manager (via SPARK_LOCAL_DIRS in mesos/standalone/kubernetes and LOCAL_DIRS in YARN).\n"
     ]
    },
    {
     "data": {
      "text/html": [
       "\n",
       "            <div>\n",
       "                <p><b>SparkSession - in-memory</b></p>\n",
       "                \n",
       "        <div>\n",
       "            <p><b>SparkContext</b></p>\n",
       "\n",
       "            <p><a href=\"http://regional-gpu-dev-us-east4-a.us-east4-a.c.dsgt-clef-2024.internal:4040\">Spark UI</a></p>\n",
       "\n",
       "            <dl>\n",
       "              <dt>Version</dt>\n",
       "                <dd><code>v3.5.1</code></dd>\n",
       "              <dt>Master</dt>\n",
       "                <dd><code>local[8]</code></dd>\n",
       "              <dt>AppName</dt>\n",
       "                <dd><code>birdclef</code></dd>\n",
       "            </dl>\n",
       "        </div>\n",
       "        \n",
       "            </div>\n",
       "        "
      ],
      "text/plain": [
       "<pyspark.sql.session.SparkSession at 0x7e747beb70a0>"
      ]
     },
     "execution_count": 5,
     "metadata": {},
     "output_type": "execute_result"
    }
   ],
   "source": [
    "%load_ext autoreload\n",
    "%autoreload 2\n",
    "from birdclef.utils import get_spark\n",
    "from pyspark.sql import functions as F\n",
    "\n",
    "spark = get_spark()\n",
    "spark"
   ]
  },
  {
   "cell_type": "code",
   "execution_count": 2,
   "metadata": {},
   "outputs": [
    {
     "name": "stderr",
     "output_type": "stream",
     "text": [
      "                                                                                \r"
     ]
    },
    {
     "name": "stdout",
     "output_type": "stream",
     "text": [
      "root\n",
      " |-- name: string (nullable = true)\n",
      " |-- chunk_5s: long (nullable = true)\n",
      " |-- embedding: array (nullable = true)\n",
      " |    |-- element: float (containsNull = true)\n",
      " |-- logits: array (nullable = true)\n",
      " |    |-- element: float (containsNull = true)\n",
      "\n"
     ]
    },
    {
     "name": "stderr",
     "output_type": "stream",
     "text": [
      "                                                                                \r"
     ]
    },
    {
     "name": "stdout",
     "output_type": "stream",
     "text": [
      "+------------+--------+--------------------+--------------------+\n",
      "|        name|chunk_5s|           embedding|              logits|\n",
      "+------------+--------+--------------------+--------------------+\n",
      "|XC134896.ogg|       0|[-0.01697171, -0....|[4.367853, -15.69...|\n",
      "|XC134896.ogg|       1|[0.08178271, -0.1...|[5.7584195, -14.0...|\n",
      "|XC134896.ogg|       2|[0.15756801, -0.1...|[5.41736, -14.507...|\n",
      "|XC134896.ogg|       3|[0.07789261, -0.1...|[7.383127, -14.17...|\n",
      "|XC134896.ogg|       4|[0.0338157, -0.11...|[5.162613, -13.20...|\n",
      "|XC134896.ogg|       5|[0.027517725, -0....|[4.7014565, -15.4...|\n",
      "|XC164848.ogg|       0|[-0.037761074, 0....|[-1.5938205, -12....|\n",
      "|XC164848.ogg|       1|[0.04028651, -0.0...|[-0.54023355, -11...|\n",
      "|XC164848.ogg|       2|[0.020008465, -0....|[0.059392925, -11...|\n",
      "|XC164848.ogg|       3|[0.011329669, 0.0...|[-8.847201, -14.5...|\n",
      "|XC175797.ogg|       0|[-0.06643575, 0.0...|[6.4482026, -7.80...|\n",
      "|XC175797.ogg|       1|[-2.4496057E-4, 0...|[3.09487, -9.9500...|\n",
      "|XC175797.ogg|       2|[-0.003441513, -0...|[0.99849284, -10....|\n",
      "|XC175797.ogg|       3|[-0.096904404, -0...|[-1.322385, -10.2...|\n",
      "|XC175797.ogg|       4|[0.009180235, 0.1...|[-0.52218044, -12...|\n",
      "|XC175797.ogg|       5|[-0.028087873, -0...|[1.5259247, -12.7...|\n",
      "|XC207738.ogg|       0|[0.08060375, -0.0...|[-3.881069, -10.6...|\n",
      "|XC207738.ogg|       1|[-0.025703251, -0...|[-4.178874, -11.7...|\n",
      "|XC207738.ogg|       2|[-0.021652581, 0....|[-5.0590982, -10....|\n",
      "|XC209218.ogg|       0|[-0.03283344, 0.0...|[-7.7088494, -13....|\n",
      "+------------+--------+--------------------+--------------------+\n",
      "only showing top 20 rows\n",
      "\n"
     ]
    },
    {
     "data": {
      "text/plain": [
       "924"
      ]
     },
     "execution_count": 2,
     "metadata": {},
     "output_type": "execute_result"
    }
   ],
   "source": [
    "path = \"gs://dsgt-clef-birdclef-2024/data/processed/birdclef-2024/asbfly.parquet\"\n",
    "df = spark.read.parquet(path).cache()\n",
    "df.printSchema()\n",
    "df.show()\n",
    "df.count()"
   ]
  },
  {
   "cell_type": "code",
   "execution_count": 3,
   "metadata": {},
   "outputs": [],
   "source": [
    "from birdclef.transforms import SpeciesData\n",
    "\n",
    "sp = SpeciesData()\n",
    "species = sp.read_species_from_file()"
   ]
  },
  {
   "cell_type": "code",
   "execution_count": 4,
   "metadata": {},
   "outputs": [],
   "source": [
    "def sigmoid_udf(x):\n",
    "    \"\"\"\n",
    "    compute the sigmoid of the columns and only keep\n",
    "    the rows that are above a certain threshold\n",
    "    \"\"\"\n",
    "    return 1 / (1 + F.exp(-F.col(x)))\n",
    "\n",
    "\n",
    "def transform(df):\n",
    "    exploded = (\n",
    "        df.select(\n",
    "            F.concat_ws(\"_\", \"name\", \"chunk_5s\").alias(\"id\"),\n",
    "            F.arrays_zip(\"logits\", F.lit(species).alias(\"species\")).alias(\"logits\"),\n",
    "        )\n",
    "        .withColumn(\"exploded\", F.explode(\"logits\"))\n",
    "        .select(\"id\", \"exploded.*\")\n",
    "        .withColumn(\"sigmoid\", sigmoid_udf(\"logits\"))\n",
    "    ).cache()\n",
    "    # get create column of an array of sigmoid logits grouped by id\n",
    "    grouped_df = (\n",
    "        exploded.orderBy(\"id\", \"species\")\n",
    "        .groupBy(\"id\")\n",
    "        .agg(F.collect_list(F.col(\"sigmoid\")).alias(\"sigmoid_logits\"))\n",
    "    )\n",
    "    # get embeddings\n",
    "    df_id = df.select(F.concat_ws(\"_\", \"name\", \"chunk_5s\").alias(\"id\"), \"embedding\")\n",
    "    final_df = grouped_df.join(df_id, on=\"id\", how=\"inner\")\n",
    "    return final_df"
   ]
  },
  {
   "cell_type": "code",
   "execution_count": 5,
   "metadata": {},
   "outputs": [
    {
     "name": "stderr",
     "output_type": "stream",
     "text": [
      "[Stage 11:>                                                         (0 + 2) / 2]\r"
     ]
    },
    {
     "name": "stdout",
     "output_type": "stream",
     "text": [
      "+--------------+------------------------------+------------------------------+\n",
      "|            id|                sigmoid_logits|                     embedding|\n",
      "+--------------+------------------------------+------------------------------+\n",
      "|XC134896.ogg_0|[0.9874803002619361, 1.5216...|[-0.01697171, -0.14812551, ...|\n",
      "|XC134896.ogg_1|[0.9968538337772187, 8.0886...|[0.08178271, -0.10625668, 0...|\n",
      "|XC134896.ogg_2|[0.9955807658044297, 5.0082...|[0.15756801, -0.12693903, 0...|\n",
      "|XC134896.ogg_3|[0.9993787324137937, 6.9467...|[0.07789261, -0.10598332, 0...|\n",
      "|XC134896.ogg_4|[0.9943058918488539, 1.8360...|[0.0338157, -0.112703614, 0...|\n",
      "|XC134896.ogg_5|[0.9909997020094458, 1.8662...|[0.027517725, -0.052032292,...|\n",
      "|XC164848.ogg_0|[0.16884706474015923, 5.010...|[-0.037761074, 0.0027916778...|\n",
      "|XC164848.ogg_1|[0.3681332536829722, 1.0093...|[0.04028651, -0.0765781, 0....|\n",
      "|XC164848.ogg_2|[0.514843868091535, 7.68173...|[0.020008465, -0.10142819, ...|\n",
      "|XC164848.ogg_3|[1.4376290324810643E-4, 4.7...|[0.011329669, 0.031355012, ...|\n",
      "|XC175797.ogg_0|[0.9984191375451232, 4.0617...|[-0.06643575, 0.061332323, ...|\n",
      "|XC175797.ogg_1|[0.9566806446615292, 4.7725...|[-2.4496057E-4, 0.022202978...|\n",
      "|XC175797.ogg_2|[0.7307621492161273, 2.7263...|[-0.003441513, -0.056109548...|\n",
      "|XC175797.ogg_3|[0.2104217730280931, 3.7060...|[-0.096904404, -0.022243302...|\n",
      "|XC175797.ogg_4|[0.3723425158617788, 2.9545...|[0.009180235, 0.11021991, 0...|\n",
      "|XC175797.ogg_5|[0.8214092639778946, 2.7796...|[-0.028087873, -0.007968671...|\n",
      "|XC207738.ogg_0|[0.02021181759835142, 2.258...|[0.08060375, -0.048584707, ...|\n",
      "|XC207738.ogg_1|[0.01508470960828548, 7.880...|[-0.025703251, -0.09057532,...|\n",
      "|XC207738.ogg_2|[0.0063112000166462906, 2.3...|[-0.021652581, 0.07695898, ...|\n",
      "|XC209218.ogg_0|[4.4863623438832877E-4, 1.8...|[-0.03283344, 0.006332408, ...|\n",
      "+--------------+------------------------------+------------------------------+\n",
      "only showing top 20 rows\n",
      "\n"
     ]
    },
    {
     "name": "stderr",
     "output_type": "stream",
     "text": [
      "                                                                                \r"
     ]
    }
   ],
   "source": [
    "# transform DF\n",
    "transformed_df = transform(df)\n",
    "transformed_df.show(truncate=30)"
   ]
  },
  {
   "cell_type": "code",
   "execution_count": 6,
   "metadata": {},
   "outputs": [
    {
     "name": "stdout",
     "output_type": "stream",
     "text": [
      "182\n",
      "1280\n"
     ]
    }
   ],
   "source": [
    "print(len(transformed_df.first().sigmoid_logits))\n",
    "print(len(transformed_df.first().embedding))"
   ]
  },
  {
   "cell_type": "markdown",
   "metadata": {},
   "source": [
    "### import intermediate google embeddings data"
   ]
  },
  {
   "cell_type": "code",
   "execution_count": 7,
   "metadata": {},
   "outputs": [
    {
     "name": "stdout",
     "output_type": "stream",
     "text": [
      "root\n",
      " |-- name: string (nullable = true)\n",
      " |-- chunk_5s: long (nullable = true)\n",
      " |-- embedding: array (nullable = true)\n",
      " |    |-- element: float (containsNull = true)\n",
      " |-- logits: array (nullable = true)\n",
      " |    |-- element: float (containsNull = true)\n",
      "\n"
     ]
    },
    {
     "name": "stderr",
     "output_type": "stream",
     "text": [
      "[Stage 32:====================================================>   (16 + 1) / 17]\r"
     ]
    },
    {
     "name": "stdout",
     "output_type": "stream",
     "text": [
      "+--------------------+--------+--------------------+--------------------+\n",
      "|                name|chunk_5s|           embedding|              logits|\n",
      "+--------------------+--------+--------------------+--------------------+\n",
      "|blrwar1/XC108661.ogg|       0|[-0.0023240745, 0...|[-Infinity, -Infi...|\n",
      "|blrwar1/XC108661.ogg|       1|[-0.06323654, 0.0...|[-Infinity, -Infi...|\n",
      "|blrwar1/XC108661.ogg|       2|[-0.10394307, 0.0...|[-Infinity, -Infi...|\n",
      "|blrwar1/XC108661.ogg|       3|[-0.02910586, 0.0...|[-Infinity, -Infi...|\n",
      "|blrwar1/XC108661.ogg|       4|[-0.072895475, 0....|[-Infinity, -Infi...|\n",
      "|blrwar1/XC108661.ogg|       5|[-0.07493828, -0....|[-Infinity, -Infi...|\n",
      "|blrwar1/XC108661.ogg|       6|[-0.033370227, 0....|[-Infinity, -Infi...|\n",
      "|blrwar1/XC108661.ogg|       7|[-0.05588576, 0.0...|[-Infinity, -Infi...|\n",
      "|blrwar1/XC108661.ogg|       8|[-0.025152182, 0....|[-Infinity, -Infi...|\n",
      "|blrwar1/XC108661.ogg|       9|[-0.0033844702, 0...|[-Infinity, -Infi...|\n",
      "|blrwar1/XC108661.ogg|      10|[-0.052022707, 0....|[-Infinity, -Infi...|\n",
      "|blrwar1/XC108661.ogg|      11|[-0.08026974, -0....|[-Infinity, -Infi...|\n",
      "|blrwar1/XC108661.ogg|      12|[-0.07065581, 0.0...|[-Infinity, -Infi...|\n",
      "|blrwar1/XC108661.ogg|      13|[-0.051348556, 0....|[-Infinity, -Infi...|\n",
      "|blrwar1/XC108661.ogg|      14|[-0.017897842, -0...|[-Infinity, -Infi...|\n",
      "|blrwar1/XC108661.ogg|      15|[-0.047702193, 0....|[-Infinity, -Infi...|\n",
      "|blrwar1/XC108661.ogg|      16|[-0.08515205, 0.0...|[-Infinity, -Infi...|\n",
      "|blrwar1/XC108661.ogg|      17|[-0.07745739, -0....|[-Infinity, -Infi...|\n",
      "|blrwar1/XC108661.ogg|      18|[-0.08054568, -0....|[-Infinity, -Infi...|\n",
      "|blrwar1/XC108661.ogg|      19|[-0.04883499, 0.1...|[-Infinity, -Infi...|\n",
      "+--------------------+--------+--------------------+--------------------+\n",
      "only showing top 20 rows\n",
      "\n"
     ]
    },
    {
     "name": "stderr",
     "output_type": "stream",
     "text": [
      "                                                                                \r"
     ]
    },
    {
     "data": {
      "text/plain": [
       "217814"
      ]
     },
     "execution_count": 7,
     "metadata": {},
     "output_type": "execute_result"
    }
   ],
   "source": [
    "root_path = \"gs://dsgt-clef-birdclef-2024/data\"\n",
    "emb_path = \"intermediate/google_embeddings/v1\"\n",
    "gcs_path = f\"{root_path}/{emb_path}\"\n",
    "df = spark.read.parquet(gcs_path).cache()\n",
    "df.printSchema()\n",
    "df.show()\n",
    "df.count()"
   ]
  },
  {
   "cell_type": "code",
   "execution_count": 8,
   "metadata": {},
   "outputs": [
    {
     "name": "stdout",
     "output_type": "stream",
     "text": [
      "num features: 1280\n",
      "num classes: 182\n"
     ]
    }
   ],
   "source": [
    "# get parameters for the model\n",
    "num_features = int(len(df.select(\"embedding\").first()[\"embedding\"]))\n",
    "num_classes = int(len(df.select(\"sigmoid_logits\").first()[\"sigmoid_logits\"]))\n",
    "print(f\"num features: {num_features}\")\n",
    "print(f\"num classes: {num_classes}\")"
   ]
  },
  {
   "cell_type": "code",
   "execution_count": 6,
   "metadata": {},
   "outputs": [],
   "source": [
    "import itertools\n",
    "\n",
    "\n",
    "class HyperparameterGrid:\n",
    "    def get_hyperparameter_config(self):\n",
    "        # Model and Loss mappings\n",
    "        model_params = {\n",
    "            \"linear\": \"LinearClassifier\",\n",
    "            \"two_layer\": \"TwoLayerClassifier\",\n",
    "        }\n",
    "        loss_params = {\n",
    "            \"bce\": {},\n",
    "            \"asl\": {\n",
    "                \"gamma_neg\": [0, 2, 4],\n",
    "                \"gamma_pos\": [0, 1],\n",
    "            },\n",
    "            \"sigmoidf1\": {\n",
    "                \"S\": [-1, -15, -30],\n",
    "                \"E\": [0, 1, 2],\n",
    "            },\n",
    "        }\n",
    "        hidden_layers = [64, 128, 256]\n",
    "        return model_params, loss_params, hidden_layers\n",
    "\n",
    "\n",
    "def generate_loss_hp_params(loss_params):\n",
    "    \"\"\"Generate all combinations of hyperparameters for a given loss function.\"\"\"\n",
    "    if not loss_params:\n",
    "        return [{}]\n",
    "\n",
    "    keys, values = zip(*loss_params.items())\n",
    "    combinations = [\n",
    "        dict(zip(keys, combination)) for combination in itertools.product(*values)\n",
    "    ]\n",
    "    return combinations"
   ]
  },
  {
   "cell_type": "code",
   "execution_count": 7,
   "metadata": {},
   "outputs": [
    {
     "name": "stdout",
     "output_type": "stream",
     "text": [
      "gamma_neg0-gamma_pos0\n",
      "gamma_neg0-gamma_pos1\n",
      "gamma_neg2-gamma_pos0\n",
      "gamma_neg2-gamma_pos1\n",
      "gamma_neg4-gamma_pos0\n",
      "gamma_neg4-gamma_pos1\n",
      "S-1-E0\n",
      "S-1-E1\n",
      "S-1-E2\n",
      "S-15-E0\n",
      "S-15-E1\n",
      "S-15-E2\n",
      "S-30-E0\n",
      "S-30-E1\n",
      "S-30-E2\n"
     ]
    }
   ],
   "source": [
    "hp = HyperparameterGrid()\n",
    "model_params, loss_params, hidden_layers = hp.get_hyperparameter_config()\n",
    "default_root_dir = \"torch-v1-google\"\n",
    "hidden_layer_size = 256\n",
    "\n",
    "for loss in loss_params:\n",
    "    for hp_params in generate_loss_hp_params(loss_params[loss]):\n",
    "        param_log = [f\"{k}{v}\" for k, v in hp_params.items()]\n",
    "        if len(param_log) > 0:\n",
    "            param_name = \"-\".join(param_log)\n",
    "            print(param_name)"
   ]
  },
  {
   "cell_type": "markdown",
   "metadata": {},
   "source": [
    "### Add `1` for the current label of the species"
   ]
  },
  {
   "cell_type": "code",
   "execution_count": 9,
   "metadata": {},
   "outputs": [
    {
     "name": "stderr",
     "output_type": "stream",
     "text": [
      "                                                                                \r"
     ]
    },
    {
     "name": "stdout",
     "output_type": "stream",
     "text": [
      "root\n",
      " |-- name: string (nullable = true)\n",
      " |-- chunk_5s: long (nullable = true)\n",
      " |-- embedding: array (nullable = true)\n",
      " |    |-- element: float (containsNull = true)\n",
      " |-- logits: array (nullable = true)\n",
      " |    |-- element: float (containsNull = true)\n",
      "\n"
     ]
    },
    {
     "name": "stderr",
     "output_type": "stream",
     "text": [
      "                                                                                \r"
     ]
    },
    {
     "name": "stdout",
     "output_type": "stream",
     "text": [
      "+--------------------+--------+--------------------+--------------------+\n",
      "|                name|chunk_5s|           embedding|              logits|\n",
      "+--------------------+--------+--------------------+--------------------+\n",
      "|blrwar1/XC650323.ogg|       5|[0.0041362955, 0....|[-Infinity, -Infi...|\n",
      "|blrwar1/XC560248.ogg|      10|[-0.037416093, 0....|[-Infinity, -Infi...|\n",
      "|blrwar1/XC570070.ogg|      11|[-0.033473324, 0....|[-Infinity, -Infi...|\n",
      "|blrwar1/XC826779.ogg|     108|[0.0074216262, -0...|[-Infinity, -Infi...|\n",
      "|blrwar1/XC134920.ogg|      23|[-0.028284838, -0...|[-Infinity, -Infi...|\n",
      "|blrwar1/XC431699.ogg|       3|[-0.06691173, 0.3...|[-Infinity, -Infi...|\n",
      "|blrwar1/XC826057.ogg|     520|[0.037868567, -0....|[-Infinity, -Infi...|\n",
      "|blrwar1/XC270114.ogg|       4|[0.20961681, -0.1...|[-Infinity, -Infi...|\n",
      "|blrwar1/XC808169.ogg|      17|[-0.006478134, -0...|[-Infinity, -Infi...|\n",
      "|blrwar1/XC480057.ogg|       0|[0.04627442, -0.1...|[-Infinity, -Infi...|\n",
      "|blrwar1/XC826043.ogg|     228|[-0.0026174202, -...|[-Infinity, -Infi...|\n",
      "|blrwar1/XC654181.ogg|      51|[0.010127581, -0....|[-Infinity, -Infi...|\n",
      "|blrwar1/XC568295.ogg|      69|[-0.0028037108, -...|[-Infinity, -Infi...|\n",
      "|blrwar1/XC249229.ogg|      35|[0.026048888, 0.0...|[-Infinity, -Infi...|\n",
      "|blrwar1/XC826787.ogg|     182|[-0.044745266, -0...|[-Infinity, -Infi...|\n",
      "|blrwar1/XC826043.ogg|     379|[0.24649012, 0.02...|[-Infinity, -Infi...|\n",
      "|blrwar1/XC826057.ogg|     287|[0.15480582, -0.0...|[-Infinity, -Infi...|\n",
      "|blrwar1/XC662286.ogg|       5|[-0.014657765, 0....|[-Infinity, -Infi...|\n",
      "|blrwar1/XC826057.ogg|     363|[0.058912892, -0....|[-Infinity, -Infi...|\n",
      "|blrwar1/XC657566.ogg|       5|[0.4015804, -0.16...|[-Infinity, -Infi...|\n",
      "+--------------------+--------+--------------------+--------------------+\n",
      "only showing top 20 rows\n",
      "\n"
     ]
    },
    {
     "data": {
      "text/plain": [
       "217814"
      ]
     },
     "execution_count": 9,
     "metadata": {},
     "output_type": "execute_result"
    }
   ],
   "source": [
    "root_path = \"gs://dsgt-clef-birdclef-2024/data\"\n",
    "emb_path = \"processed/google_embeddings/v1\"\n",
    "gcs_path = f\"{root_path}/{emb_path}\"\n",
    "df = spark.read.parquet(gcs_path).cache()\n",
    "df.printSchema()\n",
    "df.show()\n",
    "df.count()"
   ]
  },
  {
   "cell_type": "code",
   "execution_count": 8,
   "metadata": {},
   "outputs": [
    {
     "name": "stdout",
     "output_type": "stream",
     "text": [
      "182\n",
      "182\n"
     ]
    }
   ],
   "source": [
    "from birdclef.config import SPECIES\n",
    "from birdclef.transforms import SpeciesData\n",
    "\n",
    "sp1 = SPECIES\n",
    "sp2 = SpeciesData().get_species()\n",
    "print(len(sp1))\n",
    "print(len(sp2))"
   ]
  },
  {
   "cell_type": "code",
   "execution_count": 29,
   "metadata": {},
   "outputs": [
    {
     "data": {
      "text/plain": [
       "20"
      ]
     },
     "execution_count": 29,
     "metadata": {},
     "output_type": "execute_result"
    }
   ],
   "source": [
    "from pathlib import Path\n",
    "\n",
    "\n",
    "# UDF to retrieve species inddex\n",
    "def species_index(name):\n",
    "    species = Path(name).parent.name\n",
    "    species_index = SPECIES.index(species)\n",
    "    return species_index\n",
    "\n",
    "\n",
    "# get species\n",
    "filename = \"blrwar1/XC650323.ogg\"\n",
    "sp_idx = species_index(name=filename)\n",
    "sp_idx"
   ]
  },
  {
   "cell_type": "code",
   "execution_count": 44,
   "metadata": {},
   "outputs": [
    {
     "ename": "ValueError",
     "evalue": "'' is not in list",
     "output_type": "error",
     "traceback": [
      "\u001b[0;31m---------------------------------------------------------------------------\u001b[0m",
      "\u001b[0;31mValueError\u001b[0m                                Traceback (most recent call last)",
      "Cell \u001b[0;32mIn[44], line 5\u001b[0m\n\u001b[1;32m      3\u001b[0m \u001b[38;5;66;03m# Register the UDF\u001b[39;00m\n\u001b[1;32m      4\u001b[0m species_index_udf \u001b[38;5;241m=\u001b[39m F\u001b[38;5;241m.\u001b[39mudf(species_index, IntegerType())\n\u001b[0;32m----> 5\u001b[0m df_species \u001b[38;5;241m=\u001b[39m df\u001b[38;5;241m.\u001b[39mwithColumn(\u001b[38;5;124m\"\u001b[39m\u001b[38;5;124mspecies_idx\u001b[39m\u001b[38;5;124m\"\u001b[39m, \u001b[43mspecies_index\u001b[49m\u001b[43m(\u001b[49m\u001b[38;5;124;43m\"\u001b[39;49m\u001b[38;5;124;43mname\u001b[39;49m\u001b[38;5;124;43m\"\u001b[39;49m\u001b[43m)\u001b[49m)\n\u001b[1;32m      6\u001b[0m df_species\u001b[38;5;241m.\u001b[39mshow()\n",
      "Cell \u001b[0;32mIn[29], line 7\u001b[0m, in \u001b[0;36mspecies_index\u001b[0;34m(name)\u001b[0m\n\u001b[1;32m      5\u001b[0m \u001b[38;5;28;01mdef\u001b[39;00m \u001b[38;5;21mspecies_index\u001b[39m(name):\n\u001b[1;32m      6\u001b[0m     species \u001b[38;5;241m=\u001b[39m Path(name)\u001b[38;5;241m.\u001b[39mparent\u001b[38;5;241m.\u001b[39mname\n\u001b[0;32m----> 7\u001b[0m     species_index \u001b[38;5;241m=\u001b[39m \u001b[43mSPECIES\u001b[49m\u001b[38;5;241;43m.\u001b[39;49m\u001b[43mindex\u001b[49m\u001b[43m(\u001b[49m\u001b[43mspecies\u001b[49m\u001b[43m)\u001b[49m\n\u001b[1;32m      8\u001b[0m     \u001b[38;5;28;01mreturn\u001b[39;00m species_index\n",
      "\u001b[0;31mValueError\u001b[0m: '' is not in list"
     ]
    }
   ],
   "source": [
    "from pyspark.sql.types import IntegerType\n",
    "\n",
    "# Register the UDF\n",
    "species_index_udf = F.udf(species_index, IntegerType())\n",
    "df_species = df.withColumn(\"species_idx\", species_index(\"name\"))\n",
    "df_species.show()"
   ]
  },
  {
   "cell_type": "code",
   "execution_count": 38,
   "metadata": {},
   "outputs": [
    {
     "name": "stdout",
     "output_type": "stream",
     "text": [
      "\n",
      "train count: 217814\n",
      "valid count: 217814\n",
      "\n"
     ]
    }
   ],
   "source": [
    "print(\n",
    "    f\"\\ntrain count: {df_species.count()}\\n\" f\"valid count: {df_species.count()}\\n\",\n",
    ")"
   ]
  },
  {
   "cell_type": "code",
   "execution_count": 43,
   "metadata": {},
   "outputs": [
    {
     "data": {
      "text/plain": [
       "'goflea1/XC123456.ogg'"
      ]
     },
     "execution_count": 43,
     "metadata": {},
     "output_type": "execute_result"
    }
   ],
   "source": [
    "import random\n",
    "\n",
    "name = f\"{random.choice(SPECIES)}/XC123456.ogg\"\n",
    "name"
   ]
  },
  {
   "cell_type": "code",
   "execution_count": null,
   "metadata": {},
   "outputs": [],
   "source": []
  }
 ],
 "metadata": {
  "kernelspec": {
   "display_name": "Python 3",
   "language": "python",
   "name": "python3"
  },
  "language_info": {
   "codemirror_mode": {
    "name": "ipython",
    "version": 3
   },
   "file_extension": ".py",
   "mimetype": "text/x-python",
   "name": "python",
   "nbconvert_exporter": "python",
   "pygments_lexer": "ipython3",
   "version": "3.10.12"
  }
 },
 "nbformat": 4,
 "nbformat_minor": 2
}
