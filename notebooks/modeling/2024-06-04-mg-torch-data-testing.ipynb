{
 "cells": [
  {
   "cell_type": "markdown",
   "metadata": {},
   "source": [
    "# Transforming data for Torch model"
   ]
  },
  {
   "cell_type": "code",
   "execution_count": 1,
   "metadata": {},
   "outputs": [
    {
     "name": "stderr",
     "output_type": "stream",
     "text": [
      "Setting default log level to \"WARN\".\n",
      "To adjust logging level use sc.setLogLevel(newLevel). For SparkR, use setLogLevel(newLevel).\n",
      "24/06/07 19:00:27 WARN NativeCodeLoader: Unable to load native-hadoop library for your platform... using builtin-java classes where applicable\n",
      "24/06/07 19:00:27 WARN SparkConf: Note that spark.local.dir will be overridden by the value set by the cluster manager (via SPARK_LOCAL_DIRS in mesos/standalone/kubernetes and LOCAL_DIRS in YARN).\n"
     ]
    },
    {
     "data": {
      "text/html": [
       "\n",
       "            <div>\n",
       "                <p><b>SparkSession - in-memory</b></p>\n",
       "                \n",
       "        <div>\n",
       "            <p><b>SparkContext</b></p>\n",
       "\n",
       "            <p><a href=\"http://regional-gpu-dev-us-east4-a.us-east4-a.c.dsgt-clef-2024.internal:4040\">Spark UI</a></p>\n",
       "\n",
       "            <dl>\n",
       "              <dt>Version</dt>\n",
       "                <dd><code>v3.5.1</code></dd>\n",
       "              <dt>Master</dt>\n",
       "                <dd><code>local[8]</code></dd>\n",
       "              <dt>AppName</dt>\n",
       "                <dd><code>birdclef</code></dd>\n",
       "            </dl>\n",
       "        </div>\n",
       "        \n",
       "            </div>\n",
       "        "
      ],
      "text/plain": [
       "<pyspark.sql.session.SparkSession at 0x7d47a806b520>"
      ]
     },
     "execution_count": 1,
     "metadata": {},
     "output_type": "execute_result"
    }
   ],
   "source": [
    "%load_ext autoreload\n",
    "%autoreload 2\n",
    "from birdclef.utils import get_spark\n",
    "from pyspark.sql import functions as F\n",
    "\n",
    "spark = get_spark()\n",
    "spark"
   ]
  },
  {
   "cell_type": "code",
   "execution_count": 2,
   "metadata": {},
   "outputs": [
    {
     "name": "stderr",
     "output_type": "stream",
     "text": [
      "                                                                                \r"
     ]
    },
    {
     "name": "stdout",
     "output_type": "stream",
     "text": [
      "root\n",
      " |-- name: string (nullable = true)\n",
      " |-- chunk_5s: long (nullable = true)\n",
      " |-- embedding: array (nullable = true)\n",
      " |    |-- element: float (containsNull = true)\n",
      " |-- logits: array (nullable = true)\n",
      " |    |-- element: float (containsNull = true)\n",
      "\n"
     ]
    },
    {
     "name": "stderr",
     "output_type": "stream",
     "text": [
      "                                                                                \r"
     ]
    },
    {
     "name": "stdout",
     "output_type": "stream",
     "text": [
      "+------------+--------+--------------------+--------------------+\n",
      "|        name|chunk_5s|           embedding|              logits|\n",
      "+------------+--------+--------------------+--------------------+\n",
      "|XC134896.ogg|       0|[-0.01697171, -0....|[4.367853, -15.69...|\n",
      "|XC134896.ogg|       1|[0.08178271, -0.1...|[5.7584195, -14.0...|\n",
      "|XC134896.ogg|       2|[0.15756801, -0.1...|[5.41736, -14.507...|\n",
      "|XC134896.ogg|       3|[0.07789261, -0.1...|[7.383127, -14.17...|\n",
      "|XC134896.ogg|       4|[0.0338157, -0.11...|[5.162613, -13.20...|\n",
      "|XC134896.ogg|       5|[0.027517725, -0....|[4.7014565, -15.4...|\n",
      "|XC164848.ogg|       0|[-0.037761074, 0....|[-1.5938205, -12....|\n",
      "|XC164848.ogg|       1|[0.04028651, -0.0...|[-0.54023355, -11...|\n",
      "|XC164848.ogg|       2|[0.020008465, -0....|[0.059392925, -11...|\n",
      "|XC164848.ogg|       3|[0.011329669, 0.0...|[-8.847201, -14.5...|\n",
      "|XC175797.ogg|       0|[-0.06643575, 0.0...|[6.4482026, -7.80...|\n",
      "|XC175797.ogg|       1|[-2.4496057E-4, 0...|[3.09487, -9.9500...|\n",
      "|XC175797.ogg|       2|[-0.003441513, -0...|[0.99849284, -10....|\n",
      "|XC175797.ogg|       3|[-0.096904404, -0...|[-1.322385, -10.2...|\n",
      "|XC175797.ogg|       4|[0.009180235, 0.1...|[-0.52218044, -12...|\n",
      "|XC175797.ogg|       5|[-0.028087873, -0...|[1.5259247, -12.7...|\n",
      "|XC207738.ogg|       0|[0.08060375, -0.0...|[-3.881069, -10.6...|\n",
      "|XC207738.ogg|       1|[-0.025703251, -0...|[-4.178874, -11.7...|\n",
      "|XC207738.ogg|       2|[-0.021652581, 0....|[-5.0590982, -10....|\n",
      "|XC209218.ogg|       0|[-0.03283344, 0.0...|[-7.7088494, -13....|\n",
      "+------------+--------+--------------------+--------------------+\n",
      "only showing top 20 rows\n",
      "\n"
     ]
    },
    {
     "data": {
      "text/plain": [
       "924"
      ]
     },
     "execution_count": 2,
     "metadata": {},
     "output_type": "execute_result"
    }
   ],
   "source": [
    "path = \"gs://dsgt-clef-birdclef-2024/data/processed/birdclef-2024/asbfly.parquet\"\n",
    "df = spark.read.parquet(path).cache()\n",
    "df.printSchema()\n",
    "df.show()\n",
    "df.count()"
   ]
  },
  {
   "cell_type": "code",
   "execution_count": 3,
   "metadata": {},
   "outputs": [],
   "source": [
    "from birdclef.transforms import SpeciesData\n",
    "\n",
    "sp = SpeciesData()\n",
    "species = sp.read_species_from_file()"
   ]
  },
  {
   "cell_type": "code",
   "execution_count": 4,
   "metadata": {},
   "outputs": [],
   "source": [
    "def sigmoid_udf(x):\n",
    "    \"\"\"\n",
    "    compute the sigmoid of the columns and only keep\n",
    "    the rows that are above a certain threshold\n",
    "    \"\"\"\n",
    "    return 1 / (1 + F.exp(-F.col(x)))\n",
    "\n",
    "\n",
    "def transform(df):\n",
    "    exploded = (\n",
    "        df.select(\n",
    "            F.concat_ws(\"_\", \"name\", \"chunk_5s\").alias(\"id\"),\n",
    "            F.arrays_zip(\"logits\", F.lit(species).alias(\"species\")).alias(\"logits\"),\n",
    "        )\n",
    "        .withColumn(\"exploded\", F.explode(\"logits\"))\n",
    "        .select(\"id\", \"exploded.*\")\n",
    "        .withColumn(\"sigmoid\", sigmoid_udf(\"logits\"))\n",
    "    ).cache()\n",
    "    # get create column of an array of sigmoid logits grouped by id\n",
    "    grouped_df = (\n",
    "        exploded.orderBy(\"id\", \"species\")\n",
    "        .groupBy(\"id\")\n",
    "        .agg(F.collect_list(F.col(\"sigmoid\")).alias(\"sigmoid_logits\"))\n",
    "    )\n",
    "    # get embeddings\n",
    "    df_id = df.select(F.concat_ws(\"_\", \"name\", \"chunk_5s\").alias(\"id\"), \"embedding\")\n",
    "    final_df = grouped_df.join(df_id, on=\"id\", how=\"inner\")\n",
    "    return final_df"
   ]
  },
  {
   "cell_type": "code",
   "execution_count": 5,
   "metadata": {},
   "outputs": [
    {
     "name": "stderr",
     "output_type": "stream",
     "text": [
      "[Stage 11:>                                                         (0 + 2) / 2]\r"
     ]
    },
    {
     "name": "stdout",
     "output_type": "stream",
     "text": [
      "+--------------+------------------------------+------------------------------+\n",
      "|            id|                sigmoid_logits|                     embedding|\n",
      "+--------------+------------------------------+------------------------------+\n",
      "|XC134896.ogg_0|[0.9874803002619361, 1.5216...|[-0.01697171, -0.14812551, ...|\n",
      "|XC134896.ogg_1|[0.9968538337772187, 8.0886...|[0.08178271, -0.10625668, 0...|\n",
      "|XC134896.ogg_2|[0.9955807658044297, 5.0082...|[0.15756801, -0.12693903, 0...|\n",
      "|XC134896.ogg_3|[0.9993787324137937, 6.9467...|[0.07789261, -0.10598332, 0...|\n",
      "|XC134896.ogg_4|[0.9943058918488539, 1.8360...|[0.0338157, -0.112703614, 0...|\n",
      "|XC134896.ogg_5|[0.9909997020094458, 1.8662...|[0.027517725, -0.052032292,...|\n",
      "|XC164848.ogg_0|[0.16884706474015923, 5.010...|[-0.037761074, 0.0027916778...|\n",
      "|XC164848.ogg_1|[0.3681332536829722, 1.0093...|[0.04028651, -0.0765781, 0....|\n",
      "|XC164848.ogg_2|[0.514843868091535, 7.68173...|[0.020008465, -0.10142819, ...|\n",
      "|XC164848.ogg_3|[1.4376290324810643E-4, 4.7...|[0.011329669, 0.031355012, ...|\n",
      "|XC175797.ogg_0|[0.9984191375451232, 4.0617...|[-0.06643575, 0.061332323, ...|\n",
      "|XC175797.ogg_1|[0.9566806446615292, 4.7725...|[-2.4496057E-4, 0.022202978...|\n",
      "|XC175797.ogg_2|[0.7307621492161273, 2.7263...|[-0.003441513, -0.056109548...|\n",
      "|XC175797.ogg_3|[0.2104217730280931, 3.7060...|[-0.096904404, -0.022243302...|\n",
      "|XC175797.ogg_4|[0.3723425158617788, 2.9545...|[0.009180235, 0.11021991, 0...|\n",
      "|XC175797.ogg_5|[0.8214092639778946, 2.7796...|[-0.028087873, -0.007968671...|\n",
      "|XC207738.ogg_0|[0.02021181759835142, 2.258...|[0.08060375, -0.048584707, ...|\n",
      "|XC207738.ogg_1|[0.01508470960828548, 7.880...|[-0.025703251, -0.09057532,...|\n",
      "|XC207738.ogg_2|[0.0063112000166462906, 2.3...|[-0.021652581, 0.07695898, ...|\n",
      "|XC209218.ogg_0|[4.4863623438832877E-4, 1.8...|[-0.03283344, 0.006332408, ...|\n",
      "+--------------+------------------------------+------------------------------+\n",
      "only showing top 20 rows\n",
      "\n"
     ]
    },
    {
     "name": "stderr",
     "output_type": "stream",
     "text": [
      "                                                                                \r"
     ]
    }
   ],
   "source": [
    "# transform DF\n",
    "transformed_df = transform(df)\n",
    "transformed_df.show(truncate=30)"
   ]
  },
  {
   "cell_type": "code",
   "execution_count": 6,
   "metadata": {},
   "outputs": [
    {
     "name": "stdout",
     "output_type": "stream",
     "text": [
      "182\n"
     ]
    }
   ],
   "source": [
    "print(len(transformed_df.first().sigmoid_logits))"
   ]
  },
  {
   "cell_type": "markdown",
   "metadata": {},
   "source": [
    "### import processed data"
   ]
  },
  {
   "cell_type": "code",
   "execution_count": 7,
   "metadata": {},
   "outputs": [
    {
     "name": "stdout",
     "output_type": "stream",
     "text": [
      "root\n",
      " |-- id: string (nullable = true)\n",
      " |-- sigmoid_logits: array (nullable = true)\n",
      " |    |-- element: double (containsNull = true)\n",
      " |-- embedding: array (nullable = true)\n",
      " |    |-- element: float (containsNull = true)\n",
      " |-- sample_id: integer (nullable = true)\n",
      "\n"
     ]
    },
    {
     "name": "stderr",
     "output_type": "stream",
     "text": [
      "                                                                                \r"
     ]
    },
    {
     "name": "stdout",
     "output_type": "stream",
     "text": [
      "+---------------+--------------------+--------------------+---------+\n",
      "|             id|      sigmoid_logits|           embedding|sample_id|\n",
      "+---------------+--------------------+--------------------+---------+\n",
      "|XC724148.ogg_15|[0.01680772021377...|[-0.0068491795, 0...|        3|\n",
      "|XC313835.ogg_10|[6.23079547323694...|[-0.012723277, -0...|        3|\n",
      "|XC756431.ogg_13|[0.05752642597570...|[-0.062239904, -0...|        3|\n",
      "|XC724266.ogg_29|[3.85630487725207...|[-0.049252495, 0....|        3|\n",
      "|XC724148.ogg_28|[6.42797297697613...|[0.03280939, -0.0...|        3|\n",
      "|XC821773.ogg_11|[0.00577954761659...|[0.019143827, 0.3...|        3|\n",
      "|XC724266.ogg_11|[0.03024041125066...|[0.110734664, 0.0...|        3|\n",
      "|XC342037.ogg_22|[7.67365900528079...|[0.0068388185, 0....|        3|\n",
      "|XC374520.ogg_16|[0.54916403821089...|[0.026325822, 0.0...|        3|\n",
      "|XC821773.ogg_14|[0.01075345895269...|[-0.016234195, 0....|        3|\n",
      "|XC305518.ogg_18|[0.64899250523639...|[-0.072603844, 0....|        3|\n",
      "|XC484489.ogg_14|[0.01581211973426...|[-0.04772191, -0....|        3|\n",
      "|XC499134.ogg_11|[0.99932122272656...|[0.13743235, -0.0...|        3|\n",
      "|XC724148.ogg_22|[0.87099914771652...|[0.18183038, 0.08...|        3|\n",
      "|XC846616.ogg_10|[0.96054269005941...|[0.09769184, -0.0...|        3|\n",
      "|XC374520.ogg_21|[0.02342171656940...|[-0.015671406, 0....|        3|\n",
      "|XC329259.ogg_13|[0.00282583303268...|[0.0072974837, -0...|        3|\n",
      "|XC342037.ogg_19|[1.14735941367758...|[0.09191655, 0.05...|        2|\n",
      "|XC724148.ogg_29|[3.70324979930499...|[-0.048656795, 0....|        2|\n",
      "|XC342037.ogg_12|[8.38746686688388...|[-0.042527832, 0....|        2|\n",
      "+---------------+--------------------+--------------------+---------+\n",
      "only showing top 20 rows\n",
      "\n"
     ]
    },
    {
     "data": {
      "text/plain": [
       "924"
      ]
     },
     "execution_count": 7,
     "metadata": {},
     "output_type": "execute_result"
    }
   ],
   "source": [
    "root_path = \"gs://dsgt-clef-birdclef-2024/data\"\n",
    "emb_path = \"processed/birdclef-2024-train-google-embedding/data\"\n",
    "gcs_path = f\"{root_path}/{emb_path}\"\n",
    "df = spark.read.parquet(gcs_path).cache()\n",
    "df.printSchema()\n",
    "df.show()\n",
    "df.count()"
   ]
  },
  {
   "cell_type": "markdown",
   "metadata": {},
   "source": [
    "### import intermediate google embeddings data"
   ]
  },
  {
   "cell_type": "code",
   "execution_count": 16,
   "metadata": {},
   "outputs": [
    {
     "name": "stdout",
     "output_type": "stream",
     "text": [
      "root\n",
      " |-- id: string (nullable = true)\n",
      " |-- sigmoid_logits: array (nullable = true)\n",
      " |    |-- element: double (containsNull = true)\n",
      " |-- embedding: array (nullable = true)\n",
      " |    |-- element: float (containsNull = true)\n",
      " |-- sample_id: integer (nullable = true)\n",
      "\n"
     ]
    },
    {
     "name": "stderr",
     "output_type": "stream",
     "text": [
      "                                                                                \r"
     ]
    },
    {
     "name": "stdout",
     "output_type": "stream",
     "text": [
      "+--------------------+--------------------+--------------------+---------+\n",
      "|                  id|      sigmoid_logits|           embedding|sample_id|\n",
      "+--------------------+--------------------+--------------------+---------+\n",
      "|mawthr1/XC455222....|[0.0, 0.0, 1.0218...|[0.0103372345, -0...|        8|\n",
      "|houcro1/XC194310....|[0.0, 0.0, 3.5288...|[-0.006892477, -0...|        8|\n",
      "|oripip1/XC306479....|[0.0, 0.0, 1.4431...|[0.0393587, -0.08...|        8|\n",
      "|blrwar1/XC566094....|[0.0, 0.0, 3.0413...|[-0.03820811, -0....|        8|\n",
      "|bladro1/XC331740....|[0.0, 0.0, 1.6004...|[-0.052222367, -0...|        8|\n",
      "|lblwar1/XC324107....|[0.0, 0.0, 3.8774...|[-0.031463973, 0....|        8|\n",
      "|comgre/XC840649.o...|[0.0, 0.0, 1.0128...|[0.011400017, -0....|        8|\n",
      "|houcro1/XC721596....|[0.0, 0.0, 9.0941...|[0.14536685, -0.0...|        8|\n",
      "|purher1/XC310403....|[0.0, 0.0, 1.0507...|[0.05102185, -0.0...|        8|\n",
      "|blakit1/XC253432....|[0.0, 0.0, 1.3632...|[0.011167966, -0....|        8|\n",
      "|vehpar1/XC497098....|[0.0, 0.0, 3.6768...|[-0.033200197, 0....|        8|\n",
      "|spepic1/XC460097....|[0.0, 0.0, 1.0681...|[-0.030534193, -0...|        8|\n",
      "|eucdov/XC704641.o...|[0.0, 0.0, 2.7533...|[0.04000318, -0.1...|        8|\n",
      "|spoowl1/XC778593....|[0.0, 0.0, 3.9538...|[0.17131358, -0.0...|        8|\n",
      "|thbwar1/XC485179....|[0.0, 0.0, 5.7745...|[-0.07572535, -0....|        8|\n",
      "|commyn/XC364334.o...|[0.0, 0.0, 1.5853...|[-0.00665198, -0....|        8|\n",
      "|gyhcaf1/XC681923....|[0.0, 0.0, 3.2052...|[0.08310785, -0.1...|        8|\n",
      "|crseag1/XC388510....|[0.0, 0.0, 2.3541...|[0.012785566, 0.1...|        8|\n",
      "|comkin1/XC293400....|[0.0, 0.0, 3.8043...|[0.004587443, -0....|        8|\n",
      "|blrwar1/XC660158....|[0.0, 0.0, 2.0724...|[0.018229367, -0....|        8|\n",
      "+--------------------+--------------------+--------------------+---------+\n",
      "only showing top 20 rows\n",
      "\n"
     ]
    },
    {
     "data": {
      "text/plain": [
       "199254"
      ]
     },
     "execution_count": 16,
     "metadata": {},
     "output_type": "execute_result"
    }
   ],
   "source": [
    "root_path = \"gs://dsgt-clef-birdclef-2024/data\"\n",
    "emb_path = \"intermediate/google_embeddings/v1-transformed\"\n",
    "gcs_path = f\"{root_path}/{emb_path}\"\n",
    "df = spark.read.parquet(gcs_path).cache()\n",
    "df.printSchema()\n",
    "df.show()\n",
    "df.count()"
   ]
  },
  {
   "cell_type": "code",
   "execution_count": 56,
   "metadata": {},
   "outputs": [
    {
     "name": "stderr",
     "output_type": "stream",
     "text": [
      "[Stage 43:==================================================>   (154 + 8) / 164]\r"
     ]
    },
    {
     "name": "stdout",
     "output_type": "stream",
     "text": [
      "num features: 1280\n",
      "num classes: 198934\n"
     ]
    },
    {
     "name": "stderr",
     "output_type": "stream",
     "text": [
      "                                                                                \r"
     ]
    }
   ],
   "source": [
    "# get parameters for the model\n",
    "num_features = int(len(df.select(\"embedding\").first()[\"embedding\"]))\n",
    "num_classes = int(len(df.select(\"sigmoid_logits\").first()[\"sigmoid_logits\"]))\n",
    "print(f\"num features: {num_features}\")\n",
    "print(f\"num classes: {num_classes}\")"
   ]
  },
  {
   "cell_type": "code",
   "execution_count": null,
   "metadata": {},
   "outputs": [],
   "source": []
  },
  {
   "cell_type": "code",
   "execution_count": null,
   "metadata": {},
   "outputs": [],
   "source": []
  },
  {
   "cell_type": "code",
   "execution_count": 54,
   "metadata": {},
   "outputs": [
    {
     "name": "stdout",
     "output_type": "stream",
     "text": [
      "LinearClassifier\n",
      "nn.BCEWithLogitsLoss\n",
      "LinearClassifier\n",
      "ASLSingleLabel\n",
      "LinearClassifier\n",
      "SigmoidF1\n"
     ]
    }
   ],
   "source": [
    "import itertools\n",
    "\n",
    "# Parameters\n",
    "layer_params = {\n",
    "    \"linear\": \"LinearClassifier\",\n",
    "    \"two_layer\": \"TwoLayerClassifier\",\n",
    "}\n",
    "loss_params = {\n",
    "    \"bce\": \"nn.BCEWithLogitsLoss\",\n",
    "    \"asl\": \"ASLSingleLabel\",\n",
    "    \"sigmoid_f1\": \"SigmoidF1\",\n",
    "}\n",
    "hidden_layers = [64, 128, 256]\n",
    "\n",
    "# Linear model grid search\n",
    "linear_grid_search = list(itertools.product([\"linear\"], loss_params.keys()))\n",
    "for model_name, loss_name in linear_grid_search:\n",
    "    model = layer_params[model_name]\n",
    "    loss = loss_params[loss_name]\n",
    "    print(model)\n",
    "    print(loss)"
   ]
  },
  {
   "cell_type": "code",
   "execution_count": null,
   "metadata": {},
   "outputs": [],
   "source": []
  }
 ],
 "metadata": {
  "kernelspec": {
   "display_name": "Python 3",
   "language": "python",
   "name": "python3"
  },
  "language_info": {
   "codemirror_mode": {
    "name": "ipython",
    "version": 3
   },
   "file_extension": ".py",
   "mimetype": "text/x-python",
   "name": "python",
   "nbconvert_exporter": "python",
   "pygments_lexer": "ipython3",
   "version": "3.10.12"
  }
 },
 "nbformat": 4,
 "nbformat_minor": 2
}
