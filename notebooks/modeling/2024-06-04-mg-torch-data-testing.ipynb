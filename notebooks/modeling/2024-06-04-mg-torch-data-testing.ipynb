{
 "cells": [
  {
   "cell_type": "code",
   "execution_count": 1,
   "metadata": {},
   "outputs": [
    {
     "name": "stderr",
     "output_type": "stream",
     "text": [
      "Setting default log level to \"WARN\".\n",
      "To adjust logging level use sc.setLogLevel(newLevel). For SparkR, use setLogLevel(newLevel).\n",
      "24/06/04 16:13:40 WARN NativeCodeLoader: Unable to load native-hadoop library for your platform... using builtin-java classes where applicable\n",
      "24/06/04 16:13:40 WARN SparkConf: Note that spark.local.dir will be overridden by the value set by the cluster manager (via SPARK_LOCAL_DIRS in mesos/standalone/kubernetes and LOCAL_DIRS in YARN).\n"
     ]
    },
    {
     "data": {
      "text/html": [
       "\n",
       "            <div>\n",
       "                <p><b>SparkSession - in-memory</b></p>\n",
       "                \n",
       "        <div>\n",
       "            <p><b>SparkContext</b></p>\n",
       "\n",
       "            <p><a href=\"http://birdclef-dev.us-central1-a.c.dsgt-clef-2024.internal:4040\">Spark UI</a></p>\n",
       "\n",
       "            <dl>\n",
       "              <dt>Version</dt>\n",
       "                <dd><code>v3.5.0</code></dd>\n",
       "              <dt>Master</dt>\n",
       "                <dd><code>local[*]</code></dd>\n",
       "              <dt>AppName</dt>\n",
       "                <dd><code>pyspark-shell</code></dd>\n",
       "            </dl>\n",
       "        </div>\n",
       "        \n",
       "            </div>\n",
       "        "
      ],
      "text/plain": [
       "<pyspark.sql.session.SparkSession at 0x78666f7c9b10>"
      ]
     },
     "execution_count": 1,
     "metadata": {},
     "output_type": "execute_result"
    }
   ],
   "source": [
    "%load_ext autoreload\n",
    "%autoreload 2\n",
    "from birdclef.utils import get_spark\n",
    "from pyspark.sql import functions as F\n",
    "\n",
    "spark = get_spark()\n",
    "spark"
   ]
  },
  {
   "cell_type": "code",
   "execution_count": 2,
   "metadata": {},
   "outputs": [
    {
     "name": "stderr",
     "output_type": "stream",
     "text": [
      "                                                                                \r"
     ]
    },
    {
     "name": "stdout",
     "output_type": "stream",
     "text": [
      "root\n",
      " |-- name: string (nullable = true)\n",
      " |-- chunk_5s: long (nullable = true)\n",
      " |-- embedding: array (nullable = true)\n",
      " |    |-- element: float (containsNull = true)\n",
      " |-- logits: array (nullable = true)\n",
      " |    |-- element: float (containsNull = true)\n",
      "\n"
     ]
    },
    {
     "name": "stderr",
     "output_type": "stream",
     "text": [
      "                                                                                \r"
     ]
    },
    {
     "name": "stdout",
     "output_type": "stream",
     "text": [
      "+------------+--------+--------------------+--------------------+\n",
      "|        name|chunk_5s|           embedding|              logits|\n",
      "+------------+--------+--------------------+--------------------+\n",
      "|XC134896.ogg|       0|[-0.01697171, -0....|[4.367853, -15.69...|\n",
      "|XC134896.ogg|       1|[0.08178271, -0.1...|[5.7584195, -14.0...|\n",
      "|XC134896.ogg|       2|[0.15756801, -0.1...|[5.41736, -14.507...|\n",
      "|XC134896.ogg|       3|[0.07789261, -0.1...|[7.383127, -14.17...|\n",
      "|XC134896.ogg|       4|[0.0338157, -0.11...|[5.162613, -13.20...|\n",
      "|XC134896.ogg|       5|[0.027517725, -0....|[4.7014565, -15.4...|\n",
      "|XC164848.ogg|       0|[-0.037761074, 0....|[-1.5938205, -12....|\n",
      "|XC164848.ogg|       1|[0.04028651, -0.0...|[-0.54023355, -11...|\n",
      "|XC164848.ogg|       2|[0.020008465, -0....|[0.059392925, -11...|\n",
      "|XC164848.ogg|       3|[0.011329669, 0.0...|[-8.847201, -14.5...|\n",
      "|XC175797.ogg|       0|[-0.06643575, 0.0...|[6.4482026, -7.80...|\n",
      "|XC175797.ogg|       1|[-2.4496057E-4, 0...|[3.09487, -9.9500...|\n",
      "|XC175797.ogg|       2|[-0.003441513, -0...|[0.99849284, -10....|\n",
      "|XC175797.ogg|       3|[-0.096904404, -0...|[-1.322385, -10.2...|\n",
      "|XC175797.ogg|       4|[0.009180235, 0.1...|[-0.52218044, -12...|\n",
      "|XC175797.ogg|       5|[-0.028087873, -0...|[1.5259247, -12.7...|\n",
      "|XC207738.ogg|       0|[0.08060375, -0.0...|[-3.881069, -10.6...|\n",
      "|XC207738.ogg|       1|[-0.025703251, -0...|[-4.178874, -11.7...|\n",
      "|XC207738.ogg|       2|[-0.021652581, 0....|[-5.0590982, -10....|\n",
      "|XC209218.ogg|       0|[-0.03283344, 0.0...|[-7.7088494, -13....|\n",
      "+------------+--------+--------------------+--------------------+\n",
      "only showing top 20 rows\n",
      "\n"
     ]
    },
    {
     "data": {
      "text/plain": [
       "924"
      ]
     },
     "execution_count": 2,
     "metadata": {},
     "output_type": "execute_result"
    }
   ],
   "source": [
    "path = \"gs://dsgt-clef-birdclef-2024/data/processed/birdclef-2024/asbfly.parquet\"\n",
    "df = spark.read.parquet(path).cache()\n",
    "df.printSchema()\n",
    "df.show()\n",
    "df.count()"
   ]
  },
  {
   "cell_type": "code",
   "execution_count": null,
   "metadata": {},
   "outputs": [],
   "source": []
  },
  {
   "cell_type": "code",
   "execution_count": null,
   "metadata": {},
   "outputs": [],
   "source": []
  }
 ],
 "metadata": {
  "kernelspec": {
   "display_name": "Python 3",
   "language": "python",
   "name": "python3"
  },
  "language_info": {
   "codemirror_mode": {
    "name": "ipython",
    "version": 3
   },
   "file_extension": ".py",
   "mimetype": "text/x-python",
   "name": "python",
   "nbconvert_exporter": "python",
   "pygments_lexer": "ipython3",
   "version": "3.10.12"
  }
 },
 "nbformat": 4,
 "nbformat_minor": 2
}
