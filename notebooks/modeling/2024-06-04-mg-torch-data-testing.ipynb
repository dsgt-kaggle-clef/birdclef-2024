{
 "cells": [
  {
   "cell_type": "markdown",
   "metadata": {},
   "source": [
    "# Transforming data for Torch model"
   ]
  },
  {
   "cell_type": "code",
   "execution_count": 1,
   "metadata": {},
   "outputs": [
    {
     "name": "stderr",
     "output_type": "stream",
     "text": [
      "Setting default log level to \"WARN\".\n",
      "To adjust logging level use sc.setLogLevel(newLevel). For SparkR, use setLogLevel(newLevel).\n",
      "24/06/08 02:12:33 WARN NativeCodeLoader: Unable to load native-hadoop library for your platform... using builtin-java classes where applicable\n",
      "24/06/08 02:12:33 WARN SparkConf: Note that spark.local.dir will be overridden by the value set by the cluster manager (via SPARK_LOCAL_DIRS in mesos/standalone/kubernetes and LOCAL_DIRS in YARN).\n"
     ]
    },
    {
     "data": {
      "text/html": [
       "\n",
       "            <div>\n",
       "                <p><b>SparkSession - in-memory</b></p>\n",
       "                \n",
       "        <div>\n",
       "            <p><b>SparkContext</b></p>\n",
       "\n",
       "            <p><a href=\"http://regional-gpu-dev-us-east4-a.us-east4-a.c.dsgt-clef-2024.internal:4040\">Spark UI</a></p>\n",
       "\n",
       "            <dl>\n",
       "              <dt>Version</dt>\n",
       "                <dd><code>v3.5.1</code></dd>\n",
       "              <dt>Master</dt>\n",
       "                <dd><code>local[8]</code></dd>\n",
       "              <dt>AppName</dt>\n",
       "                <dd><code>birdclef</code></dd>\n",
       "            </dl>\n",
       "        </div>\n",
       "        \n",
       "            </div>\n",
       "        "
      ],
      "text/plain": [
       "<pyspark.sql.session.SparkSession at 0x716f780f3d00>"
      ]
     },
     "execution_count": 1,
     "metadata": {},
     "output_type": "execute_result"
    }
   ],
   "source": [
    "%load_ext autoreload\n",
    "%autoreload 2\n",
    "from birdclef.utils import get_spark\n",
    "from pyspark.sql import functions as F\n",
    "\n",
    "spark = get_spark()\n",
    "spark"
   ]
  },
  {
   "cell_type": "code",
   "execution_count": 2,
   "metadata": {},
   "outputs": [
    {
     "name": "stderr",
     "output_type": "stream",
     "text": [
      "                                                                                \r"
     ]
    },
    {
     "name": "stdout",
     "output_type": "stream",
     "text": [
      "root\n",
      " |-- name: string (nullable = true)\n",
      " |-- chunk_5s: long (nullable = true)\n",
      " |-- embedding: array (nullable = true)\n",
      " |    |-- element: float (containsNull = true)\n",
      " |-- logits: array (nullable = true)\n",
      " |    |-- element: float (containsNull = true)\n",
      "\n"
     ]
    },
    {
     "name": "stderr",
     "output_type": "stream",
     "text": [
      "                                                                                \r"
     ]
    },
    {
     "name": "stdout",
     "output_type": "stream",
     "text": [
      "+------------+--------+--------------------+--------------------+\n",
      "|        name|chunk_5s|           embedding|              logits|\n",
      "+------------+--------+--------------------+--------------------+\n",
      "|XC134896.ogg|       0|[-0.01697171, -0....|[4.367853, -15.69...|\n",
      "|XC134896.ogg|       1|[0.08178271, -0.1...|[5.7584195, -14.0...|\n",
      "|XC134896.ogg|       2|[0.15756801, -0.1...|[5.41736, -14.507...|\n",
      "|XC134896.ogg|       3|[0.07789261, -0.1...|[7.383127, -14.17...|\n",
      "|XC134896.ogg|       4|[0.0338157, -0.11...|[5.162613, -13.20...|\n",
      "|XC134896.ogg|       5|[0.027517725, -0....|[4.7014565, -15.4...|\n",
      "|XC164848.ogg|       0|[-0.037761074, 0....|[-1.5938205, -12....|\n",
      "|XC164848.ogg|       1|[0.04028651, -0.0...|[-0.54023355, -11...|\n",
      "|XC164848.ogg|       2|[0.020008465, -0....|[0.059392925, -11...|\n",
      "|XC164848.ogg|       3|[0.011329669, 0.0...|[-8.847201, -14.5...|\n",
      "|XC175797.ogg|       0|[-0.06643575, 0.0...|[6.4482026, -7.80...|\n",
      "|XC175797.ogg|       1|[-2.4496057E-4, 0...|[3.09487, -9.9500...|\n",
      "|XC175797.ogg|       2|[-0.003441513, -0...|[0.99849284, -10....|\n",
      "|XC175797.ogg|       3|[-0.096904404, -0...|[-1.322385, -10.2...|\n",
      "|XC175797.ogg|       4|[0.009180235, 0.1...|[-0.52218044, -12...|\n",
      "|XC175797.ogg|       5|[-0.028087873, -0...|[1.5259247, -12.7...|\n",
      "|XC207738.ogg|       0|[0.08060375, -0.0...|[-3.881069, -10.6...|\n",
      "|XC207738.ogg|       1|[-0.025703251, -0...|[-4.178874, -11.7...|\n",
      "|XC207738.ogg|       2|[-0.021652581, 0....|[-5.0590982, -10....|\n",
      "|XC209218.ogg|       0|[-0.03283344, 0.0...|[-7.7088494, -13....|\n",
      "+------------+--------+--------------------+--------------------+\n",
      "only showing top 20 rows\n",
      "\n"
     ]
    },
    {
     "data": {
      "text/plain": [
       "924"
      ]
     },
     "execution_count": 2,
     "metadata": {},
     "output_type": "execute_result"
    }
   ],
   "source": [
    "path = \"gs://dsgt-clef-birdclef-2024/data/processed/birdclef-2024/asbfly.parquet\"\n",
    "df = spark.read.parquet(path).cache()\n",
    "df.printSchema()\n",
    "df.show()\n",
    "df.count()"
   ]
  },
  {
   "cell_type": "code",
   "execution_count": 3,
   "metadata": {},
   "outputs": [],
   "source": [
    "from birdclef.transforms import SpeciesData\n",
    "\n",
    "sp = SpeciesData()\n",
    "species = sp.read_species_from_file()"
   ]
  },
  {
   "cell_type": "code",
   "execution_count": 4,
   "metadata": {},
   "outputs": [],
   "source": [
    "def sigmoid_udf(x):\n",
    "    \"\"\"\n",
    "    compute the sigmoid of the columns and only keep\n",
    "    the rows that are above a certain threshold\n",
    "    \"\"\"\n",
    "    return 1 / (1 + F.exp(-F.col(x)))\n",
    "\n",
    "\n",
    "def transform(df):\n",
    "    exploded = (\n",
    "        df.select(\n",
    "            F.concat_ws(\"_\", \"name\", \"chunk_5s\").alias(\"id\"),\n",
    "            F.arrays_zip(\"logits\", F.lit(species).alias(\"species\")).alias(\"logits\"),\n",
    "        )\n",
    "        .withColumn(\"exploded\", F.explode(\"logits\"))\n",
    "        .select(\"id\", \"exploded.*\")\n",
    "        .withColumn(\"sigmoid\", sigmoid_udf(\"logits\"))\n",
    "    ).cache()\n",
    "    # get create column of an array of sigmoid logits grouped by id\n",
    "    grouped_df = (\n",
    "        exploded.orderBy(\"id\", \"species\")\n",
    "        .groupBy(\"id\")\n",
    "        .agg(F.collect_list(F.col(\"sigmoid\")).alias(\"sigmoid_logits\"))\n",
    "    )\n",
    "    # get embeddings\n",
    "    df_id = df.select(F.concat_ws(\"_\", \"name\", \"chunk_5s\").alias(\"id\"), \"embedding\")\n",
    "    final_df = grouped_df.join(df_id, on=\"id\", how=\"inner\")\n",
    "    return final_df"
   ]
  },
  {
   "cell_type": "code",
   "execution_count": 5,
   "metadata": {},
   "outputs": [
    {
     "name": "stderr",
     "output_type": "stream",
     "text": [
      "[Stage 11:>                                                         (0 + 2) / 2]\r"
     ]
    },
    {
     "name": "stdout",
     "output_type": "stream",
     "text": [
      "+--------------+------------------------------+------------------------------+\n",
      "|            id|                sigmoid_logits|                     embedding|\n",
      "+--------------+------------------------------+------------------------------+\n",
      "|XC134896.ogg_0|[0.9874803002619361, 1.5216...|[-0.01697171, -0.14812551, ...|\n",
      "|XC134896.ogg_1|[0.9968538337772187, 8.0886...|[0.08178271, -0.10625668, 0...|\n",
      "|XC134896.ogg_2|[0.9955807658044297, 5.0082...|[0.15756801, -0.12693903, 0...|\n",
      "|XC134896.ogg_3|[0.9993787324137937, 6.9467...|[0.07789261, -0.10598332, 0...|\n",
      "|XC134896.ogg_4|[0.9943058918488539, 1.8360...|[0.0338157, -0.112703614, 0...|\n",
      "|XC134896.ogg_5|[0.9909997020094458, 1.8662...|[0.027517725, -0.052032292,...|\n",
      "|XC164848.ogg_0|[0.16884706474015923, 5.010...|[-0.037761074, 0.0027916778...|\n",
      "|XC164848.ogg_1|[0.3681332536829722, 1.0093...|[0.04028651, -0.0765781, 0....|\n",
      "|XC164848.ogg_2|[0.514843868091535, 7.68173...|[0.020008465, -0.10142819, ...|\n",
      "|XC164848.ogg_3|[1.4376290324810643E-4, 4.7...|[0.011329669, 0.031355012, ...|\n",
      "|XC175797.ogg_0|[0.9984191375451232, 4.0617...|[-0.06643575, 0.061332323, ...|\n",
      "|XC175797.ogg_1|[0.9566806446615292, 4.7725...|[-2.4496057E-4, 0.022202978...|\n",
      "|XC175797.ogg_2|[0.7307621492161273, 2.7263...|[-0.003441513, -0.056109548...|\n",
      "|XC175797.ogg_3|[0.2104217730280931, 3.7060...|[-0.096904404, -0.022243302...|\n",
      "|XC175797.ogg_4|[0.3723425158617788, 2.9545...|[0.009180235, 0.11021991, 0...|\n",
      "|XC175797.ogg_5|[0.8214092639778946, 2.7796...|[-0.028087873, -0.007968671...|\n",
      "|XC207738.ogg_0|[0.02021181759835142, 2.258...|[0.08060375, -0.048584707, ...|\n",
      "|XC207738.ogg_1|[0.01508470960828548, 7.880...|[-0.025703251, -0.09057532,...|\n",
      "|XC207738.ogg_2|[0.0063112000166462906, 2.3...|[-0.021652581, 0.07695898, ...|\n",
      "|XC209218.ogg_0|[4.4863623438832877E-4, 1.8...|[-0.03283344, 0.006332408, ...|\n",
      "+--------------+------------------------------+------------------------------+\n",
      "only showing top 20 rows\n",
      "\n"
     ]
    },
    {
     "name": "stderr",
     "output_type": "stream",
     "text": [
      "                                                                                \r"
     ]
    }
   ],
   "source": [
    "# transform DF\n",
    "transformed_df = transform(df)\n",
    "transformed_df.show(truncate=30)"
   ]
  },
  {
   "cell_type": "code",
   "execution_count": 6,
   "metadata": {},
   "outputs": [
    {
     "name": "stdout",
     "output_type": "stream",
     "text": [
      "182\n"
     ]
    }
   ],
   "source": [
    "print(len(transformed_df.first().sigmoid_logits))"
   ]
  },
  {
   "cell_type": "markdown",
   "metadata": {},
   "source": [
    "### import processed data"
   ]
  },
  {
   "cell_type": "code",
   "execution_count": null,
   "metadata": {},
   "outputs": [],
   "source": [
    "root_path = \"gs://dsgt-clef-birdclef-2024/data\"\n",
    "emb_path = \"processed/birdclef-2024-train-google-embedding/data\"\n",
    "gcs_path = f\"{root_path}/{emb_path}\"\n",
    "df = spark.read.parquet(gcs_path).cache()\n",
    "df.printSchema()\n",
    "df.show()\n",
    "df.count()"
   ]
  },
  {
   "cell_type": "markdown",
   "metadata": {},
   "source": [
    "### import intermediate google embeddings data"
   ]
  },
  {
   "cell_type": "code",
   "execution_count": null,
   "metadata": {},
   "outputs": [],
   "source": [
    "root_path = \"gs://dsgt-clef-birdclef-2024/data\"\n",
    "emb_path = \"intermediate/google_embeddings/v1-transformed\"\n",
    "gcs_path = f\"{root_path}/{emb_path}\"\n",
    "df = spark.read.parquet(gcs_path).cache()\n",
    "df.printSchema()\n",
    "df.show()\n",
    "df.count()"
   ]
  },
  {
   "cell_type": "code",
   "execution_count": null,
   "metadata": {},
   "outputs": [],
   "source": [
    "# get parameters for the model\n",
    "num_features = int(len(df.select(\"embedding\").first()[\"embedding\"]))\n",
    "num_classes = int(len(df.select(\"sigmoid_logits\").first()[\"sigmoid_logits\"]))\n",
    "print(f\"num features: {num_features}\")\n",
    "print(f\"num classes: {num_classes}\")"
   ]
  },
  {
   "cell_type": "code",
   "execution_count": 38,
   "metadata": {},
   "outputs": [],
   "source": [
    "class HyperparameterGrid:\n",
    "    def get_hyperparameter_config(self):\n",
    "        # Model and Loss mappings\n",
    "        model_params = {\n",
    "            \"linear\": \"LinearClassifier\",\n",
    "            \"two_layer\": \"TwoLayerClassifier\",\n",
    "        }\n",
    "        loss_params = {\n",
    "            \"bce\": \"nn.BCEWithLogitsLoss\",\n",
    "            \"asl\": \"ASLSingleLabel\",\n",
    "            \"sigmoid_f1\": \"SigmoidF1\",\n",
    "        }\n",
    "        # Hyperparameter grid\n",
    "        return model_params, loss_params"
   ]
  },
  {
   "cell_type": "code",
   "execution_count": 43,
   "metadata": {},
   "outputs": [
    {
     "name": "stdout",
     "output_type": "stream",
     "text": [
      "['linear', 'two_layer']\n",
      "['bce', 'asl', 'sigmoid_f1']\n"
     ]
    }
   ],
   "source": [
    "hp = HyperparameterGrid()\n",
    "model_params, loss_params = hp.get_hyperparameter_config()\n",
    "print(list(model_params.keys()))\n",
    "print(list(loss_params.keys()))"
   ]
  },
  {
   "cell_type": "code",
   "execution_count": null,
   "metadata": {},
   "outputs": [],
   "source": []
  },
  {
   "cell_type": "code",
   "execution_count": null,
   "metadata": {},
   "outputs": [],
   "source": []
  }
 ],
 "metadata": {
  "kernelspec": {
   "display_name": "Python 3",
   "language": "python",
   "name": "python3"
  },
  "language_info": {
   "codemirror_mode": {
    "name": "ipython",
    "version": 3
   },
   "file_extension": ".py",
   "mimetype": "text/x-python",
   "name": "python",
   "nbconvert_exporter": "python",
   "pygments_lexer": "ipython3",
   "version": "3.10.12"
  }
 },
 "nbformat": 4,
 "nbformat_minor": 2
}
