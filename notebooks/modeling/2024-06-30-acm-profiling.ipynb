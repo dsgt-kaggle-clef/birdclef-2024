{
 "cells": [
  {
   "cell_type": "code",
   "execution_count": 3,
   "metadata": {},
   "outputs": [
    {
     "name": "stdout",
     "output_type": "stream",
     "text": [
      "/home/anthony/birdclef-2024\n",
      "/home/anthony/birdclef-2024\n"
     ]
    },
    {
     "name": "stderr",
     "output_type": "stream",
     "text": [
      "/usr/local/lib/python3.10/dist-packages/IPython/core/magics/osm.py:417: UserWarning: using dhist requires you to install the `pickleshare` library.\n",
      "  self.shell.db['dhist'] = compress_dhist(dhist)[-100:]\n"
     ]
    }
   ],
   "source": [
    "%cd ../.."
   ]
  },
  {
   "cell_type": "code",
   "execution_count": 8,
   "metadata": {},
   "outputs": [
    {
     "name": "stdout",
     "output_type": "stream",
     "text": [
      "   ncalls  tottime  percall  cumtime  percall filename:lineno(function)\n",
      "logs/predict-torchaudio.txt\n",
      "       38    1.086    0.029    1.086    0.029 {method 'poll' of 'select.poll' objects}\n",
      "logs/predict-birdnet_passthrough_compiled.txt\n",
      "       45   56.939    1.265   56.939    1.265 {method 'poll' of 'select.poll' objects}\n",
      "logs/predict-vocalization_passthrough_noncompiled.txt\n",
      "       59  188.638    3.197  188.638    3.197 {method 'poll' of 'select.poll' objects}\n",
      "logs/predict-vocalization_linear_compiled.txt\n",
      "       48   64.643    1.347   64.643    1.347 {method 'poll' of 'select.poll' objects}\n",
      "logs/predict-encodec_passthrough_compiled.txt\n",
      "       77  213.722    2.776  213.722    2.776 {method 'poll' of 'select.poll' objects}\n",
      "logs/predict-encodec_passthrough_noncompiled.txt\n",
      "       64  156.377    2.443  156.377    2.443 {method 'poll' of 'select.poll' objects}\n",
      "logs/predict-vocalization_passthrough_compiled.txt\n",
      "       26   24.001    0.923   24.001    0.923 {method 'poll' of 'select.poll' objects}\n"
     ]
    }
   ],
   "source": [
    "from pathlib import Path\n",
    "\n",
    "paths = Path(\"logs\").glob(\"*\")\n",
    "! cat {path} | grep 'ncalls' | head -n1\n",
    "for path in paths:\n",
    "    ! echo {path}\n",
    "    ! cat {path} | grep \"method 'poll'\" | head -n1"
   ]
  }
 ],
 "metadata": {
  "kernelspec": {
   "display_name": "Python 3",
   "language": "python",
   "name": "python3"
  },
  "language_info": {
   "codemirror_mode": {
    "name": "ipython",
    "version": 3
   },
   "file_extension": ".py",
   "mimetype": "text/x-python",
   "name": "python",
   "nbconvert_exporter": "python",
   "pygments_lexer": "ipython3",
   "version": "3.10.12"
  }
 },
 "nbformat": 4,
 "nbformat_minor": 2
}
