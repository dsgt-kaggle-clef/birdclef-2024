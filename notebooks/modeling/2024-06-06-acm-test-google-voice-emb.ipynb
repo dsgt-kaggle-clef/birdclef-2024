{
 "cells": [
  {
   "cell_type": "code",
   "execution_count": 1,
   "metadata": {},
   "outputs": [
    {
     "name": "stderr",
     "output_type": "stream",
     "text": [
      "Setting default log level to \"WARN\".\n",
      "To adjust logging level use sc.setLogLevel(newLevel). For SparkR, use setLogLevel(newLevel).\n",
      "24/06/06 14:31:39 WARN NativeCodeLoader: Unable to load native-hadoop library for your platform... using builtin-java classes where applicable\n",
      "24/06/06 14:31:39 WARN SparkConf: Note that spark.local.dir will be overridden by the value set by the cluster manager (via SPARK_LOCAL_DIRS in mesos/standalone/kubernetes and LOCAL_DIRS in YARN).\n",
      "24/06/06 14:31:40 WARN Utils: Service 'SparkUI' could not bind on port 4040. Attempting port 4041.\n"
     ]
    },
    {
     "data": {
      "text/html": [
       "\n",
       "            <div>\n",
       "                <p><b>SparkSession - in-memory</b></p>\n",
       "                \n",
       "        <div>\n",
       "            <p><b>SparkContext</b></p>\n",
       "\n",
       "            <p><a href=\"http://birdclef-dev.us-central1-a.c.dsgt-clef-2024.internal:4041\">Spark UI</a></p>\n",
       "\n",
       "            <dl>\n",
       "              <dt>Version</dt>\n",
       "                <dd><code>v3.5.0</code></dd>\n",
       "              <dt>Master</dt>\n",
       "                <dd><code>local[4]</code></dd>\n",
       "              <dt>AppName</dt>\n",
       "                <dd><code>birdclef</code></dd>\n",
       "            </dl>\n",
       "        </div>\n",
       "        \n",
       "            </div>\n",
       "        "
      ],
      "text/plain": [
       "<pyspark.sql.session.SparkSession at 0x7fde24326410>"
      ]
     },
     "execution_count": 1,
     "metadata": {},
     "output_type": "execute_result"
    }
   ],
   "source": [
    "%load_ext autoreload\n",
    "%autoreload 2\n",
    "from birdclef.utils import get_spark\n",
    "from pyspark.sql import functions as F\n",
    "\n",
    "spark = get_spark()\n",
    "spark"
   ]
  },
  {
   "cell_type": "code",
   "execution_count": 3,
   "metadata": {},
   "outputs": [
    {
     "name": "stderr",
     "output_type": "stream",
     "text": [
      "24/06/06 14:55:38 WARN CacheManager: Asked to cache already cached data.\n"
     ]
    },
    {
     "name": "stdout",
     "output_type": "stream",
     "text": [
      "root\n",
      " |-- name: string (nullable = true)\n",
      " |-- chunk_5s: long (nullable = true)\n",
      " |-- embedding: array (nullable = true)\n",
      " |    |-- element: float (containsNull = true)\n",
      " |-- logits: array (nullable = true)\n",
      " |    |-- element: float (containsNull = true)\n",
      "\n",
      "+----+--------+--------------------+--------------------+\n",
      "|name|chunk_5s|           embedding|              logits|\n",
      "+----+--------+--------------------+--------------------+\n",
      "| mnt|       3|[0.07789261, -0.1...|[-Infinity, -Infi...|\n",
      "| mnt|       1|[0.08178271, -0.1...|[-Infinity, -Infi...|\n",
      "| mnt|       5|[0.027517725, -0....|[-Infinity, -Infi...|\n",
      "| mnt|       0|[-0.037761074, 0....|[-Infinity, -Infi...|\n",
      "| mnt|       2|[-0.021652581, 0....|[-Infinity, -Infi...|\n",
      "| mnt|       5|[-0.03422421, 0.1...|[-Infinity, -Infi...|\n",
      "| mnt|       4|[-0.100453906, -0...|[-Infinity, -Infi...|\n",
      "| mnt|       4|[0.0338157, -0.11...|[-Infinity, -Infi...|\n",
      "| mnt|       0|[-0.01697171, -0....|[-Infinity, -Infi...|\n",
      "| mnt|       0|[-0.03283344, 0.0...|[-Infinity, -Infi...|\n",
      "| mnt|       1|[-0.04918377, -0....|[-Infinity, -Infi...|\n",
      "| mnt|       3|[-0.096904404, -0...|[-Infinity, -Infi...|\n",
      "| mnt|       7|[-0.0076799854, 0...|[-Infinity, -Infi...|\n",
      "| mnt|       9|[-0.07511859, 0.0...|[-Infinity, -Infi...|\n",
      "| mnt|       2|[0.020008465, -0....|[-Infinity, -Infi...|\n",
      "| mnt|       1|[-0.025703251, -0...|[-Infinity, -Infi...|\n",
      "| mnt|       8|[-0.023736086, -0...|[-Infinity, -Infi...|\n",
      "| mnt|       4|[0.009180235, 0.1...|[-Infinity, -Infi...|\n",
      "| mnt|       1|[0.04028651, -0.0...|[-Infinity, -Infi...|\n",
      "| mnt|       5|[-0.028087873, -0...|[-Infinity, -Infi...|\n",
      "+----+--------+--------------------+--------------------+\n",
      "only showing top 20 rows\n",
      "\n",
      "-RECORD 0-------------------------------------------------------------------------------------\n",
      " name      | mnt                                                                              \n",
      " chunk_5s  | 3                                                                                \n",
      " embedding | [0.07789261, -0.10598332, 0.08386033, 0.027426595, 0.23240113, -0.016807029, ... \n",
      " logits    | [-Infinity, -Infinity, 7.383127, -14.179815, -17.372623, -18.291342, -13.0871... \n",
      "-RECORD 1-------------------------------------------------------------------------------------\n",
      " name      | mnt                                                                              \n",
      " chunk_5s  | 1                                                                                \n",
      " embedding | [0.08178271, -0.10625668, 0.061263498, 0.057736643, 0.063044615, -0.090819195... \n",
      " logits    | [-Infinity, -Infinity, 5.7584195, -14.027633, -17.235388, -19.099937, -14.149... \n",
      "-RECORD 2-------------------------------------------------------------------------------------\n",
      " name      | mnt                                                                              \n",
      " chunk_5s  | 5                                                                                \n",
      " embedding | [0.027517725, -0.052032292, -0.0057644956, 0.0033228777, 0.085495256, -0.0957... \n",
      " logits    | [-Infinity, -Infinity, 4.7014565, -15.494174, -15.66756, -18.603497, -13.4972... \n",
      "only showing top 3 rows\n",
      "\n"
     ]
    },
    {
     "data": {
      "text/plain": [
       "29"
      ]
     },
     "execution_count": 3,
     "metadata": {},
     "output_type": "execute_result"
    }
   ],
   "source": [
    "path = \"gs://dsgt-clef-birdclef-2024/data/processed/google_embeddings/v1\"\n",
    "df = spark.read.parquet(path).cache()\n",
    "df.printSchema()\n",
    "df.show()\n",
    "df.show(n=3, truncate=80, vertical=True)\n",
    "df.count()"
   ]
  }
 ],
 "metadata": {
  "kernelspec": {
   "display_name": "Python 3",
   "language": "python",
   "name": "python3"
  },
  "language_info": {
   "codemirror_mode": {
    "name": "ipython",
    "version": 3
   },
   "file_extension": ".py",
   "mimetype": "text/x-python",
   "name": "python",
   "nbconvert_exporter": "python",
   "pygments_lexer": "ipython3",
   "version": "3.10.12"
  }
 },
 "nbformat": 4,
 "nbformat_minor": 2
}
