{
 "cells": [
  {
   "cell_type": "code",
   "execution_count": 1,
   "metadata": {},
   "outputs": [
    {
     "name": "stderr",
     "output_type": "stream",
     "text": [
      "Setting default log level to \"WARN\".\n",
      "To adjust logging level use sc.setLogLevel(newLevel). For SparkR, use setLogLevel(newLevel).\n",
      "24/06/06 15:04:22 WARN NativeCodeLoader: Unable to load native-hadoop library for your platform... using builtin-java classes where applicable\n",
      "24/06/06 15:04:22 WARN SparkConf: Note that spark.local.dir will be overridden by the value set by the cluster manager (via SPARK_LOCAL_DIRS in mesos/standalone/kubernetes and LOCAL_DIRS in YARN).\n"
     ]
    },
    {
     "data": {
      "text/html": [
       "\n",
       "            <div>\n",
       "                <p><b>SparkSession - in-memory</b></p>\n",
       "                \n",
       "        <div>\n",
       "            <p><b>SparkContext</b></p>\n",
       "\n",
       "            <p><a href=\"http://birdclef-dev.us-central1-a.c.dsgt-clef-2024.internal:4040\">Spark UI</a></p>\n",
       "\n",
       "            <dl>\n",
       "              <dt>Version</dt>\n",
       "                <dd><code>v3.5.0</code></dd>\n",
       "              <dt>Master</dt>\n",
       "                <dd><code>local[4]</code></dd>\n",
       "              <dt>AppName</dt>\n",
       "                <dd><code>birdclef</code></dd>\n",
       "            </dl>\n",
       "        </div>\n",
       "        \n",
       "            </div>\n",
       "        "
      ],
      "text/plain": [
       "<pyspark.sql.session.SparkSession at 0x72895f5b1ff0>"
      ]
     },
     "execution_count": 1,
     "metadata": {},
     "output_type": "execute_result"
    }
   ],
   "source": [
    "%load_ext autoreload\n",
    "%autoreload 2\n",
    "from birdclef.utils import get_spark\n",
    "from pyspark.sql import functions as F\n",
    "\n",
    "spark = get_spark()\n",
    "spark"
   ]
  },
  {
   "cell_type": "code",
   "execution_count": 2,
   "metadata": {},
   "outputs": [
    {
     "name": "stderr",
     "output_type": "stream",
     "text": [
      "                                                                                \r"
     ]
    },
    {
     "name": "stdout",
     "output_type": "stream",
     "text": [
      "root\n",
      " |-- name: string (nullable = true)\n",
      " |-- chunk_5s: long (nullable = true)\n",
      " |-- embedding: array (nullable = true)\n",
      " |    |-- element: float (containsNull = true)\n",
      " |-- logits: array (nullable = true)\n",
      " |    |-- element: float (containsNull = true)\n",
      "\n"
     ]
    },
    {
     "name": "stderr",
     "output_type": "stream",
     "text": [
      "                                                                                \r"
     ]
    },
    {
     "name": "stdout",
     "output_type": "stream",
     "text": [
      "+-------------------+--------+--------------------+--------------------+\n",
      "|               name|chunk_5s|           embedding|              logits|\n",
      "+-------------------+--------+--------------------+--------------------+\n",
      "|asbfly/XC134896.ogg|       2|[0.15756801, -0.1...|[-Infinity, -Infi...|\n",
      "|asbfly/XC164848.ogg|       1|[0.04028651, -0.0...|[-Infinity, -Infi...|\n",
      "|asbfly/XC175797.ogg|       0|[-0.06643575, 0.0...|[-Infinity, -Infi...|\n",
      "|asbfly/XC207738.ogg|       2|[-0.021652581, 0....|[-Infinity, -Infi...|\n",
      "|asbfly/XC134896.ogg|       4|[0.0338157, -0.11...|[-Infinity, -Infi...|\n",
      "|asbfly/XC164848.ogg|       2|[0.020008465, -0....|[-Infinity, -Infi...|\n",
      "|asbfly/XC207738.ogg|       0|[0.08060375, -0.0...|[-Infinity, -Infi...|\n",
      "|asbfly/XC207738.ogg|       1|[-0.025703251, -0...|[-Infinity, -Infi...|\n",
      "|asbfly/XC134896.ogg|       1|[0.08178271, -0.1...|[-Infinity, -Infi...|\n",
      "|asbfly/XC134896.ogg|       5|[0.027517725, -0....|[-Infinity, -Infi...|\n",
      "|asbfly/XC164848.ogg|       3|[0.011329669, 0.0...|[-Infinity, -Infi...|\n",
      "|asbfly/XC175797.ogg|       5|[-0.028087873, -0...|[-Infinity, -Infi...|\n",
      "|asbfly/XC134896.ogg|       0|[-0.01697171, -0....|[-Infinity, -Infi...|\n",
      "|asbfly/XC134896.ogg|       3|[0.07789261, -0.1...|[-Infinity, -Infi...|\n",
      "|asbfly/XC164848.ogg|       0|[-0.037761074, 0....|[-Infinity, -Infi...|\n",
      "|asbfly/XC175797.ogg|       4|[0.009180235, 0.1...|[-Infinity, -Infi...|\n",
      "|asbfly/XC175797.ogg|       3|[-0.096904404, -0...|[-Infinity, -Infi...|\n",
      "|asbfly/XC175797.ogg|       1|[-2.4496057E-4, 0...|[-Infinity, -Infi...|\n",
      "|asbfly/XC209218.ogg|       1|[-0.04918377, -0....|[-Infinity, -Infi...|\n",
      "|asbfly/XC209218.ogg|       9|[-0.07511859, 0.0...|[-Infinity, -Infi...|\n",
      "+-------------------+--------+--------------------+--------------------+\n",
      "only showing top 20 rows\n",
      "\n",
      "-RECORD 0-------------------------------------------------------------------------------------\n",
      " name      | asbfly/XC134896.ogg                                                              \n",
      " chunk_5s  | 2                                                                                \n",
      " embedding | [0.15756801, -0.12693903, 0.046438444, 0.06726294, 0.16645116, -0.10551089, -... \n",
      " logits    | [-Infinity, -Infinity, 5.41736, -14.5070095, -17.30639, -17.258213, -13.55056... \n",
      "-RECORD 1-------------------------------------------------------------------------------------\n",
      " name      | asbfly/XC164848.ogg                                                              \n",
      " chunk_5s  | 1                                                                                \n",
      " embedding | [0.04028651, -0.0765781, 0.030264819, -0.018902875, 0.03320333, 0.050790776, ... \n",
      " logits    | [-Infinity, -Infinity, -0.54023355, -11.503614, -13.736494, -17.255775, -11.9... \n",
      "-RECORD 2-------------------------------------------------------------------------------------\n",
      " name      | asbfly/XC175797.ogg                                                              \n",
      " chunk_5s  | 0                                                                                \n",
      " embedding | [-0.06643575, 0.061332323, 0.13874945, 0.01046128, -0.053147245, 0.12970565, ... \n",
      " logits    | [-Infinity, -Infinity, 6.4482026, -7.808325, -8.855837, -15.940004, -6.875110... \n",
      "only showing top 3 rows\n",
      "\n"
     ]
    },
    {
     "data": {
      "text/plain": [
       "29"
      ]
     },
     "execution_count": 2,
     "metadata": {},
     "output_type": "execute_result"
    }
   ],
   "source": [
    "path = \"gs://dsgt-clef-birdclef-2024/data/processed/google_embeddings/v1\"\n",
    "df = spark.read.parquet(path).cache()\n",
    "df.printSchema()\n",
    "df.show()\n",
    "df.show(n=3, truncate=80, vertical=True)\n",
    "df.count()"
   ]
  }
 ],
 "metadata": {
  "kernelspec": {
   "display_name": "Python 3",
   "language": "python",
   "name": "python3"
  },
  "language_info": {
   "codemirror_mode": {
    "name": "ipython",
    "version": 3
   },
   "file_extension": ".py",
   "mimetype": "text/x-python",
   "name": "python",
   "nbconvert_exporter": "python",
   "pygments_lexer": "ipython3",
   "version": "3.10.12"
  }
 },
 "nbformat": 4,
 "nbformat_minor": 2
}
