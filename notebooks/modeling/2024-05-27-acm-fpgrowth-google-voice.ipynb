{
 "cells": [
  {
   "cell_type": "code",
   "execution_count": 1,
   "metadata": {},
   "outputs": [
    {
     "name": "stderr",
     "output_type": "stream",
     "text": [
      "Setting default log level to \"WARN\".\n",
      "To adjust logging level use sc.setLogLevel(newLevel). For SparkR, use setLogLevel(newLevel).\n",
      "24/05/27 20:49:18 WARN NativeCodeLoader: Unable to load native-hadoop library for your platform... using builtin-java classes where applicable\n",
      "24/05/27 20:49:18 WARN SparkConf: Note that spark.local.dir will be overridden by the value set by the cluster manager (via SPARK_LOCAL_DIRS in mesos/standalone/kubernetes and LOCAL_DIRS in YARN).\n"
     ]
    },
    {
     "data": {
      "text/html": [
       "\n",
       "            <div>\n",
       "                <p><b>SparkSession - in-memory</b></p>\n",
       "                \n",
       "        <div>\n",
       "            <p><b>SparkContext</b></p>\n",
       "\n",
       "            <p><a href=\"http://birdclef-dev.us-central1-a.c.dsgt-clef-2024.internal:4040\">Spark UI</a></p>\n",
       "\n",
       "            <dl>\n",
       "              <dt>Version</dt>\n",
       "                <dd><code>v3.5.0</code></dd>\n",
       "              <dt>Master</dt>\n",
       "                <dd><code>local[*]</code></dd>\n",
       "              <dt>AppName</dt>\n",
       "                <dd><code>pyspark-shell</code></dd>\n",
       "            </dl>\n",
       "        </div>\n",
       "        \n",
       "            </div>\n",
       "        "
      ],
      "text/plain": [
       "<pyspark.sql.session.SparkSession at 0x7a20fc351c30>"
      ]
     },
     "execution_count": 1,
     "metadata": {},
     "output_type": "execute_result"
    }
   ],
   "source": [
    "%load_ext autoreload\n",
    "%autoreload 2\n",
    "from birdclef.utils import get_spark\n",
    "from pyspark.sql import functions as F\n",
    "\n",
    "spark = get_spark()\n",
    "spark"
   ]
  },
  {
   "cell_type": "code",
   "execution_count": 44,
   "metadata": {},
   "outputs": [
    {
     "name": "stderr",
     "output_type": "stream",
     "text": [
      "24/05/27 21:19:46 WARN CacheManager: Asked to cache already cached data.\n"
     ]
    },
    {
     "name": "stdout",
     "output_type": "stream",
     "text": [
      "root\n",
      " |-- name: string (nullable = true)\n",
      " |-- chunk_5s: long (nullable = true)\n",
      " |-- embedding: array (nullable = true)\n",
      " |    |-- element: float (containsNull = true)\n",
      " |-- logits: array (nullable = true)\n",
      " |    |-- element: float (containsNull = true)\n",
      "\n",
      "+------------+--------+--------------------+--------------------+\n",
      "|        name|chunk_5s|           embedding|              logits|\n",
      "+------------+--------+--------------------+--------------------+\n",
      "|XC134896.ogg|       0|[-0.01697171, -0....|[4.367853, -15.69...|\n",
      "|XC134896.ogg|       1|[0.08178271, -0.1...|[5.7584195, -14.0...|\n",
      "|XC134896.ogg|       2|[0.15756801, -0.1...|[5.41736, -14.507...|\n",
      "|XC134896.ogg|       3|[0.07789261, -0.1...|[7.383127, -14.17...|\n",
      "|XC134896.ogg|       4|[0.0338157, -0.11...|[5.162613, -13.20...|\n",
      "|XC134896.ogg|       5|[0.027517725, -0....|[4.7014565, -15.4...|\n",
      "|XC164848.ogg|       0|[-0.037761074, 0....|[-1.5938205, -12....|\n",
      "|XC164848.ogg|       1|[0.04028651, -0.0...|[-0.54023355, -11...|\n",
      "|XC164848.ogg|       2|[0.020008465, -0....|[0.059392925, -11...|\n",
      "|XC164848.ogg|       3|[0.011329669, 0.0...|[-8.847201, -14.5...|\n",
      "|XC175797.ogg|       0|[-0.06643575, 0.0...|[6.4482026, -7.80...|\n",
      "|XC175797.ogg|       1|[-2.4496057E-4, 0...|[3.09487, -9.9500...|\n",
      "|XC175797.ogg|       2|[-0.003441513, -0...|[0.99849284, -10....|\n",
      "|XC175797.ogg|       3|[-0.096904404, -0...|[-1.322385, -10.2...|\n",
      "|XC175797.ogg|       4|[0.009180235, 0.1...|[-0.52218044, -12...|\n",
      "|XC175797.ogg|       5|[-0.028087873, -0...|[1.5259247, -12.7...|\n",
      "|XC207738.ogg|       0|[0.08060375, -0.0...|[-3.881069, -10.6...|\n",
      "|XC207738.ogg|       1|[-0.025703251, -0...|[-4.178874, -11.7...|\n",
      "|XC207738.ogg|       2|[-0.021652581, 0....|[-5.0590982, -10....|\n",
      "|XC209218.ogg|       0|[-0.03283344, 0.0...|[-7.7088494, -13....|\n",
      "+------------+--------+--------------------+--------------------+\n",
      "only showing top 20 rows\n",
      "\n"
     ]
    },
    {
     "data": {
      "text/plain": [
       "924"
      ]
     },
     "execution_count": 44,
     "metadata": {},
     "output_type": "execute_result"
    }
   ],
   "source": [
    "path = \"gs://dsgt-clef-birdclef-2024/data/processed/birdclef-2024/asbfly.parquet\"\n",
    "df = spark.read.parquet(path).cache()\n",
    "df.printSchema()\n",
    "df.show()\n",
    "df.count()"
   ]
  },
  {
   "cell_type": "code",
   "execution_count": 6,
   "metadata": {},
   "outputs": [
    {
     "data": {
      "text/plain": [
       "(182, ['asbfly', 'ashdro1', 'ashpri1'])"
      ]
     },
     "execution_count": 6,
     "metadata": {},
     "output_type": "execute_result"
    }
   ],
   "source": [
    "species_text = \"asbfly, ashdro1, ashpri1, ashwoo2, asikoe2, asiope1, aspfly1, aspswi1, barfly1, barswa, bcnher, bkcbul1, bkrfla1, bkskit1, bkwsti, bladro1, blaeag1, blakit1, blhori1, blnmon1, blrwar1, bncwoo3, brakit1, brasta1, brcful1, brfowl1, brnhao1, brnshr, brodro1, brwjac1, brwowl1, btbeat1, bwfshr1, categr, chbeat1, cohcuc1, comfla1, comgre, comior1, comkin1, commoo3, commyn, compea, comros, comsan, comtai1, copbar1, crbsun2, cregos1, crfbar1, crseag1, dafbab1, darter2, eaywag1, emedov2, eucdov, eurbla2, eurcoo, forwag1, gargan, gloibi, goflea1, graher1, grbeat1, grecou1, greegr, grefla1, grehor1, grejun2, grenig1, grewar3, grnsan, grnwar1, grtdro1, gryfra, grynig2, grywag, gybpri1, gyhcaf1, heswoo1, hoopoe, houcro1, houspa, inbrob1, indpit1, indrob1, indrol2, indtit1, ingori1, inpher1, insbab1, insowl1, integr, isbduc1, jerbus2, junbab2, junmyn1, junowl1, kenplo1, kerlau2, labcro1, laudov1, lblwar1, lesyel1, lewduc1, lirplo, litegr, litgre1, litspi1, litswi1, lobsun2, maghor2, malpar1, maltro1, malwoo1, marsan, mawthr1, moipig1, nilfly2, niwpig1, nutman, orihob2, oripip1, pabflo1, paisto1, piebus1, piekin1, placuc3, plaflo1, plapri1, plhpar1, pomgrp2, purher1, pursun3, pursun4, purswa3, putbab1, redspu1, rerswa1, revbul, rewbul, rewlap1, rocpig, rorpar, rossta2, rufbab3, ruftre2, rufwoo2, rutfly6, sbeowl1, scamin3, shikra1, smamin1, sohmyn1, spepic1, spodov, spoowl1, sqtbul1, stbkin1, sttwoo1, thbwar1, tibfly3, tilwar1, vefnut1, vehpar1, wbbfly1, wemhar1, whbbul2, whbsho3, whbtre1, whbwag1, whbwat1, whbwoo2, whcbar1, whiter2, whrmun, whtkin2, woosan, wynlau1, yebbab1, yebbul3, zitcis1\"\n",
    "species = species_text.split(\", \")\n",
    "len(species), species[:3]"
   ]
  },
  {
   "cell_type": "code",
   "execution_count": 9,
   "metadata": {},
   "outputs": [
    {
     "data": {
      "text/plain": [
       "182"
      ]
     },
     "execution_count": 9,
     "metadata": {},
     "output_type": "execute_result"
    }
   ],
   "source": [
    "len(df.first().logits)"
   ]
  },
  {
   "cell_type": "code",
   "execution_count": 34,
   "metadata": {},
   "outputs": [
    {
     "name": "stdout",
     "output_type": "stream",
     "text": [
      "+--------------+----------+-------+--------------------+\n",
      "|            id|    logits|species|             sigmoid|\n",
      "+--------------+----------+-------+--------------------+\n",
      "|XC134896.ogg_0|  4.367853| asbfly|  0.9874803002619361|\n",
      "|XC134896.ogg_0|-15.698274|ashdro1|1.521690427156765...|\n",
      "|XC134896.ogg_0| -16.88644|ashpri1|4.637801412704439E-8|\n",
      "|XC134896.ogg_0|-18.275568|ashwoo2|1.156169890980329...|\n",
      "|XC134896.ogg_0|-13.118709|asikoe2|2.007318878010537...|\n",
      "|XC134896.ogg_0| -19.20848|asiope1|4.548443094786813...|\n",
      "|XC134896.ogg_0|-15.332689|aspfly1|2.193297559658960...|\n",
      "|XC134896.ogg_0|-20.678583|aspswi1|1.045695998256712...|\n",
      "|XC134896.ogg_0|-14.366962|barfly1|5.761124273220311E-7|\n",
      "|XC134896.ogg_0|-10.036581| barswa|4.376724691542048...|\n",
      "+--------------+----------+-------+--------------------+\n",
      "only showing top 10 rows\n",
      "\n"
     ]
    },
    {
     "name": "stderr",
     "output_type": "stream",
     "text": [
      "[Stage 23:=============================>                            (1 + 1) / 2]\r"
     ]
    },
    {
     "name": "stdout",
     "output_type": "stream",
     "text": [
      "+-------+--------------+---------+-------+--------------------+\n",
      "|summary|            id|   logits|species|             sigmoid|\n",
      "+-------+--------------+---------+-------+--------------------+\n",
      "|  count|        168168|   168168| 168168|              168168|\n",
      "|   mean|          NULL|-Infinity|   NULL|0.002841634182035...|\n",
      "| stddev|          NULL|      NaN|   NULL|0.045182425840795626|\n",
      "|    min|XC134896.ogg_0|-Infinity| asbfly|                 0.0|\n",
      "|    max|XC858110.ogg_9| 9.859435|zitcis1|  0.9999477508707315|\n",
      "+-------+--------------+---------+-------+--------------------+\n",
      "\n"
     ]
    },
    {
     "name": "stderr",
     "output_type": "stream",
     "text": [
      "                                                                                \r"
     ]
    }
   ],
   "source": [
    "# compute the sigmoid of the columns and only keep the rows that are above a certain threshold\n",
    "def sigmoid_udf(x):\n",
    "    return 1 / (1 + F.exp(-F.col(x)))\n",
    "\n",
    "\n",
    "exploded = (\n",
    "    df.select(\n",
    "        F.concat_ws(\"_\", \"name\", \"chunk_5s\").alias(\"id\"),\n",
    "        F.arrays_zip(\"logits\", F.lit(species).alias(\"species\")).alias(\"logits\"),\n",
    "    )\n",
    "    .withColumn(\"exploded\", F.explode(\"logits\"))\n",
    "    .select(\"id\", \"exploded.*\")\n",
    "    .withColumn(\"sigmoid\", sigmoid_udf(\"logits\"))\n",
    ").cache()\n",
    "exploded.show(n=10)\n",
    "exploded.describe().show()"
   ]
  },
  {
   "cell_type": "code",
   "execution_count": 41,
   "metadata": {},
   "outputs": [
    {
     "name": "stdout",
     "output_type": "stream",
     "text": [
      "2.488640727539945e-06 3.6759336193415833e-06\n"
     ]
    },
    {
     "name": "stderr",
     "output_type": "stream",
     "text": [
      "24/05/27 21:18:41 WARN CacheManager: Asked to cache already cached data.\n"
     ]
    },
    {
     "name": "stdout",
     "output_type": "stream",
     "text": [
      "+-----+------+\n",
      "| keep| count|\n",
      "+-----+------+\n",
      "| true| 52830|\n",
      "|false|115338|\n",
      "+-----+------+\n",
      "\n",
      "+--------------+-----------+-------+--------------------+------------------+\n",
      "|            id|     logits|species|             sigmoid|             score|\n",
      "+--------------+-----------+-------+--------------------+------------------+\n",
      "|XC134896.ogg_0|   4.367853| asbfly|  0.9874803002619361| 268633.2001278307|\n",
      "|XC134896.ogg_0| -10.036581| barswa|4.376724691542048...| 11.22942100224165|\n",
      "|XC134896.ogg_0| -10.922386|blrwar1|1.804928982406959...|  4.23311482412373|\n",
      "|XC134896.ogg_0| -10.468658|bwfshr1|2.841234398092328...| 7.052277309084455|\n",
      "|XC134896.ogg_0|  -9.644466| comgre|6.477886397038218E-5| 16.94541569387735|\n",
      "|XC134896.ogg_0| -11.042306|commoo3|1.600960095374503...|3.6782384086214543|\n",
      "|XC134896.ogg_0| -7.2154408|eaywag1|7.346064630671653E-4| 199.1651368478082|\n",
      "|XC134896.ogg_0|-11.1132555| eurcoo|1.491310182895336...|3.3799470795772506|\n",
      "|XC134896.ogg_0| -10.741207|graher1|2.163433856135454...| 5.208390525083501|\n",
      "|XC134896.ogg_0| -10.639507|grnwar1|2.395026320850128E-5|5.8384140475326225|\n",
      "|XC134896.ogg_0| -7.4660864| houspa|5.718359621583687E-4|154.88509325497768|\n",
      "|XC134896.ogg_0| -10.168047| lirplo|3.837573006432403E-5| 9.762714198090448|\n",
      "|XC134896.ogg_0|  -9.493831|litgre1|7.530937016987473E-5|19.810131787792756|\n",
      "|XC134896.ogg_0|  -9.524335|pabflo1|7.304696575609469E-5|19.194667895333982|\n",
      "|XC134896.ogg_0| -10.104827|tibfly3|4.088007374654027...| 10.44399518451501|\n",
      "|XC134896.ogg_0|  -9.488478|vehpar1| 7.57135495590903E-5|19.920084640882628|\n",
      "|XC134896.ogg_1|  5.7584195| asbfly|  0.9968538337772187| 271183.1736817497|\n",
      "|XC134896.ogg_1|  -9.584095| barswa|6.880983907579635E-5| 18.04200108492045|\n",
      "|XC134896.ogg_1| -10.462831|bwfshr1|2.857840708462018...|  7.09745307146034|\n",
      "|XC134896.ogg_1| -10.207987| comgre|3.687326830552218...|  9.35398490251874|\n",
      "+--------------+-----------+-------+--------------------+------------------+\n",
      "only showing top 20 rows\n",
      "\n"
     ]
    }
   ],
   "source": [
    "# median absolute deviation of the sigmoid column\n",
    "median = exploded.approxQuantile(\"sigmoid\", [0.5], 0.001)[0]\n",
    "k = 1.4826\n",
    "mad = (\n",
    "    exploded.withColumn(\"diff\", F.abs(F.col(\"sigmoid\") - median)).approxQuantile(\n",
    "        \"diff\", [0.5], 0.001\n",
    "    )[0]\n",
    "    * k\n",
    ")\n",
    "print(median, mad)\n",
    "scored = exploded.withColumn(\"score\", (F.col(\"sigmoid\") - median) / mad).cache()\n",
    "scored.withColumn(\"keep\", F.col(\"score\") > 3).groupBy(\"keep\").count().show()\n",
    "filtered = scored.where(\"score > 3\")\n",
    "filtered.show()"
   ]
  },
  {
   "cell_type": "code",
   "execution_count": 45,
   "metadata": {},
   "outputs": [
    {
     "name": "stdout",
     "output_type": "stream",
     "text": [
      "+-------+-----+\n",
      "|species|count|\n",
      "+-------+-----+\n",
      "|brwowl1|    8|\n",
      "|putbab1|    3|\n",
      "| rewbul|    2|\n",
      "| comsan|    8|\n",
      "|whtkin2|    2|\n",
      "|purher1|    7|\n",
      "|asikoe2|    1|\n",
      "| litegr|    2|\n",
      "| asbfly|  337|\n",
      "| bcnher|    8|\n",
      "|comior1|    3|\n",
      "| lirplo|    8|\n",
      "| grnsan|    1|\n",
      "|grnwar1|    2|\n",
      "|grewar3|    8|\n",
      "| comgre|    8|\n",
      "|commoo3|    1|\n",
      "+-------+-----+\n",
      "\n"
     ]
    }
   ],
   "source": [
    "scored.where(\"sigmoid > 0.5\").groupBy(\"species\").count().show()"
   ]
  },
  {
   "cell_type": "code",
   "execution_count": 52,
   "metadata": {},
   "outputs": [
    {
     "data": {
      "text/plain": [
       "(567, 924)"
      ]
     },
     "execution_count": 52,
     "metadata": {},
     "output_type": "execute_result"
    }
   ],
   "source": [
    "predictions = (\n",
    "    scored.where(\"sigmoid > 0.5\")\n",
    "    .groupBy(\"id\")\n",
    "    .agg(F.collect_list(\"species\").alias(\"predicted\"))\n",
    ")\n",
    "# rows without predictions out of the total\n",
    "scored.select(\"id\").distinct().join(\n",
    "    predictions.select(\"id\"), on=\"id\", how=\"anti\"\n",
    ").count(), scored.select(\"id\").distinct().count()"
   ]
  },
  {
   "cell_type": "code",
   "execution_count": 57,
   "metadata": {},
   "outputs": [
    {
     "name": "stdout",
     "output_type": "stream",
     "text": [
      "+---------------+-----------------------------------------------------------+\n",
      "|id             |predicted                                                  |\n",
      "+---------------+-----------------------------------------------------------+\n",
      "|XC499134.ogg_22|[bcnher, brwowl1, comgre, comsan, grewar3, lirplo, purher1]|\n",
      "|XC596043.ogg_17|[bcnher, brwowl1, comgre, comsan, grewar3, lirplo, purher1]|\n",
      "|XC716737.ogg_6 |[bcnher, brwowl1, comgre, comsan, grewar3, lirplo, purher1]|\n",
      "|XC749597.ogg_2 |[bcnher, brwowl1, comgre, comsan, grewar3, lirplo, purher1]|\n",
      "|XC770506.ogg_6 |[bcnher, brwowl1, comgre, comsan, grewar3, lirplo, purher1]|\n",
      "|XC833987.ogg_3 |[bcnher, brwowl1, comgre, comsan, grewar3, lirplo, purher1]|\n",
      "|XC858110.ogg_10|[bcnher, brwowl1, comgre, comsan, grewar3, lirplo, purher1]|\n",
      "|XC453302.ogg_10|[bcnher, brwowl1, comgre, comsan, grewar3, lirplo]         |\n",
      "|XC305518.ogg_19|[asbfly, putbab1]                                          |\n",
      "|XC347938.ogg_0 |[asbfly, comior1]                                          |\n",
      "|XC347938.ogg_2 |[asbfly, comior1]                                          |\n",
      "|XC687955.ogg_2 |[asbfly, grnwar1]                                          |\n",
      "|XC741067.ogg_2 |[asbfly, rewbul]                                           |\n",
      "|XC134896.ogg_0 |[asbfly]                                                   |\n",
      "|XC134896.ogg_1 |[asbfly]                                                   |\n",
      "|XC134896.ogg_2 |[asbfly]                                                   |\n",
      "|XC134896.ogg_3 |[asbfly]                                                   |\n",
      "|XC134896.ogg_4 |[asbfly]                                                   |\n",
      "|XC134896.ogg_5 |[asbfly]                                                   |\n",
      "|XC164848.ogg_2 |[asbfly]                                                   |\n",
      "+---------------+-----------------------------------------------------------+\n",
      "only showing top 20 rows\n",
      "\n"
     ]
    }
   ],
   "source": [
    "predictions.orderBy(F.size(\"predicted\").desc()).show(truncate=False)"
   ]
  },
  {
   "cell_type": "code",
   "execution_count": 61,
   "metadata": {},
   "outputs": [
    {
     "name": "stdout",
     "output_type": "stream",
     "text": [
      "+------------------------------------------+----+\n",
      "|items                                     |freq|\n",
      "+------------------------------------------+----+\n",
      "|[asbfly]                                  |337 |\n",
      "|[grewar3]                                 |8   |\n",
      "|[grewar3, brwowl1]                        |8   |\n",
      "|[lirplo]                                  |8   |\n",
      "|[lirplo, grewar3]                         |8   |\n",
      "|[lirplo, grewar3, brwowl1]                |8   |\n",
      "|[lirplo, comgre]                          |8   |\n",
      "|[lirplo, comgre, grewar3]                 |8   |\n",
      "|[lirplo, comgre, grewar3, brwowl1]        |8   |\n",
      "|[lirplo, comgre, brwowl1]                 |8   |\n",
      "|[lirplo, comgre, comsan]                  |8   |\n",
      "|[lirplo, comgre, comsan, grewar3]         |8   |\n",
      "|[lirplo, comgre, comsan, grewar3, brwowl1]|8   |\n",
      "|[lirplo, comgre, comsan, brwowl1]         |8   |\n",
      "|[lirplo, brwowl1]                         |8   |\n",
      "|[lirplo, comsan]                          |8   |\n",
      "|[lirplo, comsan, grewar3]                 |8   |\n",
      "|[lirplo, comsan, grewar3, brwowl1]        |8   |\n",
      "|[lirplo, comsan, brwowl1]                 |8   |\n",
      "|[comgre]                                  |8   |\n",
      "+------------------------------------------+----+\n",
      "only showing top 20 rows\n",
      "\n",
      "+----------------------------------+----------+----------+------+--------------------+\n",
      "|antecedent                        |consequent|confidence|lift  |support             |\n",
      "+----------------------------------+----------+----------+------+--------------------+\n",
      "|[bcnher, lirplo, comgre]          |[grewar3] |1.0       |44.625|0.022408963585434174|\n",
      "|[comsan]                          |[brwowl1] |1.0       |44.625|0.022408963585434174|\n",
      "|[bcnher, lirplo, comgre]          |[brwowl1] |1.0       |44.625|0.022408963585434174|\n",
      "|[lirplo, comgre]                  |[brwowl1] |1.0       |44.625|0.022408963585434174|\n",
      "|[bcnher, lirplo, comgre]          |[comsan]  |1.0       |44.625|0.022408963585434174|\n",
      "|[comgre, comsan]                  |[brwowl1] |1.0       |44.625|0.022408963585434174|\n",
      "|[comgre, comsan]                  |[bcnher]  |1.0       |44.625|0.022408963585434174|\n",
      "|[bcnher, comgre, grewar3, brwowl1]|[lirplo]  |1.0       |44.625|0.022408963585434174|\n",
      "|[bcnher, lirplo, comsan]          |[comgre]  |1.0       |44.625|0.022408963585434174|\n",
      "|[bcnher, comgre, grewar3]         |[lirplo]  |1.0       |44.625|0.022408963585434174|\n",
      "|[bcnher, lirplo, comsan]          |[grewar3] |1.0       |44.625|0.022408963585434174|\n",
      "|[bcnher, comgre, grewar3]         |[comsan]  |1.0       |44.625|0.022408963585434174|\n",
      "|[bcnher, lirplo, comsan]          |[brwowl1] |1.0       |44.625|0.022408963585434174|\n",
      "|[lirplo, comgre]                  |[comsan]  |1.0       |44.625|0.022408963585434174|\n",
      "|[grewar3]                         |[brwowl1] |1.0       |44.625|0.022408963585434174|\n",
      "|[bcnher, lirplo, comsan, grewar3] |[comgre]  |1.0       |44.625|0.022408963585434174|\n",
      "|[grewar3]                         |[lirplo]  |1.0       |44.625|0.022408963585434174|\n",
      "|[comgre, comsan]                  |[lirplo]  |1.0       |44.625|0.022408963585434174|\n",
      "|[grewar3]                         |[comgre]  |1.0       |44.625|0.022408963585434174|\n",
      "|[comsan]                          |[grewar3] |1.0       |44.625|0.022408963585434174|\n",
      "+----------------------------------+----------+----------+------+--------------------+\n",
      "only showing top 20 rows\n",
      "\n"
     ]
    }
   ],
   "source": [
    "# now let's see what the most frequent predictions are in the dataset\n",
    "from pyspark.ml.fpm import FPGrowth\n",
    "\n",
    "fp = FPGrowth(itemsCol=\"predicted\", minSupport=0.01, minConfidence=0.01)\n",
    "model = fp.fit(predictions)\n",
    "model.freqItemsets.orderBy(F.desc(\"freq\")).show(truncate=False)\n",
    "model.associationRules.orderBy(F.desc(\"support\")).show(truncate=False)"
   ]
  },
  {
   "cell_type": "code",
   "execution_count": 63,
   "metadata": {},
   "outputs": [
    {
     "name": "stderr",
     "output_type": "stream",
     "text": [
      "[Stage 216:>                                                        (0 + 1) / 1]\r"
     ]
    },
    {
     "name": "stdout",
     "output_type": "stream",
     "text": [
      "+---------------+--------------------+----------+\n",
      "|             id|           predicted|prediction|\n",
      "+---------------+--------------------+----------+\n",
      "|XC453302.ogg_10|[bcnher, brwowl1,...| [purher1]|\n",
      "| XC134896.ogg_0|            [asbfly]|        []|\n",
      "| XC134896.ogg_1|            [asbfly]|        []|\n",
      "| XC134896.ogg_2|            [asbfly]|        []|\n",
      "| XC134896.ogg_3|            [asbfly]|        []|\n",
      "| XC134896.ogg_4|            [asbfly]|        []|\n",
      "| XC134896.ogg_5|            [asbfly]|        []|\n",
      "| XC164848.ogg_2|            [asbfly]|        []|\n",
      "| XC175797.ogg_0|            [asbfly]|        []|\n",
      "| XC175797.ogg_1|            [asbfly]|        []|\n",
      "| XC175797.ogg_2|            [asbfly]|        []|\n",
      "| XC175797.ogg_5|            [asbfly]|        []|\n",
      "| XC267680.ogg_5|            [asbfly]|        []|\n",
      "| XC267681.ogg_0|            [asbfly]|        []|\n",
      "|XC267681.ogg_15|            [asbfly]|        []|\n",
      "|XC267681.ogg_19|            [asbfly]|        []|\n",
      "|XC267681.ogg_21|            [asbfly]|        []|\n",
      "| XC267681.ogg_3|            [asbfly]|        []|\n",
      "| XC267681.ogg_5|            [asbfly]|        []|\n",
      "| XC267681.ogg_6|            [asbfly]|        []|\n",
      "+---------------+--------------------+----------+\n",
      "only showing top 20 rows\n",
      "\n"
     ]
    },
    {
     "name": "stderr",
     "output_type": "stream",
     "text": [
      "                                                                                \r"
     ]
    }
   ],
   "source": [
    "# prediction?\n",
    "model.transform(predictions).orderBy(F.size(\"prediction\").desc()).show()"
   ]
  }
 ],
 "metadata": {
  "language_info": {
   "name": "python"
  }
 },
 "nbformat": 4,
 "nbformat_minor": 2
}
