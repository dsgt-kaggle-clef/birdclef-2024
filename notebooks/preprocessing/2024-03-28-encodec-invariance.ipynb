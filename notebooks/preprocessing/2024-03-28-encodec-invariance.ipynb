{
 "cells": [
  {
   "cell_type": "markdown",
   "metadata": {},
   "source": [
    "## Test time-invariance of Encodec"
   ]
  },
  {
   "cell_type": "code",
   "execution_count": 1,
   "metadata": {},
   "outputs": [
    {
     "name": "stderr",
     "output_type": "stream",
     "text": [
      "/home/acheung/birdclef-2024/venv/lib/python3.10/site-packages/torch/nn/utils/weight_norm.py:28: UserWarning: torch.nn.utils.weight_norm is deprecated in favor of torch.nn.utils.parametrizations.weight_norm.\n",
      "  warnings.warn(\"torch.nn.utils.weight_norm is deprecated in favor of torch.nn.utils.parametrizations.weight_norm.\")\n"
     ]
    }
   ],
   "source": [
    "from encodec import EncodecModel\n",
    "import torchaudio\n",
    "\n",
    "bandwidth = 3.0\n",
    "model = EncodecModel.encodec_model_24khz()\n",
    "model.set_target_bandwidth(bandwidth)"
   ]
  },
  {
   "cell_type": "code",
   "execution_count": 2,
   "metadata": {},
   "outputs": [],
   "source": [
    "import os\n",
    "from pathlib import Path\n",
    "\n",
    "in_root = Path(\"data/raw/birdclef-2023/train_audio\")\n",
    "out_dir = Path(\"data/encodec_invariance\")\n",
    "out_whole_dir = out_dir / \"whole\"\n",
    "out_split_dir = out_dir / \"split\"\n",
    "\n",
    "for dirs in [out_dir, out_whole_dir, out_split_dir]:\n",
    "    os.makedirs(dirs, exist_ok=True)"
   ]
  },
  {
   "cell_type": "code",
   "execution_count": 40,
   "metadata": {},
   "outputs": [],
   "source": [
    "import torch\n",
    "from encodec.utils import convert_audio\n",
    "\n",
    "def convert(file):\n",
    "    # Load and pre-process the audio waveform\n",
    "    wav, sr = torchaudio.load(in_root / file)\n",
    "    wav = convert_audio(wav, sr, model.sample_rate, model.channels)\n",
    "    wav = wav.unsqueeze(0)\n",
    "    return wav\n",
    "\n",
    "def encode(wav):\n",
    "    # Extract discrete codes from EnCodec\n",
    "    with torch.no_grad():\n",
    "        encoded_frames = model.encode(wav)\n",
    "    return encoded_frames\n",
    "\n",
    "def decode(encoded_frames):\n",
    "    with torch.no_grad():\n",
    "        decoded_frames = model.decode(encoded_frames)\n",
    "    decoded = decoded_frames[0]\n",
    "    return decoded\n",
    "\n",
    "def save(file, decoded, parent_dir):\n",
    "    path = parent_dir / (file[:-4] + \".wav\")\n",
    "    os.makedirs(path.parent, exist_ok=True)\n",
    "    torchaudio.save(path, decoded, model.sample_rate)"
   ]
  },
  {
   "cell_type": "code",
   "execution_count": 43,
   "metadata": {},
   "outputs": [],
   "source": [
    "def reconstruct_whole(file):\n",
    "    wav = convert(file)\n",
    "    reconstructed = decode(encode(wav))\n",
    "    save(file, reconstructed, out_whole_dir)\n",
    "    return reconstructed\n",
    "\n",
    "def reconstruct_split(file, chunk_size=5):\n",
    "    wav = convert(file)\n",
    "    true_chunk_size = chunk_size * model.sample_rate\n",
    "    chunks = torch.split(wav, true_chunk_size, dim=-1)\n",
    "    reconstructed = [decode(encode(chunk)) for chunk in chunks]\n",
    "    for i, re_chunk in enumerate(reconstructed):\n",
    "        save(file[:-4] + f\"_{i}.wav\", re_chunk, out_split_dir)\n",
    "    reconstructed = torch.cat(reconstructed, dim=1)\n",
    "    save(file, reconstructed, out_split_dir)\n",
    "    return reconstructed"
   ]
  },
  {
   "cell_type": "code",
   "execution_count": 9,
   "metadata": {},
   "outputs": [],
   "source": [
    "file = \"abethr1/XC128013.ogg\""
   ]
  },
  {
   "cell_type": "code",
   "execution_count": 41,
   "metadata": {},
   "outputs": [],
   "source": [
    "recon_whole = reconstruct_whole(file)"
   ]
  },
  {
   "cell_type": "code",
   "execution_count": 44,
   "metadata": {},
   "outputs": [],
   "source": [
    "recon_split = reconstruct_split(file)"
   ]
  },
  {
   "cell_type": "code",
   "execution_count": 85,
   "metadata": {},
   "outputs": [
    {
     "data": {
      "text/plain": [
       "tensor(0.0001)"
      ]
     },
     "execution_count": 85,
     "metadata": {},
     "output_type": "execute_result"
    }
   ],
   "source": [
    "(recon_whole - recon_split).square().mean()"
   ]
  },
  {
   "cell_type": "code",
   "execution_count": 50,
   "metadata": {},
   "outputs": [
    {
     "data": {
      "text/plain": [
       "tensor([[ True,  True,  True,  ..., False, False, False]])"
      ]
     },
     "execution_count": 50,
     "metadata": {},
     "output_type": "execute_result"
    }
   ],
   "source": [
    "recon_whole == recon_split"
   ]
  },
  {
   "cell_type": "code",
   "execution_count": 87,
   "metadata": {},
   "outputs": [
    {
     "data": {
      "text/plain": [
       "tensor(0.1087)"
      ]
     },
     "execution_count": 87,
     "metadata": {},
     "output_type": "execute_result"
    }
   ],
   "source": [
    "(recon_whole == recon_split).sum() / recon_whole.size()[1]"
   ]
  },
  {
   "cell_type": "code",
   "execution_count": 75,
   "metadata": {},
   "outputs": [
    {
     "data": {
      "text/plain": [
       "tensor([[0.4122, 0.4025, 0.3914,  ..., 0.0000, 0.0000, 0.0000]])"
      ]
     },
     "execution_count": 75,
     "metadata": {},
     "output_type": "execute_result"
    }
   ],
   "source": [
    "(recon_whole - recon_split).abs().sort(descending=True).values"
   ]
  },
  {
   "cell_type": "code",
   "execution_count": 84,
   "metadata": {},
   "outputs": [
    {
     "data": {
      "text/plain": [
       "tensor(0.0011)"
      ]
     },
     "execution_count": 84,
     "metadata": {},
     "output_type": "execute_result"
    }
   ],
   "source": [
    "raw = convert(file)[0]\n",
    "(recon_whole[:, :raw.size(1)] - raw).square().mean()"
   ]
  }
 ],
 "metadata": {
  "kernelspec": {
   "display_name": "venv",
   "language": "python",
   "name": "python3"
  },
  "language_info": {
   "codemirror_mode": {
    "name": "ipython",
    "version": 3
   },
   "file_extension": ".py",
   "mimetype": "text/x-python",
   "name": "python",
   "nbconvert_exporter": "python",
   "pygments_lexer": "ipython3",
   "version": "3.10.12"
  }
 },
 "nbformat": 4,
 "nbformat_minor": 2
}
