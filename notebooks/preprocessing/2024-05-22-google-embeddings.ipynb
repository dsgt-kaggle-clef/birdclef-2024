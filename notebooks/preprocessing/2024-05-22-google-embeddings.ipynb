{
 "cells": [
  {
   "cell_type": "code",
   "execution_count": 34,
   "metadata": {},
   "outputs": [],
   "source": [
    "import os\n",
    "from itertools import chain\n",
    "from pathlib import Path\n",
    "\n",
    "import numpy as np\n",
    "import pandas as pd\n",
    "import tensorflow as tf\n",
    "import tensorflow_hub as hub\n",
    "import torch\n",
    "import torchaudio\n",
    "from torch.utils.data import DataLoader, Dataset\n",
    "from tqdm import tqdm"
   ]
  },
  {
   "cell_type": "code",
   "execution_count": 35,
   "metadata": {},
   "outputs": [],
   "source": [
    "AUDIO_PATH = Path(\"data/birdclef-2024/train_audio\")\n",
    "OUT_DIR = Path(\"data/google_embeddings\")\n",
    "\n",
    "os.makedirs(OUT_DIR, exist_ok=True)\n",
    "\n",
    "df_meta = pd.read_csv(\"data/birdclef-2024/train_metadata.csv\")\n",
    "model_path = \"https://kaggle.com/models/google/bird-vocalization-classifier/frameworks/TensorFlow2/variations/bird-vocalization-classifier/versions/4\"\n",
    "model = hub.load(model_path)\n",
    "model_labels_df = pd.read_csv(hub.resolve(model_path) + \"/assets/label.csv\")\n",
    "\n",
    "SAMPLE_RATE = 32000\n",
    "WINDOW = 5 * SAMPLE_RATE"
   ]
  },
  {
   "cell_type": "code",
   "execution_count": 36,
   "metadata": {},
   "outputs": [],
   "source": [
    "index_to_label = sorted(df_meta.primary_label.unique())\n",
    "label_to_index = {v: k for k, v in enumerate(index_to_label)}\n",
    "model_labels = {v: k for k, v in enumerate(model_labels_df.ebird2021)}\n",
    "model_bc_indexes = [\n",
    "    model_labels[label] if label in model_labels else -1 for label in index_to_label\n",
    "]"
   ]
  },
  {
   "cell_type": "code",
   "execution_count": 37,
   "metadata": {},
   "outputs": [
    {
     "data": {
      "text/plain": [
       "(10932, 182)"
      ]
     },
     "execution_count": 37,
     "metadata": {},
     "output_type": "execute_result"
    }
   ],
   "source": [
    "len(model_labels), len(model_bc_indexes)"
   ]
  },
  {
   "cell_type": "code",
   "execution_count": 38,
   "metadata": {},
   "outputs": [
    {
     "data": {
      "text/plain": [
       "{'bkrfla1', 'indrol2'}"
      ]
     },
     "execution_count": 38,
     "metadata": {},
     "output_type": "execute_result"
    }
   ],
   "source": [
    "missing_birds = set(np.array(index_to_label)[np.array(model_bc_indexes) == -1])\n",
    "missing_birds"
   ]
  },
  {
   "cell_type": "code",
   "execution_count": 39,
   "metadata": {},
   "outputs": [
    {
     "name": "stdout",
     "output_type": "stream",
     "text": [
      "indrol2: 35\n",
      "bkrfla1: 29\n"
     ]
    }
   ],
   "source": [
    "for species in missing_birds:\n",
    "    count = df_meta.primary_label.value_counts()[species]\n",
    "    print(f\"{species}: {count}\")"
   ]
  },
  {
   "cell_type": "code",
   "execution_count": 40,
   "metadata": {},
   "outputs": [],
   "source": [
    "def get_embeddings_and_logits(file):\n",
    "    audio = torchaudio.load(AUDIO_PATH / file)[0].numpy()[0]\n",
    "    embeddings = []\n",
    "    logits = []\n",
    "    for i in range(0, len(audio), WINDOW):\n",
    "        clip = audio[i : i + WINDOW]\n",
    "        if len(clip) < WINDOW:\n",
    "            clip = np.concatenate([clip, np.zeros(WINDOW - len(clip))])\n",
    "        result = model.infer_tf(clip[None, :])\n",
    "        embeddings.append(result[1][0].numpy())\n",
    "        clip_logits = np.concatenate([result[0].numpy(), -np.inf], axis=None)\n",
    "        logits.append(clip_logits[model_bc_indexes])\n",
    "    embeddings = np.stack(embeddings)\n",
    "    logits = np.stack(logits)\n",
    "    return embeddings, logits"
   ]
  },
  {
   "cell_type": "code",
   "execution_count": 41,
   "metadata": {},
   "outputs": [
    {
     "name": "stderr",
     "output_type": "stream",
     "text": [
      "W0000 00:00:1716569685.508780    2067 assert_op.cc:38] Ignoring Assert operator jax2tf_infer_fn_/assert_equal_1/Assert/AssertGuard/Assert\n"
     ]
    }
   ],
   "source": [
    "example_embeddings, example_logits = get_embeddings_and_logits(\"asbfly/XC49755.ogg\")"
   ]
  },
  {
   "cell_type": "code",
   "execution_count": 42,
   "metadata": {},
   "outputs": [
    {
     "data": {
      "text/plain": [
       "((11, 1280), (11, 182))"
      ]
     },
     "execution_count": 42,
     "metadata": {},
     "output_type": "execute_result"
    }
   ],
   "source": [
    "example_embeddings.shape, example_logits.shape"
   ]
  },
  {
   "cell_type": "code",
   "execution_count": 43,
   "metadata": {},
   "outputs": [
    {
     "data": {
      "text/plain": [
       "(array([ 0,  0,  1,  1,  2,  2,  3,  3,  4,  4,  5,  5,  6,  6,  7,  7,  8,\n",
       "         8,  9,  9, 10, 10]),\n",
       " array([12, 86, 12, 86, 12, 86, 12, 86, 12, 86, 12, 86, 12, 86, 12, 86, 12,\n",
       "        86, 12, 86, 12, 86]))"
      ]
     },
     "execution_count": 43,
     "metadata": {},
     "output_type": "execute_result"
    }
   ],
   "source": [
    "np.where(example_logits == -np.inf)"
   ]
  },
  {
   "cell_type": "code",
   "execution_count": 44,
   "metadata": {},
   "outputs": [
    {
     "data": {
      "text/plain": [
       "('bkrfla1', 'indrol2')"
      ]
     },
     "execution_count": 44,
     "metadata": {},
     "output_type": "execute_result"
    }
   ],
   "source": [
    "index_to_label[12], index_to_label[86]"
   ]
  },
  {
   "cell_type": "code",
   "execution_count": 45,
   "metadata": {},
   "outputs": [],
   "source": [
    "def embed_single(file_df):\n",
    "    file = file_df[\"filename\"]\n",
    "    embeddings, logits = get_embeddings_and_logits(file)\n",
    "    n_chunks = embeddings.shape[0]\n",
    "    indices = range(n_chunks)\n",
    "    names = [file.split(\"/\")[1]] * n_chunks\n",
    "    return names, indices, list(embeddings), list(logits)\n",
    "\n",
    "\n",
    "def embed_species(species):\n",
    "    tqdm.pandas()\n",
    "    files = df_meta[df_meta[\"primary_label\"] == species]\n",
    "    cols = files.progress_apply(embed_single, axis=1)\n",
    "    cols = zip(*cols)\n",
    "    names, indices, embeddings, logits = [chain(*col) for col in cols]\n",
    "    df = pd.DataFrame(\n",
    "        {\"name\": names, \"chunk_5s\": indices, \"embedding\": embeddings, \"logits\": logits}\n",
    "    )\n",
    "\n",
    "    out_path = OUT_DIR / f\"{species}.parquet\"\n",
    "    df.to_parquet(out_path, index=False)\n",
    "    return df"
   ]
  },
  {
   "cell_type": "code",
   "execution_count": 55,
   "metadata": {},
   "outputs": [
    {
     "name": "stderr",
     "output_type": "stream",
     "text": [
      "  0%|          | 0/5 [00:00<?, ?it/s]"
     ]
    },
    {
     "name": "stderr",
     "output_type": "stream",
     "text": [
      "100%|██████████| 5/5 [00:11<00:00,  2.31s/it]\n"
     ]
    },
    {
     "data": {
      "text/html": [
       "<div>\n",
       "<style scoped>\n",
       "    .dataframe tbody tr th:only-of-type {\n",
       "        vertical-align: middle;\n",
       "    }\n",
       "\n",
       "    .dataframe tbody tr th {\n",
       "        vertical-align: top;\n",
       "    }\n",
       "\n",
       "    .dataframe thead th {\n",
       "        text-align: right;\n",
       "    }\n",
       "</style>\n",
       "<table border=\"1\" class=\"dataframe\">\n",
       "  <thead>\n",
       "    <tr style=\"text-align: right;\">\n",
       "      <th></th>\n",
       "      <th>name</th>\n",
       "      <th>chunk_5s</th>\n",
       "      <th>embedding</th>\n",
       "      <th>logits</th>\n",
       "    </tr>\n",
       "  </thead>\n",
       "  <tbody>\n",
       "    <tr>\n",
       "      <th>0</th>\n",
       "      <td>XC194954.ogg</td>\n",
       "      <td>0</td>\n",
       "      <td>[-0.031185264, -0.035795283, -0.054329205, 0.0...</td>\n",
       "      <td>[-9.128941, -13.177884, -13.67497, -12.337171,...</td>\n",
       "    </tr>\n",
       "    <tr>\n",
       "      <th>1</th>\n",
       "      <td>XC194954.ogg</td>\n",
       "      <td>1</td>\n",
       "      <td>[-0.08725081, -0.038439784, -0.017878823, -0.0...</td>\n",
       "      <td>[-10.217005, -11.332575, -11.622447, -9.567158...</td>\n",
       "    </tr>\n",
       "    <tr>\n",
       "      <th>2</th>\n",
       "      <td>XC194954.ogg</td>\n",
       "      <td>2</td>\n",
       "      <td>[-0.059770834, -0.0416055, -0.05187557, -0.077...</td>\n",
       "      <td>[-11.657135, -12.182461, -12.450273, -13.01046...</td>\n",
       "    </tr>\n",
       "    <tr>\n",
       "      <th>3</th>\n",
       "      <td>XC397761.ogg</td>\n",
       "      <td>0</td>\n",
       "      <td>[0.022343082, -0.010296039, -0.024152642, 0.03...</td>\n",
       "      <td>[-7.8223104, -10.272348, -12.720812, -11.36624...</td>\n",
       "    </tr>\n",
       "    <tr>\n",
       "      <th>4</th>\n",
       "      <td>XC504755.ogg</td>\n",
       "      <td>0</td>\n",
       "      <td>[-0.000396855, -0.12520109, -0.013607574, 0.13...</td>\n",
       "      <td>[-10.462232, -15.686266, -9.906326, -10.56645,...</td>\n",
       "    </tr>\n",
       "  </tbody>\n",
       "</table>\n",
       "</div>"
      ],
      "text/plain": [
       "           name  chunk_5s                                          embedding  \\\n",
       "0  XC194954.ogg         0  [-0.031185264, -0.035795283, -0.054329205, 0.0...   \n",
       "1  XC194954.ogg         1  [-0.08725081, -0.038439784, -0.017878823, -0.0...   \n",
       "2  XC194954.ogg         2  [-0.059770834, -0.0416055, -0.05187557, -0.077...   \n",
       "3  XC397761.ogg         0  [0.022343082, -0.010296039, -0.024152642, 0.03...   \n",
       "4  XC504755.ogg         0  [-0.000396855, -0.12520109, -0.013607574, 0.13...   \n",
       "\n",
       "                                              logits  \n",
       "0  [-9.128941, -13.177884, -13.67497, -12.337171,...  \n",
       "1  [-10.217005, -11.332575, -11.622447, -9.567158...  \n",
       "2  [-11.657135, -12.182461, -12.450273, -13.01046...  \n",
       "3  [-7.8223104, -10.272348, -12.720812, -11.36624...  \n",
       "4  [-10.462232, -15.686266, -9.906326, -10.56645,...  "
      ]
     },
     "execution_count": 55,
     "metadata": {},
     "output_type": "execute_result"
    }
   ],
   "source": [
    "species = \"asiope1\"\n",
    "\n",
    "species_df = embed_species(species)\n",
    "species_df.head()"
   ]
  }
 ],
 "metadata": {
  "kernelspec": {
   "display_name": "venv",
   "language": "python",
   "name": "python3"
  },
  "language_info": {
   "codemirror_mode": {
    "name": "ipython",
    "version": 3
   },
   "file_extension": ".py",
   "mimetype": "text/x-python",
   "name": "python",
   "nbconvert_exporter": "python",
   "pygments_lexer": "ipython3",
   "version": "3.10.12"
  }
 },
 "nbformat": 4,
 "nbformat_minor": 2
}
