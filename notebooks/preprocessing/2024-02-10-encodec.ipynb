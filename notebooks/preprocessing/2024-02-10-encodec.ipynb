{
 "cells": [
  {
   "cell_type": "code",
   "execution_count": 1,
   "metadata": {},
   "outputs": [],
   "source": [
    "%load_ext autoreload\n",
    "%autoreload 2"
   ]
  },
  {
   "cell_type": "code",
   "execution_count": 2,
   "metadata": {},
   "outputs": [
    {
     "name": "stdout",
     "output_type": "stream",
     "text": [
      "gs://dsgt-clef-birdclef-2024/data/raw/birdclef-2023/eBird_Taxonomy_v2021.csv\n",
      "gs://dsgt-clef-birdclef-2024/data/raw/birdclef-2023/sample_submission.csv\n",
      "gs://dsgt-clef-birdclef-2024/data/raw/birdclef-2023/train_metadata.csv\n",
      "gs://dsgt-clef-birdclef-2024/data/raw/birdclef-2023/test_soundscapes/\n",
      "gs://dsgt-clef-birdclef-2024/data/raw/birdclef-2023/train_audio/\n"
     ]
    }
   ],
   "source": [
    "# let's check that the initial data from murilo is theres\n",
    "! gcloud storage ls gs://dsgt-clef-birdclef-2024/data/raw/birdclef-2023 | head"
   ]
  },
  {
   "cell_type": "code",
   "execution_count": 3,
   "metadata": {},
   "outputs": [
    {
     "name": "stderr",
     "output_type": "stream",
     "text": [
      "Setting default log level to \"WARN\".\n",
      "To adjust logging level use sc.setLogLevel(newLevel). For SparkR, use setLogLevel(newLevel).\n",
      "24/02/19 06:13:50 WARN NativeCodeLoader: Unable to load native-hadoop library for your platform... using builtin-java classes where applicable\n"
     ]
    },
    {
     "data": {
      "text/html": [
       "\n",
       "            <div>\n",
       "                <p><b>SparkSession - in-memory</b></p>\n",
       "                \n",
       "        <div>\n",
       "            <p><b>SparkContext</b></p>\n",
       "\n",
       "            <p><a href=\"http://birdclef-dev.us-central1-a.c.dsgt-clef-2024.internal:4040\">Spark UI</a></p>\n",
       "\n",
       "            <dl>\n",
       "              <dt>Version</dt>\n",
       "                <dd><code>v3.5.0</code></dd>\n",
       "              <dt>Master</dt>\n",
       "                <dd><code>local[*]</code></dd>\n",
       "              <dt>AppName</dt>\n",
       "                <dd><code>pyspark-shell</code></dd>\n",
       "            </dl>\n",
       "        </div>\n",
       "        \n",
       "            </div>\n",
       "        "
      ],
      "text/plain": [
       "<pyspark.sql.session.SparkSession at 0x7fc1ccde6620>"
      ]
     },
     "metadata": {},
     "output_type": "display_data"
    },
    {
     "name": "stdout",
     "output_type": "stream",
     "text": [
      "root\n",
      " |-- _c0: string (nullable = true)\n",
      " |-- _c1: string (nullable = true)\n",
      " |-- _c2: string (nullable = true)\n",
      " |-- _c3: string (nullable = true)\n",
      " |-- _c4: string (nullable = true)\n",
      " |-- _c5: string (nullable = true)\n",
      " |-- _c6: string (nullable = true)\n",
      " |-- _c7: string (nullable = true)\n",
      " |-- _c8: string (nullable = true)\n",
      " |-- _c9: string (nullable = true)\n",
      " |-- _c10: string (nullable = true)\n",
      " |-- _c11: string (nullable = true)\n",
      "\n",
      "-RECORD 0----------------\n",
      " _c0  | primary_label    \n",
      " _c1  | secondary_labels \n",
      " _c2  | type             \n",
      " _c3  | latitude         \n",
      " _c4  | longitude        \n",
      " _c5  | scientific_name  \n",
      " _c6  | common_name      \n",
      " _c7  | author           \n",
      " _c8  | license          \n",
      " _c9  | rating           \n",
      " _c10 | url              \n",
      " _c11 | filename         \n",
      "only showing top 1 row\n",
      "\n"
     ]
    }
   ],
   "source": [
    "from birdclef.utils import get_spark\n",
    "from IPython.display import Image, display\n",
    "\n",
    "spark = get_spark()\n",
    "display(spark)\n",
    "\n",
    "# read straight from the bucket\n",
    "df_meta = spark.read.csv(\n",
    "    \"gs://dsgt-clef-birdclef-2024/data/raw/birdclef-2023/train_metadata.csv\"\n",
    ")\n",
    "df_meta.printSchema()\n",
    "df_meta.show(vertical=True, n=1, truncate=100)"
   ]
  },
  {
   "cell_type": "code",
   "execution_count": 4,
   "metadata": {},
   "outputs": [
    {
     "name": "stdout",
     "output_type": "stream",
     "text": [
      "+-------------+----------------+--------+--------+---------+------------------+--------------------+-------------+--------------------+------+--------------------+--------------------+\n",
      "|          _c0|             _c1|     _c2|     _c3|      _c4|               _c5|                 _c6|          _c7|                 _c8|   _c9|                _c10|                _c11|\n",
      "+-------------+----------------+--------+--------+---------+------------------+--------------------+-------------+--------------------+------+--------------------+--------------------+\n",
      "|primary_label|secondary_labels|    type|latitude|longitude|   scientific_name|         common_name|       author|             license|rating|                 url|            filename|\n",
      "|      abethr1|              []|['song']|  4.3906|  38.2788|Turdus tephronotus|African Bare-eyed...|Rolf A. de By|Creative Commons ...|   4.0|https://www.xeno-...|abethr1/XC128013.ogg|\n",
      "|      abethr1|              []|['call']| -2.9524|  38.2921|Turdus tephronotus|African Bare-eyed...|James Bradley|Creative Commons ...|   3.5|https://www.xeno-...|abethr1/XC363501.ogg|\n",
      "|      abethr1|              []|['song']| -2.9524|  38.2921|Turdus tephronotus|African Bare-eyed...|James Bradley|Creative Commons ...|   3.5|https://www.xeno-...|abethr1/XC363502.ogg|\n",
      "|      abethr1|              []|['song']| -2.9524|  38.2921|Turdus tephronotus|African Bare-eyed...|James Bradley|Creative Commons ...|   5.0|https://www.xeno-...|abethr1/XC363503.ogg|\n",
      "+-------------+----------------+--------+--------+---------+------------------+--------------------+-------------+--------------------+------+--------------------+--------------------+\n",
      "only showing top 5 rows\n",
      "\n"
     ]
    }
   ],
   "source": [
    "df_meta.show(n=5)"
   ]
  },
  {
   "cell_type": "code",
   "execution_count": 5,
   "metadata": {},
   "outputs": [
    {
     "name": "stderr",
     "output_type": "stream",
     "text": [
      "/tmp/ipykernel_26857/1609202181.py:2: DeprecationWarning: \n",
      "Pyarrow will become a required dependency of pandas in the next major release of pandas (pandas 3.0),\n",
      "(to allow more performant data types, such as the Arrow string type, and better interoperability with other libraries)\n",
      "but was not found to be installed on your system.\n",
      "If this would cause problems for you,\n",
      "please provide us feedback at https://github.com/pandas-dev/pandas/issues/54466\n",
      "        \n",
      "  import pandas as pd\n",
      "/home/acheung/birdclef-2024/venv/lib/python3.10/site-packages/pyspark/sql/pandas/conversion.py:111: UserWarning: toPandas attempted Arrow optimization because 'spark.sql.execution.arrow.pyspark.enabled' is set to true; however, failed by the reason below:\n",
      "  PyArrow >= 4.0.0 must be installed; however, it was not found.\n",
      "Attempting non-optimization as 'spark.sql.execution.arrow.pyspark.fallback.enabled' is set to true.\n",
      "  warn(msg)\n",
      "                                                                                \r"
     ]
    }
   ],
   "source": [
    "from matplotlib import pyplot as plt\n",
    "import pandas as pd\n",
    "\n",
    "# Group by species and count\n",
    "species_counts = df_meta.groupBy(\"_c5\").count().orderBy(\"count\", ascending=False)\n",
    "\n",
    "# Convert to Pandas DataFrame for plotting\n",
    "species_df = species_counts.toPandas()\n",
    "\n",
    "# Get the top 5 species\n",
    "top_5 = species_df.head(5)"
   ]
  },
  {
   "cell_type": "code",
   "execution_count": 6,
   "metadata": {},
   "outputs": [
    {
     "data": {
      "text/html": [
       "<div>\n",
       "<style scoped>\n",
       "    .dataframe tbody tr th:only-of-type {\n",
       "        vertical-align: middle;\n",
       "    }\n",
       "\n",
       "    .dataframe tbody tr th {\n",
       "        vertical-align: top;\n",
       "    }\n",
       "\n",
       "    .dataframe thead th {\n",
       "        text-align: right;\n",
       "    }\n",
       "</style>\n",
       "<table border=\"1\" class=\"dataframe\">\n",
       "  <thead>\n",
       "    <tr style=\"text-align: right;\">\n",
       "      <th></th>\n",
       "      <th>_c5</th>\n",
       "      <th>count</th>\n",
       "    </tr>\n",
       "  </thead>\n",
       "  <tbody>\n",
       "    <tr>\n",
       "      <th>0</th>\n",
       "      <td>Actitis hypoleucos</td>\n",
       "      <td>500</td>\n",
       "    </tr>\n",
       "    <tr>\n",
       "      <th>1</th>\n",
       "      <td>Hirundo rustica</td>\n",
       "      <td>499</td>\n",
       "    </tr>\n",
       "    <tr>\n",
       "      <th>2</th>\n",
       "      <td>Phylloscopus trochilus</td>\n",
       "      <td>499</td>\n",
       "    </tr>\n",
       "    <tr>\n",
       "      <th>3</th>\n",
       "      <td>Luscinia luscinia</td>\n",
       "      <td>498</td>\n",
       "    </tr>\n",
       "    <tr>\n",
       "      <th>4</th>\n",
       "      <td>Motacilla flava</td>\n",
       "      <td>498</td>\n",
       "    </tr>\n",
       "  </tbody>\n",
       "</table>\n",
       "</div>"
      ],
      "text/plain": [
       "                      _c5  count\n",
       "0      Actitis hypoleucos    500\n",
       "1         Hirundo rustica    499\n",
       "2  Phylloscopus trochilus    499\n",
       "3       Luscinia luscinia    498\n",
       "4         Motacilla flava    498"
      ]
     },
     "execution_count": 6,
     "metadata": {},
     "output_type": "execute_result"
    }
   ],
   "source": [
    "top_5"
   ]
  },
  {
   "cell_type": "code",
   "execution_count": 7,
   "metadata": {},
   "outputs": [],
   "source": [
    "from pyspark.sql import Window\n",
    "from pyspark.sql.functions import desc, row_number\n",
    "\n",
    "# filter the top num_species species\n",
    "num_species = 3\n",
    "top_species = species_df.head(num_species)[\"_c5\"].values.tolist()\n",
    "df_meta_top = df_meta.filter(df_meta._c5.isin(top_species))\n",
    "\n",
    "# take first 10 of every species\n",
    "window = Window.partitionBy(\"_c5\").orderBy(desc(\"_c9\"))\n",
    "df_meta_top = df_meta_top.withColumn(\"row_num\", row_number().over(window))\n",
    "df_meta_top = df_meta_top.filter(df_meta_top.row_num <= 10)"
   ]
  },
  {
   "cell_type": "code",
   "execution_count": 8,
   "metadata": {},
   "outputs": [
    {
     "data": {
      "text/plain": [
       "30"
      ]
     },
     "execution_count": 8,
     "metadata": {},
     "output_type": "execute_result"
    }
   ],
   "source": [
    "df_meta_top.count()"
   ]
  },
  {
   "cell_type": "code",
   "execution_count": 9,
   "metadata": {},
   "outputs": [
    {
     "name": "stderr",
     "output_type": "stream",
     "text": [
      "[Stage 17:>                                                         (0 + 1) / 1]\r"
     ]
    },
    {
     "name": "stdout",
     "output_type": "stream",
     "text": [
      "+------+---+--------------------+--------+--------+------------------+----------------+----------------+--------------------+---+--------------------+-------------------+-------+\n",
      "|   _c0|_c1|                 _c2|     _c3|     _c4|               _c5|             _c6|             _c7|                 _c8|_c9|                _c10|               _c11|row_num|\n",
      "+------+---+--------------------+--------+--------+------------------+----------------+----------------+--------------------+---+--------------------+-------------------+-------+\n",
      "|comsan| []|['female', 'fligh...| 52.3527| 20.9197|Actitis hypoleucos|Common Sandpiper|  Jarek Matusiak|Creative Commons ...|5.0|https://www.xeno-...|comsan/XC129378.ogg|      1|\n",
      "|comsan| []|            ['call']| 54.2697|  8.8683|Actitis hypoleucos|Common Sandpiper|   Volker Arnold|Creative Commons ...|5.0|https://www.xeno-...|comsan/XC142817.ogg|      2|\n",
      "|comsan| []|            ['call']| 55.0194| 82.8918|Actitis hypoleucos|Common Sandpiper|      Sander Bot|Creative Commons ...|5.0|https://www.xeno-...|comsan/XC148834.ogg|      3|\n",
      "|comsan| []|            ['call']| 60.7689| 11.2296|Actitis hypoleucos|Common Sandpiper| Elias A. Ryberg|Creative Commons ...|5.0|https://www.xeno-...|comsan/XC157141.ogg|      4|\n",
      "|comsan| []|            ['song']| 60.7757| 11.2272|Actitis hypoleucos|Common Sandpiper| Elias A. Ryberg|Creative Commons ...|5.0|https://www.xeno-...|comsan/XC157223.ogg|      5|\n",
      "|comsan| []|     ['flight call']|  51.348|  23.051|Actitis hypoleucos|Common Sandpiper|  Jarek Matusiak|Creative Commons ...|5.0|https://www.xeno-...|comsan/XC187104.ogg|      6|\n",
      "|comsan| []|     ['flight call']| 56.1211| 47.5042|Actitis hypoleucos|Common Sandpiper|Albert Lastukhin|Creative Commons ...|5.0|https://www.xeno-...|comsan/XC197017.ogg|      7|\n",
      "|comsan| []|            ['call']| 42.5275| 130.692|Actitis hypoleucos|Common Sandpiper|Albert Lastukhin|Creative Commons ...|5.0|https://www.xeno-...|comsan/XC266359.ogg|      8|\n",
      "|comsan| []|            ['song']| 58.4439| 14.4687|Actitis hypoleucos|Common Sandpiper|    Patrik Åberg|Creative Commons ...|5.0|https://www.xeno-...| comsan/XC27064.ogg|      9|\n",
      "|comsan| []|      ['alarm call']| 58.4439| 14.4687|Actitis hypoleucos|Common Sandpiper|    Patrik Åberg|Creative Commons ...|5.0|https://www.xeno-...| comsan/XC27065.ogg|     10|\n",
      "|barswa| []|            ['song']| 51.4226| 23.1201|   Hirundo rustica|    Barn Swallow|  Jarek Matusiak|Creative Commons ...|5.0|https://www.xeno-...|barswa/XC134349.ogg|      1|\n",
      "|barswa| []|     ['flight call']| 41.5811|  1.8017|   Hirundo rustica|    Barn Swallow|    Jordi Calvet|Creative Commons ...|5.0|https://www.xeno-...|barswa/XC139171.ogg|      2|\n",
      "|barswa| []|['alarm call', 'f...| 53.2364| 21.4666|   Hirundo rustica|    Barn Swallow|  Jarek Matusiak|Creative Commons ...|5.0|https://www.xeno-...|barswa/XC188601.ogg|      3|\n",
      "|barswa| []|            ['call']|    NULL|    NULL|   Hirundo rustica|    Barn Swallow|     Anon Torimi|Creative Commons ...|5.0|https://www.xeno-...|barswa/XC191024.ogg|      4|\n",
      "|barswa| []|['juvenile', 'song']|    NULL|    NULL|   Hirundo rustica|    Barn Swallow|     Anon Torimi|Creative Commons ...|5.0|https://www.xeno-...|barswa/XC191025.ogg|      5|\n",
      "|barswa| []|            ['song']|-32.8987| 26.3775|   Hirundo rustica|    Barn Swallow|  Lynette Rudman|Creative Commons ...|5.0|https://www.xeno-...|barswa/XC252931.ogg|      6|\n",
      "|barswa| []|            ['song']| 44.2937|  2.0769|   Hirundo rustica|    Barn Swallow|Bernard BOUSQUET|Creative Commons ...|5.0|https://www.xeno-...|barswa/XC268755.ogg|      7|\n",
      "|barswa| []|    ['call', 'song']|-18.0737|-50.1745|   Hirundo rustica|    Barn Swallow|Marcelo Villegas|Creative Commons ...|5.0|https://www.xeno-...|barswa/XC288339.ogg|      8|\n",
      "|barswa| []|['flight call', '...|-18.8758| -49.562|   Hirundo rustica|    Barn Swallow|Marcelo Villegas|Creative Commons ...|5.0|https://www.xeno-...|barswa/XC288343.ogg|      9|\n",
      "|barswa| []|            ['song']| 57.2367| 18.6766|   Hirundo rustica|    Barn Swallow| Mikael Litsgård|Creative Commons ...|5.0|https://www.xeno-...|barswa/XC289357.ogg|     10|\n",
      "+------+---+--------------------+--------+--------+------------------+----------------+----------------+--------------------+---+--------------------+-------------------+-------+\n",
      "only showing top 20 rows\n",
      "\n"
     ]
    },
    {
     "name": "stderr",
     "output_type": "stream",
     "text": [
      "                                                                                \r"
     ]
    }
   ],
   "source": [
    "df_meta_top.show()"
   ]
  },
  {
   "cell_type": "markdown",
   "metadata": {},
   "source": [
    "## Encodec with a single recording"
   ]
  },
  {
   "cell_type": "code",
   "execution_count": 49,
   "metadata": {},
   "outputs": [
    {
     "name": "stderr",
     "output_type": "stream",
     "text": [
      "/home/acheung/birdclef-2024/venv/lib/python3.10/site-packages/pyspark/sql/pandas/conversion.py:111: UserWarning: toPandas attempted Arrow optimization because 'spark.sql.execution.arrow.pyspark.enabled' is set to true; however, failed by the reason below:\n",
      "  PyArrow >= 4.0.0 must be installed; however, it was not found.\n",
      "Attempting non-optimization as 'spark.sql.execution.arrow.pyspark.fallback.enabled' is set to true.\n",
      "  warn(msg)\n"
     ]
    },
    {
     "data": {
      "text/html": [
       "<div>\n",
       "<style scoped>\n",
       "    .dataframe tbody tr th:only-of-type {\n",
       "        vertical-align: middle;\n",
       "    }\n",
       "\n",
       "    .dataframe tbody tr th {\n",
       "        vertical-align: top;\n",
       "    }\n",
       "\n",
       "    .dataframe thead th {\n",
       "        text-align: right;\n",
       "    }\n",
       "</style>\n",
       "<table border=\"1\" class=\"dataframe\">\n",
       "  <thead>\n",
       "    <tr style=\"text-align: right;\">\n",
       "      <th></th>\n",
       "      <th>_c0</th>\n",
       "      <th>_c1</th>\n",
       "    </tr>\n",
       "  </thead>\n",
       "  <tbody>\n",
       "    <tr>\n",
       "      <th>0</th>\n",
       "      <td>OggS\u0000\u0002\u0000\u0000\u0000\u0000\u0000\u0000\u0000\u0000B��v\u0000\u0000\u0000\u0000��\u0001\u001e\u0001vorbis\u0000\u0000\u0000\u0000\u0001\u0000}\u0000\u0000\u0000\u0000\u0000\u0000...</td>\n",
       "      <td>(���0�\u0016�\u00045(���0�ԃ\u000bB���I5�\u001a�gAx\u0016�iA\b!�$AH��\u0006A�\u0018...</td>\n",
       "    </tr>\n",
       "    <tr>\n",
       "      <th>1</th>\n",
       "      <td>\u0010\u001a�</td>\n",
       "      <td>None</td>\n",
       "    </tr>\n",
       "    <tr>\n",
       "      <th>2</th>\n",
       "      <td>\u0000�\u0000\u0000\u0010@Q\u0014�q\u001cɑ\u001cɱ\u001c\u000b\b</td>\n",
       "      <td>None</td>\n",
       "    </tr>\n",
       "    <tr>\n",
       "      <th>3</th>\n",
       "      <td>Y\u0005\u0000\u0000\u0001\u0000\b\u0000\u0000�H��H��H�$Y�%Y�%Y�扪</td>\n",
       "      <td>˲</td>\n",
       "    </tr>\n",
       "    <tr>\n",
       "      <th>4</th>\n",
       "      <td>\u0000H\u0000\u0000PQ\fEq\u0014\u0007\b</td>\n",
       "      <td>None</td>\n",
       "    </tr>\n",
       "    <tr>\n",
       "      <th>...</th>\n",
       "      <td>...</td>\n",
       "      <td>...</td>\n",
       "    </tr>\n",
       "    <tr>\n",
       "      <th>581</th>\n",
       "      <td>�d�ybP��\b?y�\u0007�O�l\u001dE�\\tZ�V��Ҹ��</td>\n",
       "      <td>None</td>\n",
       "    </tr>\n",
       "    <tr>\n",
       "      <th>582</th>\n",
       "      <td>4j�\u0016\u001e�\"��\u001e\u0000\u0000�=D��|\u001a\"�\b�r���4��I�*�O8��g3;</td>\n",
       "      <td>None</td>\n",
       "    </tr>\n",
       "    <tr>\n",
       "      <th>583</th>\n",
       "      <td>y�/\u0019�\u000f=B\u000fW\u000f�l�&amp;�\u001aa8pΓu\u000fsL]\u001c������ ��[k8g�dk09c��</td>\n",
       "      <td>\u001b����&amp;��3���f\u001c����'; 6;Z7�V��AV_���l��۔��]��b�...</td>\n",
       "    </tr>\n",
       "    <tr>\n",
       "      <th>584</th>\n",
       "      <td>��m\u0016��ߖl~��2[�C\u000f~��^\u0002\u0000\"Fp=�\u0018�&lt;ϳ\u001ec$�y�Hz�\u0018S1J��...</td>\n",
       "      <td>-/����$��t��e�vXk��U</td>\n",
       "    </tr>\n",
       "    <tr>\n",
       "      <th>585</th>\n",
       "      <td>T���Ù����l���\u0018</td>\n",
       "      <td>'�\u000f��\f��ӍJ;�W5�'�«��r��Ǉ������Bu5^�L\u0000�?���\u000e��|...</td>\n",
       "    </tr>\n",
       "  </tbody>\n",
       "</table>\n",
       "<p>586 rows × 2 columns</p>\n",
       "</div>"
      ],
      "text/plain": [
       "                                                   _c0  \\\n",
       "0    OggS\u0000\u0002\u0000\u0000\u0000\u0000\u0000\u0000\u0000\u0000B��v\u0000\u0000\u0000\u0000��\u0001\n",
       "\u0001vorbis\u0000\u0000\u0000\u0000\u0001\u0000}\u0000\u0000\u0000\u0000\u0000\u0000...   \n",
       "1                                                  \u0010\u001a�   \n",
       "2                                    \u0000�\u0000\u0000\u0010@Q\u0014�q\n",
       "ɑ\n",
       "ɱ\n",
       "\n",
       "\b   \n",
       "3                         Y\u0005\u0000\u0000\u0001\u0000\b\u0000\u0000�H��H��H�$Y�%Y�%Y�扪   \n",
       "4                                         \u0000H\u0000\u0000PQ\n",
       "Eq\u0014\u0007\b   \n",
       "..                                                 ...   \n",
       "581                     �d�ybP��\b?y�\u0007�O�l\n",
       "E�\\tZ�V��Ҹ��   \n",
       "582          4j�\u0016\n",
       "�\"��\n",
       "\u0000\u0000�=D��|\u001a\"�\b�r���4��I�*�O8��g3;   \n",
       "583   y�/\u0019�\u000f=B\u000fW\u000f�l�&�\u001aa8pΓu\u000fsL]\n",
       "������ ��[k8g�dk09c��   \n",
       "584  ��m\u0016��ߖl~��2[�C\u000f~��^\u0002\u0000\"Fp=�\u0018�<ϳ\n",
       "c$�y�Hz�\u0018S1J��...   \n",
       "585                                    T���Ù����l���\u0018    \n",
       "\n",
       "                                                   _c1  \n",
       "0    (���0�\u0016�\u00045(���0�ԃ\n",
       "B���I5�\u001a�gAx\u0016�iA\b!�$AH��\u0006A�\u0018...  \n",
       "1                                                 None  \n",
       "2                                                 None  \n",
       "3                                                    ˲  \n",
       "4                                                 None  \n",
       "..                                                 ...  \n",
       "581                                               None  \n",
       "582                                               None  \n",
       "583  \u001b����&��3���f\n",
       "����'; 6;Z7�V��AV_���l��۔��]��b�...  \n",
       "584                               -/����$��t��e�vXk��U  \n",
       "585  '�\u000f��\n",
       "��ӍJ;�W5�'�«��r��Ǉ������Bu5^�L\u0000�?���\u000e��|...  \n",
       "\n",
       "[586 rows x 2 columns]"
      ]
     },
     "execution_count": 49,
     "metadata": {},
     "output_type": "execute_result"
    }
   ],
   "source": [
    "# load top recording with gs://dsgt-clef-birdclef-2024/data/raw/birdclef-2023/_c11\n",
    "# df_meta_top = df_meta_top.withColumn(\n",
    "#     \"recording_path\",\n",
    "#     f\"gs://dsgt-clef-birdclef-2024/data/raw/birdclef-2023/{df_meta_top['_c11']}\",\n",
    "# )\n",
    "# get first row of df_meta_top\n",
    "# row = df_meta_top.head()\n",
    "\n",
    "# read from google cloud storage\n",
    "\n",
    "\n",
    "# df_single = spark.read(f\"gs://dsgt-clef-birdclef-2024/data/raw/birdclef-2023/train_audio/{row._c11}\")\n",
    "# single_recording = df_single.toPandas()\n",
    "# single_recording"
   ]
  },
  {
   "cell_type": "code",
   "execution_count": 19,
   "metadata": {},
   "outputs": [],
   "source": [
    "row = df_meta_top.head()\n",
    "single_path = f\"data/raw/birdclef-2023/train_audio/{row._c11}\""
   ]
  },
  {
   "cell_type": "code",
   "execution_count": 26,
   "metadata": {},
   "outputs": [
    {
     "data": {
      "text/plain": [
       "0"
      ]
     },
     "execution_count": 26,
     "metadata": {},
     "output_type": "execute_result"
    }
   ],
   "source": [
    "from google.cloud import storage\n",
    "import io\n",
    "\n",
    "client = storage.Client()\n",
    "bucket = client.get_bucket('dsgt-clef-birdclef-2024')\n",
    "blob = bucket.blob(single_path)\n",
    "file_stream = io.BytesIO()\n",
    "blob.download_to_file(file_stream)\n",
    "file_stream.seek(0)"
   ]
  },
  {
   "cell_type": "code",
   "execution_count": 24,
   "metadata": {},
   "outputs": [
    {
     "name": "stderr",
     "output_type": "stream",
     "text": [
      "/home/acheung/birdclef-2024/venv/lib/python3.10/site-packages/torch/nn/utils/weight_norm.py:28: UserWarning: torch.nn.utils.weight_norm is deprecated in favor of torch.nn.utils.parametrizations.weight_norm.\n",
      "  warnings.warn(\"torch.nn.utils.weight_norm is deprecated in favor of torch.nn.utils.parametrizations.weight_norm.\")\n"
     ]
    }
   ],
   "source": [
    "from encodec import EncodecModel\n",
    "from encodec.utils import convert_audio\n",
    "\n",
    "import torchaudio\n",
    "import torch\n",
    "\n",
    "# Instantiate a pretrained EnCodec model\n",
    "model = EncodecModel.encodec_model_24khz()\n",
    "# The number of codebooks used will be determined bythe bandwidth selected.\n",
    "# E.g. for a bandwidth of 6kbps, `n_q = 8` codebooks are used.\n",
    "# Supported bandwidths are 1.5kbps (n_q = 2), 3 kbps (n_q = 4), 6 kbps (n_q = 8) and 12 kbps (n_q =16) and 24kbps (n_q=32).\n",
    "# For the 48 kHz model, only 3, 6, 12, and 24 kbps are supported. The number\n",
    "# of codebooks for each is half that of the 24 kHz model as the frame rate is twice as much.\n",
    "model.set_target_bandwidth(6.0)"
   ]
  },
  {
   "cell_type": "code",
   "execution_count": 27,
   "metadata": {},
   "outputs": [],
   "source": [
    "# Load and pre-process the audio waveform\n",
    "wav, sr = torchaudio.load(file_stream)\n",
    "wav = convert_audio(wav, sr, model.sample_rate, model.channels)\n",
    "wav = wav.unsqueeze(0)\n",
    "\n",
    "# Extract discrete codes from EnCodec\n",
    "with torch.no_grad():\n",
    "    encoded_frames = model.encode(wav)\n",
    "codes = torch.cat([encoded[0] for encoded in encoded_frames], dim=-1)  # [B, n_q, T]"
   ]
  },
  {
   "cell_type": "code",
   "execution_count": 28,
   "metadata": {},
   "outputs": [
    {
     "data": {
      "text/plain": [
       "torch.Size([1, 8, 854])"
      ]
     },
     "execution_count": 28,
     "metadata": {},
     "output_type": "execute_result"
    }
   ],
   "source": [
    "codes.shape"
   ]
  },
  {
   "cell_type": "code",
   "execution_count": 30,
   "metadata": {},
   "outputs": [
    {
     "ename": "RuntimeError",
     "evalue": "Input Tensor has to be 2D.\nException raised from validate_audio_input at /__w/audio/audio/pytorch/audio/src/libtorio/ffmpeg/stream_writer/tensor_converter.cpp:31 (most recent call first):\nframe #0: c10::Error::Error(c10::SourceLocation, std::string) + 0x57 (0x7fc1b424ad87 in /home/acheung/birdclef-2024/venv/lib/python3.10/site-packages/torch/lib/libc10.so)\nframe #1: c10::detail::torchCheckFail(char const*, char const*, unsigned int, char const*) + 0x68 (0x7fc1b41fb828 in /home/acheung/birdclef-2024/venv/lib/python3.10/site-packages/torch/lib/libc10.so)\nframe #2: <unknown function> + 0x579f7 (0x7fc1b40aa9f7 in /home/acheung/birdclef-2024/venv/lib/python3.10/site-packages/torio/lib/libtorio_ffmpeg4.so)\nframe #3: <unknown function> + 0x5826c (0x7fc1b40ab26c in /home/acheung/birdclef-2024/venv/lib/python3.10/site-packages/torio/lib/libtorio_ffmpeg4.so)\nframe #4: torio::io::TensorConverter::convert(at::Tensor const&) + 0x33 (0x7fc1b40ace93 in /home/acheung/birdclef-2024/venv/lib/python3.10/site-packages/torio/lib/libtorio_ffmpeg4.so)\nframe #5: torio::io::EncodeProcess::process(at::Tensor const&, std::optional<double> const&) + 0xbe (0x7fc1b409befe in /home/acheung/birdclef-2024/venv/lib/python3.10/site-packages/torio/lib/libtorio_ffmpeg4.so)\nframe #6: torio::io::StreamingMediaEncoder::write_audio_chunk(int, at::Tensor const&, std::optional<double> const&) + 0xa5 (0x7fc1b40a7695 in /home/acheung/birdclef-2024/venv/lib/python3.10/site-packages/torio/lib/libtorio_ffmpeg4.so)\nframe #7: <unknown function> + 0x3987e (0x7fc0f595287e in /home/acheung/birdclef-2024/venv/lib/python3.10/site-packages/torio/lib/_torio_ffmpeg4.so)\nframe #8: <unknown function> + 0x32147 (0x7fc0f594b147 in /home/acheung/birdclef-2024/venv/lib/python3.10/site-packages/torio/lib/_torio_ffmpeg4.so)\nframe #9: <unknown function> + 0x15a10e (0x558568e4e10e in /home/acheung/birdclef-2024/venv/bin/python)\nframe #10: _PyObject_MakeTpCall + 0x25b (0x558568e44a7b in /home/acheung/birdclef-2024/venv/bin/python)\nframe #11: <unknown function> + 0x168acb (0x558568e5cacb in /home/acheung/birdclef-2024/venv/bin/python)\nframe #12: _PyEval_EvalFrameDefault + 0x614a (0x558568e3ccfa in /home/acheung/birdclef-2024/venv/bin/python)\nframe #13: _PyFunction_Vectorcall + 0x7c (0x558568e4e9fc in /home/acheung/birdclef-2024/venv/bin/python)\nframe #14: _PyEval_EvalFrameDefault + 0x8ac (0x558568e3745c in /home/acheung/birdclef-2024/venv/bin/python)\nframe #15: _PyFunction_Vectorcall + 0x7c (0x558568e4e9fc in /home/acheung/birdclef-2024/venv/bin/python)\nframe #16: _PyEval_EvalFrameDefault + 0x6bd (0x558568e3726d in /home/acheung/birdclef-2024/venv/bin/python)\nframe #17: _PyFunction_Vectorcall + 0x7c (0x558568e4e9fc in /home/acheung/birdclef-2024/venv/bin/python)\nframe #18: _PyEval_EvalFrameDefault + 0x614a (0x558568e3ccfa in /home/acheung/birdclef-2024/venv/bin/python)\nframe #19: _PyFunction_Vectorcall + 0x7c (0x558568e4e9fc in /home/acheung/birdclef-2024/venv/bin/python)\nframe #20: _PyEval_EvalFrameDefault + 0x614a (0x558568e3ccfa in /home/acheung/birdclef-2024/venv/bin/python)\nframe #21: <unknown function> + 0x13f9c6 (0x558568e339c6 in /home/acheung/birdclef-2024/venv/bin/python)\nframe #22: PyEval_EvalCode + 0x86 (0x558568f29256 in /home/acheung/birdclef-2024/venv/bin/python)\nframe #23: <unknown function> + 0x23ae2d (0x558568f2ee2d in /home/acheung/birdclef-2024/venv/bin/python)\nframe #24: <unknown function> + 0x15ac59 (0x558568e4ec59 in /home/acheung/birdclef-2024/venv/bin/python)\nframe #25: _PyEval_EvalFrameDefault + 0x6bd (0x558568e3726d in /home/acheung/birdclef-2024/venv/bin/python)\nframe #26: <unknown function> + 0x177ff0 (0x558568e6bff0 in /home/acheung/birdclef-2024/venv/bin/python)\nframe #27: _PyEval_EvalFrameDefault + 0x2568 (0x558568e39118 in /home/acheung/birdclef-2024/venv/bin/python)\nframe #28: <unknown function> + 0x177ff0 (0x558568e6bff0 in /home/acheung/birdclef-2024/venv/bin/python)\nframe #29: _PyEval_EvalFrameDefault + 0x2568 (0x558568e39118 in /home/acheung/birdclef-2024/venv/bin/python)\nframe #30: <unknown function> + 0x177ff0 (0x558568e6bff0 in /home/acheung/birdclef-2024/venv/bin/python)\nframe #31: <unknown function> + 0x2557af (0x558568f497af in /home/acheung/birdclef-2024/venv/bin/python)\nframe #32: <unknown function> + 0x1662ca (0x558568e5a2ca in /home/acheung/birdclef-2024/venv/bin/python)\nframe #33: _PyEval_EvalFrameDefault + 0x8ac (0x558568e3745c in /home/acheung/birdclef-2024/venv/bin/python)\nframe #34: _PyFunction_Vectorcall + 0x7c (0x558568e4e9fc in /home/acheung/birdclef-2024/venv/bin/python)\nframe #35: _PyEval_EvalFrameDefault + 0x6bd (0x558568e3726d in /home/acheung/birdclef-2024/venv/bin/python)\nframe #36: _PyFunction_Vectorcall + 0x7c (0x558568e4e9fc in /home/acheung/birdclef-2024/venv/bin/python)\nframe #37: _PyEval_EvalFrameDefault + 0x8ac (0x558568e3745c in /home/acheung/birdclef-2024/venv/bin/python)\nframe #38: <unknown function> + 0x1687f1 (0x558568e5c7f1 in /home/acheung/birdclef-2024/venv/bin/python)\nframe #39: PyObject_Call + 0x122 (0x558568e5d492 in /home/acheung/birdclef-2024/venv/bin/python)\nframe #40: _PyEval_EvalFrameDefault + 0x2a27 (0x558568e395d7 in /home/acheung/birdclef-2024/venv/bin/python)\nframe #41: <unknown function> + 0x1687f1 (0x558568e5c7f1 in /home/acheung/birdclef-2024/venv/bin/python)\nframe #42: _PyEval_EvalFrameDefault + 0x198c (0x558568e3853c in /home/acheung/birdclef-2024/venv/bin/python)\nframe #43: <unknown function> + 0x177ff0 (0x558568e6bff0 in /home/acheung/birdclef-2024/venv/bin/python)\nframe #44: _PyEval_EvalFrameDefault + 0x2568 (0x558568e39118 in /home/acheung/birdclef-2024/venv/bin/python)\nframe #45: <unknown function> + 0x177ff0 (0x558568e6bff0 in /home/acheung/birdclef-2024/venv/bin/python)\nframe #46: _PyEval_EvalFrameDefault + 0x2568 (0x558568e39118 in /home/acheung/birdclef-2024/venv/bin/python)\nframe #47: <unknown function> + 0x177ff0 (0x558568e6bff0 in /home/acheung/birdclef-2024/venv/bin/python)\nframe #48: _PyEval_EvalFrameDefault + 0x2568 (0x558568e39118 in /home/acheung/birdclef-2024/venv/bin/python)\nframe #49: <unknown function> + 0x177ff0 (0x558568e6bff0 in /home/acheung/birdclef-2024/venv/bin/python)\nframe #50: _PyEval_EvalFrameDefault + 0x2568 (0x558568e39118 in /home/acheung/birdclef-2024/venv/bin/python)\nframe #51: <unknown function> + 0x177ff0 (0x558568e6bff0 in /home/acheung/birdclef-2024/venv/bin/python)\nframe #52: _PyEval_EvalFrameDefault + 0x2568 (0x558568e39118 in /home/acheung/birdclef-2024/venv/bin/python)\nframe #53: <unknown function> + 0x177ff0 (0x558568e6bff0 in /home/acheung/birdclef-2024/venv/bin/python)\nframe #54: <unknown function> + 0x928e (0x7fc1ef4ee28e in /usr/lib/python3.10/lib-dynload/_asyncio.cpython-310-x86_64-linux-gnu.so)\nframe #55: <unknown function> + 0xa49b (0x7fc1ef4ef49b in /usr/lib/python3.10/lib-dynload/_asyncio.cpython-310-x86_64-linux-gnu.so)\nframe #56: <unknown function> + 0x159b34 (0x558568e4db34 in /home/acheung/birdclef-2024/venv/bin/python)\nframe #57: <unknown function> + 0x236bc5 (0x558568f2abc5 in /home/acheung/birdclef-2024/venv/bin/python)\nframe #58: <unknown function> + 0x2b2572 (0x558568fa6572 in /home/acheung/birdclef-2024/venv/bin/python)\nframe #59: <unknown function> + 0x14d99b (0x558568e4199b in /home/acheung/birdclef-2024/venv/bin/python)\nframe #60: _PyEval_EvalFrameDefault + 0x2a27 (0x558568e395d7 in /home/acheung/birdclef-2024/venv/bin/python)\nframe #61: _PyFunction_Vectorcall + 0x7c (0x558568e4e9fc in /home/acheung/birdclef-2024/venv/bin/python)\nframe #62: _PyEval_EvalFrameDefault + 0x8ac (0x558568e3745c in /home/acheung/birdclef-2024/venv/bin/python)\nframe #63: _PyFunction_Vectorcall + 0x7c (0x558568e4e9fc in /home/acheung/birdclef-2024/venv/bin/python)\n",
     "output_type": "error",
     "traceback": [
      "\u001b[0;31m---------------------------------------------------------------------------\u001b[0m",
      "\u001b[0;31mRuntimeError\u001b[0m                              Traceback (most recent call last)",
      "Cell \u001b[0;32mIn[30], line 6\u001b[0m\n\u001b[1;32m      3\u001b[0m     decoded_frames \u001b[38;5;241m=\u001b[39m model\u001b[38;5;241m.\u001b[39mdecode(encoded_frames)\n\u001b[1;32m      4\u001b[0m \u001b[38;5;66;03m# decoded = torch.cat([decoded[0] for decoded in decoded_frames], dim=-1)  # [B, 1, T]\u001b[39;00m\n\u001b[1;32m      5\u001b[0m \u001b[38;5;66;03m# save\u001b[39;00m\n\u001b[0;32m----> 6\u001b[0m \u001b[43mtorchaudio\u001b[49m\u001b[38;5;241;43m.\u001b[39;49m\u001b[43msave\u001b[49m\u001b[43m(\u001b[49m\u001b[38;5;124;43m\"\u001b[39;49m\u001b[38;5;124;43mdata/reconstructed.wav\u001b[39;49m\u001b[38;5;124;43m\"\u001b[39;49m\u001b[43m,\u001b[49m\u001b[43m \u001b[49m\u001b[43mdecoded_frames\u001b[49m\u001b[43m,\u001b[49m\u001b[43m \u001b[49m\u001b[43mmodel\u001b[49m\u001b[38;5;241;43m.\u001b[39;49m\u001b[43msample_rate\u001b[49m\u001b[43m)\u001b[49m\n",
      "File \u001b[0;32m~/birdclef-2024/venv/lib/python3.10/site-packages/torchaudio/_backend/utils.py:313\u001b[0m, in \u001b[0;36mget_save_func.<locals>.save\u001b[0;34m(uri, src, sample_rate, channels_first, format, encoding, bits_per_sample, buffer_size, backend, compression)\u001b[0m\n\u001b[1;32m    236\u001b[0m \u001b[38;5;250m\u001b[39m\u001b[38;5;124;03m\"\"\"Save audio data to file.\u001b[39;00m\n\u001b[1;32m    237\u001b[0m \n\u001b[1;32m    238\u001b[0m \u001b[38;5;124;03mNote:\u001b[39;00m\n\u001b[0;32m   (...)\u001b[0m\n\u001b[1;32m    310\u001b[0m \n\u001b[1;32m    311\u001b[0m \u001b[38;5;124;03m\"\"\"\u001b[39;00m\n\u001b[1;32m    312\u001b[0m backend \u001b[38;5;241m=\u001b[39m dispatcher(uri, \u001b[38;5;28mformat\u001b[39m, backend)\n\u001b[0;32m--> 313\u001b[0m \u001b[38;5;28;01mreturn\u001b[39;00m \u001b[43mbackend\u001b[49m\u001b[38;5;241;43m.\u001b[39;49m\u001b[43msave\u001b[49m\u001b[43m(\u001b[49m\n\u001b[1;32m    314\u001b[0m \u001b[43m    \u001b[49m\u001b[43muri\u001b[49m\u001b[43m,\u001b[49m\u001b[43m \u001b[49m\u001b[43msrc\u001b[49m\u001b[43m,\u001b[49m\u001b[43m \u001b[49m\u001b[43msample_rate\u001b[49m\u001b[43m,\u001b[49m\u001b[43m \u001b[49m\u001b[43mchannels_first\u001b[49m\u001b[43m,\u001b[49m\u001b[43m \u001b[49m\u001b[38;5;28;43mformat\u001b[39;49m\u001b[43m,\u001b[49m\u001b[43m \u001b[49m\u001b[43mencoding\u001b[49m\u001b[43m,\u001b[49m\u001b[43m \u001b[49m\u001b[43mbits_per_sample\u001b[49m\u001b[43m,\u001b[49m\u001b[43m \u001b[49m\u001b[43mbuffer_size\u001b[49m\u001b[43m,\u001b[49m\u001b[43m \u001b[49m\u001b[43mcompression\u001b[49m\n\u001b[1;32m    315\u001b[0m \u001b[43m\u001b[49m\u001b[43m)\u001b[49m\n",
      "File \u001b[0;32m~/birdclef-2024/venv/lib/python3.10/site-packages/torchaudio/_backend/ffmpeg.py:316\u001b[0m, in \u001b[0;36mFFmpegBackend.save\u001b[0;34m(uri, src, sample_rate, channels_first, format, encoding, bits_per_sample, buffer_size, compression)\u001b[0m\n\u001b[1;32m    311\u001b[0m \u001b[38;5;28;01mif\u001b[39;00m \u001b[38;5;129;01mnot\u001b[39;00m \u001b[38;5;28misinstance\u001b[39m(compression, (torchaudio\u001b[38;5;241m.\u001b[39mio\u001b[38;5;241m.\u001b[39mCodecConfig, \u001b[38;5;28mtype\u001b[39m(\u001b[38;5;28;01mNone\u001b[39;00m))):\n\u001b[1;32m    312\u001b[0m     \u001b[38;5;28;01mraise\u001b[39;00m \u001b[38;5;167;01mValueError\u001b[39;00m(\n\u001b[1;32m    313\u001b[0m         \u001b[38;5;124m\"\u001b[39m\u001b[38;5;124mFFmpeg backend expects non-`None` value for argument `compression` to be of \u001b[39m\u001b[38;5;124m\"\u001b[39m,\n\u001b[1;32m    314\u001b[0m         \u001b[38;5;124mf\u001b[39m\u001b[38;5;124m\"\u001b[39m\u001b[38;5;124mtype `torchaudio.io.CodecConfig`, but received value of type \u001b[39m\u001b[38;5;132;01m{\u001b[39;00m\u001b[38;5;28mtype\u001b[39m(compression)\u001b[38;5;132;01m}\u001b[39;00m\u001b[38;5;124m\"\u001b[39m,\n\u001b[1;32m    315\u001b[0m     )\n\u001b[0;32m--> 316\u001b[0m \u001b[43msave_audio\u001b[49m\u001b[43m(\u001b[49m\n\u001b[1;32m    317\u001b[0m \u001b[43m    \u001b[49m\u001b[43muri\u001b[49m\u001b[43m,\u001b[49m\n\u001b[1;32m    318\u001b[0m \u001b[43m    \u001b[49m\u001b[43msrc\u001b[49m\u001b[43m,\u001b[49m\n\u001b[1;32m    319\u001b[0m \u001b[43m    \u001b[49m\u001b[43msample_rate\u001b[49m\u001b[43m,\u001b[49m\n\u001b[1;32m    320\u001b[0m \u001b[43m    \u001b[49m\u001b[43mchannels_first\u001b[49m\u001b[43m,\u001b[49m\n\u001b[1;32m    321\u001b[0m \u001b[43m    \u001b[49m\u001b[38;5;28;43mformat\u001b[39;49m\u001b[43m,\u001b[49m\n\u001b[1;32m    322\u001b[0m \u001b[43m    \u001b[49m\u001b[43mencoding\u001b[49m\u001b[43m,\u001b[49m\n\u001b[1;32m    323\u001b[0m \u001b[43m    \u001b[49m\u001b[43mbits_per_sample\u001b[49m\u001b[43m,\u001b[49m\n\u001b[1;32m    324\u001b[0m \u001b[43m    \u001b[49m\u001b[43mbuffer_size\u001b[49m\u001b[43m,\u001b[49m\n\u001b[1;32m    325\u001b[0m \u001b[43m    \u001b[49m\u001b[43mcompression\u001b[49m\u001b[43m,\u001b[49m\n\u001b[1;32m    326\u001b[0m \u001b[43m\u001b[49m\u001b[43m)\u001b[49m\n",
      "File \u001b[0;32m~/birdclef-2024/venv/lib/python3.10/site-packages/torchaudio/_backend/ffmpeg.py:257\u001b[0m, in \u001b[0;36msave_audio\u001b[0;34m(uri, src, sample_rate, channels_first, format, encoding, bits_per_sample, buffer_size, compression)\u001b[0m\n\u001b[1;32m    248\u001b[0m s\u001b[38;5;241m.\u001b[39madd_audio_stream(\n\u001b[1;32m    249\u001b[0m     sample_rate,\n\u001b[1;32m    250\u001b[0m     num_channels\u001b[38;5;241m=\u001b[39msrc\u001b[38;5;241m.\u001b[39msize(\u001b[38;5;241m-\u001b[39m\u001b[38;5;241m1\u001b[39m),\n\u001b[0;32m   (...)\u001b[0m\n\u001b[1;32m    254\u001b[0m     codec_config\u001b[38;5;241m=\u001b[39mcompression,\n\u001b[1;32m    255\u001b[0m )\n\u001b[1;32m    256\u001b[0m \u001b[38;5;28;01mwith\u001b[39;00m s\u001b[38;5;241m.\u001b[39mopen():\n\u001b[0;32m--> 257\u001b[0m     \u001b[43ms\u001b[49m\u001b[38;5;241;43m.\u001b[39;49m\u001b[43mwrite_audio_chunk\u001b[49m\u001b[43m(\u001b[49m\u001b[38;5;241;43m0\u001b[39;49m\u001b[43m,\u001b[49m\u001b[43m \u001b[49m\u001b[43msrc\u001b[49m\u001b[43m)\u001b[49m\n",
      "File \u001b[0;32m~/birdclef-2024/venv/lib/python3.10/site-packages/torio/io/_streaming_media_encoder.py:469\u001b[0m, in \u001b[0;36mStreamingMediaEncoder.write_audio_chunk\u001b[0;34m(self, i, chunk, pts)\u001b[0m\n\u001b[1;32m    454\u001b[0m \u001b[38;5;28;01mdef\u001b[39;00m \u001b[38;5;21mwrite_audio_chunk\u001b[39m(\u001b[38;5;28mself\u001b[39m, i: \u001b[38;5;28mint\u001b[39m, chunk: torch\u001b[38;5;241m.\u001b[39mTensor, pts: Optional[\u001b[38;5;28mfloat\u001b[39m] \u001b[38;5;241m=\u001b[39m \u001b[38;5;28;01mNone\u001b[39;00m):\n\u001b[1;32m    455\u001b[0m \u001b[38;5;250m    \u001b[39m\u001b[38;5;124;03m\"\"\"Write audio data\u001b[39;00m\n\u001b[1;32m    456\u001b[0m \n\u001b[1;32m    457\u001b[0m \u001b[38;5;124;03m    Args:\u001b[39;00m\n\u001b[0;32m   (...)\u001b[0m\n\u001b[1;32m    467\u001b[0m \u001b[38;5;124;03m               ``n / sample_rate``.\u001b[39;00m\n\u001b[1;32m    468\u001b[0m \u001b[38;5;124;03m    \"\"\"\u001b[39;00m\n\u001b[0;32m--> 469\u001b[0m     \u001b[38;5;28;43mself\u001b[39;49m\u001b[38;5;241;43m.\u001b[39;49m\u001b[43m_s\u001b[49m\u001b[38;5;241;43m.\u001b[39;49m\u001b[43mwrite_audio_chunk\u001b[49m\u001b[43m(\u001b[49m\u001b[43mi\u001b[49m\u001b[43m,\u001b[49m\u001b[43m \u001b[49m\u001b[43mchunk\u001b[49m\u001b[43m,\u001b[49m\u001b[43m \u001b[49m\u001b[43mpts\u001b[49m\u001b[43m)\u001b[49m\n",
      "\u001b[0;31mRuntimeError\u001b[0m: Input Tensor has to be 2D.\nException raised from validate_audio_input at /__w/audio/audio/pytorch/audio/src/libtorio/ffmpeg/stream_writer/tensor_converter.cpp:31 (most recent call first):\nframe #0: c10::Error::Error(c10::SourceLocation, std::string) + 0x57 (0x7fc1b424ad87 in /home/acheung/birdclef-2024/venv/lib/python3.10/site-packages/torch/lib/libc10.so)\nframe #1: c10::detail::torchCheckFail(char const*, char const*, unsigned int, char const*) + 0x68 (0x7fc1b41fb828 in /home/acheung/birdclef-2024/venv/lib/python3.10/site-packages/torch/lib/libc10.so)\nframe #2: <unknown function> + 0x579f7 (0x7fc1b40aa9f7 in /home/acheung/birdclef-2024/venv/lib/python3.10/site-packages/torio/lib/libtorio_ffmpeg4.so)\nframe #3: <unknown function> + 0x5826c (0x7fc1b40ab26c in /home/acheung/birdclef-2024/venv/lib/python3.10/site-packages/torio/lib/libtorio_ffmpeg4.so)\nframe #4: torio::io::TensorConverter::convert(at::Tensor const&) + 0x33 (0x7fc1b40ace93 in /home/acheung/birdclef-2024/venv/lib/python3.10/site-packages/torio/lib/libtorio_ffmpeg4.so)\nframe #5: torio::io::EncodeProcess::process(at::Tensor const&, std::optional<double> const&) + 0xbe (0x7fc1b409befe in /home/acheung/birdclef-2024/venv/lib/python3.10/site-packages/torio/lib/libtorio_ffmpeg4.so)\nframe #6: torio::io::StreamingMediaEncoder::write_audio_chunk(int, at::Tensor const&, std::optional<double> const&) + 0xa5 (0x7fc1b40a7695 in /home/acheung/birdclef-2024/venv/lib/python3.10/site-packages/torio/lib/libtorio_ffmpeg4.so)\nframe #7: <unknown function> + 0x3987e (0x7fc0f595287e in /home/acheung/birdclef-2024/venv/lib/python3.10/site-packages/torio/lib/_torio_ffmpeg4.so)\nframe #8: <unknown function> + 0x32147 (0x7fc0f594b147 in /home/acheung/birdclef-2024/venv/lib/python3.10/site-packages/torio/lib/_torio_ffmpeg4.so)\nframe #9: <unknown function> + 0x15a10e (0x558568e4e10e in /home/acheung/birdclef-2024/venv/bin/python)\nframe #10: _PyObject_MakeTpCall + 0x25b (0x558568e44a7b in /home/acheung/birdclef-2024/venv/bin/python)\nframe #11: <unknown function> + 0x168acb (0x558568e5cacb in /home/acheung/birdclef-2024/venv/bin/python)\nframe #12: _PyEval_EvalFrameDefault + 0x614a (0x558568e3ccfa in /home/acheung/birdclef-2024/venv/bin/python)\nframe #13: _PyFunction_Vectorcall + 0x7c (0x558568e4e9fc in /home/acheung/birdclef-2024/venv/bin/python)\nframe #14: _PyEval_EvalFrameDefault + 0x8ac (0x558568e3745c in /home/acheung/birdclef-2024/venv/bin/python)\nframe #15: _PyFunction_Vectorcall + 0x7c (0x558568e4e9fc in /home/acheung/birdclef-2024/venv/bin/python)\nframe #16: _PyEval_EvalFrameDefault + 0x6bd (0x558568e3726d in /home/acheung/birdclef-2024/venv/bin/python)\nframe #17: _PyFunction_Vectorcall + 0x7c (0x558568e4e9fc in /home/acheung/birdclef-2024/venv/bin/python)\nframe #18: _PyEval_EvalFrameDefault + 0x614a (0x558568e3ccfa in /home/acheung/birdclef-2024/venv/bin/python)\nframe #19: _PyFunction_Vectorcall + 0x7c (0x558568e4e9fc in /home/acheung/birdclef-2024/venv/bin/python)\nframe #20: _PyEval_EvalFrameDefault + 0x614a (0x558568e3ccfa in /home/acheung/birdclef-2024/venv/bin/python)\nframe #21: <unknown function> + 0x13f9c6 (0x558568e339c6 in /home/acheung/birdclef-2024/venv/bin/python)\nframe #22: PyEval_EvalCode + 0x86 (0x558568f29256 in /home/acheung/birdclef-2024/venv/bin/python)\nframe #23: <unknown function> + 0x23ae2d (0x558568f2ee2d in /home/acheung/birdclef-2024/venv/bin/python)\nframe #24: <unknown function> + 0x15ac59 (0x558568e4ec59 in /home/acheung/birdclef-2024/venv/bin/python)\nframe #25: _PyEval_EvalFrameDefault + 0x6bd (0x558568e3726d in /home/acheung/birdclef-2024/venv/bin/python)\nframe #26: <unknown function> + 0x177ff0 (0x558568e6bff0 in /home/acheung/birdclef-2024/venv/bin/python)\nframe #27: _PyEval_EvalFrameDefault + 0x2568 (0x558568e39118 in /home/acheung/birdclef-2024/venv/bin/python)\nframe #28: <unknown function> + 0x177ff0 (0x558568e6bff0 in /home/acheung/birdclef-2024/venv/bin/python)\nframe #29: _PyEval_EvalFrameDefault + 0x2568 (0x558568e39118 in /home/acheung/birdclef-2024/venv/bin/python)\nframe #30: <unknown function> + 0x177ff0 (0x558568e6bff0 in /home/acheung/birdclef-2024/venv/bin/python)\nframe #31: <unknown function> + 0x2557af (0x558568f497af in /home/acheung/birdclef-2024/venv/bin/python)\nframe #32: <unknown function> + 0x1662ca (0x558568e5a2ca in /home/acheung/birdclef-2024/venv/bin/python)\nframe #33: _PyEval_EvalFrameDefault + 0x8ac (0x558568e3745c in /home/acheung/birdclef-2024/venv/bin/python)\nframe #34: _PyFunction_Vectorcall + 0x7c (0x558568e4e9fc in /home/acheung/birdclef-2024/venv/bin/python)\nframe #35: _PyEval_EvalFrameDefault + 0x6bd (0x558568e3726d in /home/acheung/birdclef-2024/venv/bin/python)\nframe #36: _PyFunction_Vectorcall + 0x7c (0x558568e4e9fc in /home/acheung/birdclef-2024/venv/bin/python)\nframe #37: _PyEval_EvalFrameDefault + 0x8ac (0x558568e3745c in /home/acheung/birdclef-2024/venv/bin/python)\nframe #38: <unknown function> + 0x1687f1 (0x558568e5c7f1 in /home/acheung/birdclef-2024/venv/bin/python)\nframe #39: PyObject_Call + 0x122 (0x558568e5d492 in /home/acheung/birdclef-2024/venv/bin/python)\nframe #40: _PyEval_EvalFrameDefault + 0x2a27 (0x558568e395d7 in /home/acheung/birdclef-2024/venv/bin/python)\nframe #41: <unknown function> + 0x1687f1 (0x558568e5c7f1 in /home/acheung/birdclef-2024/venv/bin/python)\nframe #42: _PyEval_EvalFrameDefault + 0x198c (0x558568e3853c in /home/acheung/birdclef-2024/venv/bin/python)\nframe #43: <unknown function> + 0x177ff0 (0x558568e6bff0 in /home/acheung/birdclef-2024/venv/bin/python)\nframe #44: _PyEval_EvalFrameDefault + 0x2568 (0x558568e39118 in /home/acheung/birdclef-2024/venv/bin/python)\nframe #45: <unknown function> + 0x177ff0 (0x558568e6bff0 in /home/acheung/birdclef-2024/venv/bin/python)\nframe #46: _PyEval_EvalFrameDefault + 0x2568 (0x558568e39118 in /home/acheung/birdclef-2024/venv/bin/python)\nframe #47: <unknown function> + 0x177ff0 (0x558568e6bff0 in /home/acheung/birdclef-2024/venv/bin/python)\nframe #48: _PyEval_EvalFrameDefault + 0x2568 (0x558568e39118 in /home/acheung/birdclef-2024/venv/bin/python)\nframe #49: <unknown function> + 0x177ff0 (0x558568e6bff0 in /home/acheung/birdclef-2024/venv/bin/python)\nframe #50: _PyEval_EvalFrameDefault + 0x2568 (0x558568e39118 in /home/acheung/birdclef-2024/venv/bin/python)\nframe #51: <unknown function> + 0x177ff0 (0x558568e6bff0 in /home/acheung/birdclef-2024/venv/bin/python)\nframe #52: _PyEval_EvalFrameDefault + 0x2568 (0x558568e39118 in /home/acheung/birdclef-2024/venv/bin/python)\nframe #53: <unknown function> + 0x177ff0 (0x558568e6bff0 in /home/acheung/birdclef-2024/venv/bin/python)\nframe #54: <unknown function> + 0x928e (0x7fc1ef4ee28e in /usr/lib/python3.10/lib-dynload/_asyncio.cpython-310-x86_64-linux-gnu.so)\nframe #55: <unknown function> + 0xa49b (0x7fc1ef4ef49b in /usr/lib/python3.10/lib-dynload/_asyncio.cpython-310-x86_64-linux-gnu.so)\nframe #56: <unknown function> + 0x159b34 (0x558568e4db34 in /home/acheung/birdclef-2024/venv/bin/python)\nframe #57: <unknown function> + 0x236bc5 (0x558568f2abc5 in /home/acheung/birdclef-2024/venv/bin/python)\nframe #58: <unknown function> + 0x2b2572 (0x558568fa6572 in /home/acheung/birdclef-2024/venv/bin/python)\nframe #59: <unknown function> + 0x14d99b (0x558568e4199b in /home/acheung/birdclef-2024/venv/bin/python)\nframe #60: _PyEval_EvalFrameDefault + 0x2a27 (0x558568e395d7 in /home/acheung/birdclef-2024/venv/bin/python)\nframe #61: _PyFunction_Vectorcall + 0x7c (0x558568e4e9fc in /home/acheung/birdclef-2024/venv/bin/python)\nframe #62: _PyEval_EvalFrameDefault + 0x8ac (0x558568e3745c in /home/acheung/birdclef-2024/venv/bin/python)\nframe #63: _PyFunction_Vectorcall + 0x7c (0x558568e4e9fc in /home/acheung/birdclef-2024/venv/bin/python)\n"
     ]
    }
   ],
   "source": [
    "# decode\n",
    "with torch.no_grad():\n",
    "    decoded_frames = model.decode(encoded_frames)\n",
    "# save\n",
    "torchaudio.save(\"data/reconstructed.wav\", decoded_frames, model.sample_rate)"
   ]
  }
 ],
 "metadata": {
  "kernelspec": {
   "display_name": "venv",
   "language": "python",
   "name": "python3"
  },
  "language_info": {
   "codemirror_mode": {
    "name": "ipython",
    "version": 3
   },
   "file_extension": ".py",
   "mimetype": "text/x-python",
   "name": "python",
   "nbconvert_exporter": "python",
   "pygments_lexer": "ipython3",
   "version": "3.10.12"
  }
 },
 "nbformat": 4,
 "nbformat_minor": 2
}
