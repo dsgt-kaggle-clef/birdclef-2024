{
 "cells": [
  {
   "cell_type": "code",
   "execution_count": 1,
   "metadata": {},
   "outputs": [],
   "source": [
    "%load_ext autoreload\n",
    "%autoreload 2"
   ]
  },
  {
   "cell_type": "code",
   "execution_count": 2,
   "metadata": {},
   "outputs": [
    {
     "name": "stdout",
     "output_type": "stream",
     "text": [
      "gs://dsgt-clef-birdclef-2024/data/raw/birdclef-2023/eBird_Taxonomy_v2021.csv\n",
      "gs://dsgt-clef-birdclef-2024/data/raw/birdclef-2023/sample_submission.csv\n",
      "gs://dsgt-clef-birdclef-2024/data/raw/birdclef-2023/train_metadata.csv\n",
      "gs://dsgt-clef-birdclef-2024/data/raw/birdclef-2023/test_soundscapes/\n",
      "gs://dsgt-clef-birdclef-2024/data/raw/birdclef-2023/train_audio/\n"
     ]
    }
   ],
   "source": [
    "! gcloud storage ls gs://dsgt-clef-birdclef-2024/data/raw/birdclef-2023 | head"
   ]
  },
  {
   "cell_type": "code",
   "execution_count": 4,
   "metadata": {},
   "outputs": [
    {
     "name": "stderr",
     "output_type": "stream",
     "text": [
      "Setting default log level to \"WARN\".\n",
      "To adjust logging level use sc.setLogLevel(newLevel). For SparkR, use setLogLevel(newLevel).\n",
      "24/02/19 19:59:59 WARN NativeCodeLoader: Unable to load native-hadoop library for your platform... using builtin-java classes where applicable\n",
      "24/02/19 20:00:03 WARN Utils: Service 'SparkUI' could not bind on port 4040. Attempting port 4041.\n"
     ]
    },
    {
     "data": {
      "text/html": [
       "\n",
       "            <div>\n",
       "                <p><b>SparkSession - in-memory</b></p>\n",
       "                \n",
       "        <div>\n",
       "            <p><b>SparkContext</b></p>\n",
       "\n",
       "            <p><a href=\"http://birdclef-dev.us-central1-a.c.dsgt-clef-2024.internal:4041\">Spark UI</a></p>\n",
       "\n",
       "            <dl>\n",
       "              <dt>Version</dt>\n",
       "                <dd><code>v3.5.0</code></dd>\n",
       "              <dt>Master</dt>\n",
       "                <dd><code>local[*]</code></dd>\n",
       "              <dt>AppName</dt>\n",
       "                <dd><code>pyspark-shell</code></dd>\n",
       "            </dl>\n",
       "        </div>\n",
       "        \n",
       "            </div>\n",
       "        "
      ],
      "text/plain": [
       "<pyspark.sql.session.SparkSession at 0x7fa504fe9540>"
      ]
     },
     "metadata": {},
     "output_type": "display_data"
    },
    {
     "name": "stderr",
     "output_type": "stream",
     "text": [
      "                                                                                \r"
     ]
    },
    {
     "name": "stdout",
     "output_type": "stream",
     "text": [
      "root\n",
      " |-- _c0: string (nullable = true)\n",
      " |-- _c1: string (nullable = true)\n",
      " |-- _c2: string (nullable = true)\n",
      " |-- _c3: string (nullable = true)\n",
      " |-- _c4: string (nullable = true)\n",
      " |-- _c5: string (nullable = true)\n",
      " |-- _c6: string (nullable = true)\n",
      " |-- _c7: string (nullable = true)\n",
      " |-- _c8: string (nullable = true)\n",
      " |-- _c9: string (nullable = true)\n",
      " |-- _c10: string (nullable = true)\n",
      " |-- _c11: string (nullable = true)\n",
      "\n",
      "-RECORD 0----------------\n",
      " _c0  | primary_label    \n",
      " _c1  | secondary_labels \n",
      " _c2  | type             \n",
      " _c3  | latitude         \n",
      " _c4  | longitude        \n",
      " _c5  | scientific_name  \n",
      " _c6  | common_name      \n",
      " _c7  | author           \n",
      " _c8  | license          \n",
      " _c9  | rating           \n",
      " _c10 | url              \n",
      " _c11 | filename         \n",
      "only showing top 1 row\n",
      "\n"
     ]
    }
   ],
   "source": [
    "from birdclef.utils import get_spark\n",
    "from IPython.display import Image, display\n",
    "\n",
    "spark = get_spark()\n",
    "display(spark)\n",
    "\n",
    "# read straight from the bucket\n",
    "df_meta = spark.read.csv(\n",
    "    \"gs://dsgt-clef-birdclef-2024/data/raw/birdclef-2023/train_metadata.csv\"\n",
    ")\n",
    "df_meta.printSchema()\n",
    "df_meta.show(vertical=True, n=1, truncate=100)"
   ]
  },
  {
   "cell_type": "code",
   "execution_count": 6,
   "metadata": {},
   "outputs": [
    {
     "name": "stdout",
     "output_type": "stream",
     "text": [
      "+-------------+----------------+--------+--------+---------+------------------+--------------------+-------------+--------------------+------+--------------------+--------------------+\n",
      "|          _c0|             _c1|     _c2|     _c3|      _c4|               _c5|                 _c6|          _c7|                 _c8|   _c9|                _c10|                _c11|\n",
      "+-------------+----------------+--------+--------+---------+------------------+--------------------+-------------+--------------------+------+--------------------+--------------------+\n",
      "|primary_label|secondary_labels|    type|latitude|longitude|   scientific_name|         common_name|       author|             license|rating|                 url|            filename|\n",
      "|      abethr1|              []|['song']|  4.3906|  38.2788|Turdus tephronotus|African Bare-eyed...|Rolf A. de By|Creative Commons ...|   4.0|https://www.xeno-...|abethr1/XC128013.ogg|\n",
      "|      abethr1|              []|['call']| -2.9524|  38.2921|Turdus tephronotus|African Bare-eyed...|James Bradley|Creative Commons ...|   3.5|https://www.xeno-...|abethr1/XC363501.ogg|\n",
      "|      abethr1|              []|['song']| -2.9524|  38.2921|Turdus tephronotus|African Bare-eyed...|James Bradley|Creative Commons ...|   3.5|https://www.xeno-...|abethr1/XC363502.ogg|\n",
      "|      abethr1|              []|['song']| -2.9524|  38.2921|Turdus tephronotus|African Bare-eyed...|James Bradley|Creative Commons ...|   5.0|https://www.xeno-...|abethr1/XC363503.ogg|\n",
      "+-------------+----------------+--------+--------+---------+------------------+--------------------+-------------+--------------------+------+--------------------+--------------------+\n",
      "only showing top 5 rows\n",
      "\n"
     ]
    }
   ],
   "source": [
    "df_meta.show(n=5)"
   ]
  },
  {
   "cell_type": "code",
   "execution_count": 7,
   "metadata": {},
   "outputs": [
    {
     "name": "stderr",
     "output_type": "stream",
     "text": [
      "/tmp/ipykernel_5381/1609202181.py:2: DeprecationWarning: \n",
      "Pyarrow will become a required dependency of pandas in the next major release of pandas (pandas 3.0),\n",
      "(to allow more performant data types, such as the Arrow string type, and better interoperability with other libraries)\n",
      "but was not found to be installed on your system.\n",
      "If this would cause problems for you,\n",
      "please provide us feedback at https://github.com/pandas-dev/pandas/issues/54466\n",
      "        \n",
      "  import pandas as pd\n",
      "/home/acheung/birdclef-2024/venv/lib/python3.10/site-packages/pyspark/sql/pandas/conversion.py:111: UserWarning: toPandas attempted Arrow optimization because 'spark.sql.execution.arrow.pyspark.enabled' is set to true; however, failed by the reason below:\n",
      "  PyArrow >= 4.0.0 must be installed; however, it was not found.\n",
      "Attempting non-optimization as 'spark.sql.execution.arrow.pyspark.fallback.enabled' is set to true.\n",
      "  warn(msg)\n",
      "                                                                                \r"
     ]
    }
   ],
   "source": [
    "from matplotlib import pyplot as plt\n",
    "import pandas as pd\n",
    "\n",
    "# Group by species and count\n",
    "species_counts = df_meta.groupBy(\"_c5\").count().orderBy(\"count\", ascending=False)\n",
    "\n",
    "# Convert to Pandas DataFrame for plotting\n",
    "species_df = species_counts.toPandas()\n",
    "\n",
    "# Get the top 5 species\n",
    "top_5 = species_df.head(5)"
   ]
  },
  {
   "cell_type": "code",
   "execution_count": 8,
   "metadata": {},
   "outputs": [
    {
     "data": {
      "text/html": [
       "<div>\n",
       "<style scoped>\n",
       "    .dataframe tbody tr th:only-of-type {\n",
       "        vertical-align: middle;\n",
       "    }\n",
       "\n",
       "    .dataframe tbody tr th {\n",
       "        vertical-align: top;\n",
       "    }\n",
       "\n",
       "    .dataframe thead th {\n",
       "        text-align: right;\n",
       "    }\n",
       "</style>\n",
       "<table border=\"1\" class=\"dataframe\">\n",
       "  <thead>\n",
       "    <tr style=\"text-align: right;\">\n",
       "      <th></th>\n",
       "      <th>_c5</th>\n",
       "      <th>count</th>\n",
       "    </tr>\n",
       "  </thead>\n",
       "  <tbody>\n",
       "    <tr>\n",
       "      <th>0</th>\n",
       "      <td>Actitis hypoleucos</td>\n",
       "      <td>500</td>\n",
       "    </tr>\n",
       "    <tr>\n",
       "      <th>1</th>\n",
       "      <td>Hirundo rustica</td>\n",
       "      <td>499</td>\n",
       "    </tr>\n",
       "    <tr>\n",
       "      <th>2</th>\n",
       "      <td>Phylloscopus trochilus</td>\n",
       "      <td>499</td>\n",
       "    </tr>\n",
       "    <tr>\n",
       "      <th>3</th>\n",
       "      <td>Luscinia luscinia</td>\n",
       "      <td>498</td>\n",
       "    </tr>\n",
       "    <tr>\n",
       "      <th>4</th>\n",
       "      <td>Motacilla flava</td>\n",
       "      <td>498</td>\n",
       "    </tr>\n",
       "  </tbody>\n",
       "</table>\n",
       "</div>"
      ],
      "text/plain": [
       "                      _c5  count\n",
       "0      Actitis hypoleucos    500\n",
       "1         Hirundo rustica    499\n",
       "2  Phylloscopus trochilus    499\n",
       "3       Luscinia luscinia    498\n",
       "4         Motacilla flava    498"
      ]
     },
     "execution_count": 8,
     "metadata": {},
     "output_type": "execute_result"
    }
   ],
   "source": [
    "top_5"
   ]
  },
  {
   "cell_type": "code",
   "execution_count": 9,
   "metadata": {},
   "outputs": [],
   "source": [
    "from pyspark.sql import Window\n",
    "from pyspark.sql.functions import desc, row_number\n",
    "\n",
    "# filter the top 5 species\n",
    "num_species = 5\n",
    "top_species = species_df.head(num_species)[\"_c5\"].values.tolist()\n",
    "df_meta_top = df_meta.filter(df_meta._c5.isin(top_species))\n",
    "\n",
    "# take top 100 of every species\n",
    "num_per_species = 100\n",
    "window = Window.partitionBy(\"_c5\").orderBy(desc(\"_c9\"))\n",
    "df_meta_top = df_meta_top.withColumn(\"row_num\", row_number().over(window))\n",
    "df_meta_top = df_meta_top.filter(df_meta_top.row_num <= num_per_species)"
   ]
  },
  {
   "cell_type": "code",
   "execution_count": 10,
   "metadata": {},
   "outputs": [
    {
     "data": {
      "text/plain": [
       "500"
      ]
     },
     "execution_count": 10,
     "metadata": {},
     "output_type": "execute_result"
    }
   ],
   "source": [
    "count = df_meta_top.count()\n",
    "count"
   ]
  },
  {
   "cell_type": "code",
   "execution_count": 11,
   "metadata": {},
   "outputs": [
    {
     "name": "stderr",
     "output_type": "stream",
     "text": [
      "[Stage 18:>                                                         (0 + 1) / 1]\r"
     ]
    },
    {
     "name": "stdout",
     "output_type": "stream",
     "text": [
      "+------+---+--------------------+-------+-------+------------------+----------------+--------------------+--------------------+---+--------------------+-------------------+-------+\n",
      "|   _c0|_c1|                 _c2|    _c3|    _c4|               _c5|             _c6|                 _c7|                 _c8|_c9|                _c10|               _c11|row_num|\n",
      "+------+---+--------------------+-------+-------+------------------+----------------+--------------------+--------------------+---+--------------------+-------------------+-------+\n",
      "|comsan| []|['female', 'fligh...|52.3527|20.9197|Actitis hypoleucos|Common Sandpiper|      Jarek Matusiak|Creative Commons ...|5.0|https://www.xeno-...|comsan/XC129378.ogg|      1|\n",
      "|comsan| []|            ['call']|54.2697| 8.8683|Actitis hypoleucos|Common Sandpiper|       Volker Arnold|Creative Commons ...|5.0|https://www.xeno-...|comsan/XC142817.ogg|      2|\n",
      "|comsan| []|            ['call']|55.0194|82.8918|Actitis hypoleucos|Common Sandpiper|          Sander Bot|Creative Commons ...|5.0|https://www.xeno-...|comsan/XC148834.ogg|      3|\n",
      "|comsan| []|            ['call']|60.7689|11.2296|Actitis hypoleucos|Common Sandpiper|     Elias A. Ryberg|Creative Commons ...|5.0|https://www.xeno-...|comsan/XC157141.ogg|      4|\n",
      "|comsan| []|            ['song']|60.7757|11.2272|Actitis hypoleucos|Common Sandpiper|     Elias A. Ryberg|Creative Commons ...|5.0|https://www.xeno-...|comsan/XC157223.ogg|      5|\n",
      "|comsan| []|     ['flight call']| 51.348| 23.051|Actitis hypoleucos|Common Sandpiper|      Jarek Matusiak|Creative Commons ...|5.0|https://www.xeno-...|comsan/XC187104.ogg|      6|\n",
      "|comsan| []|     ['flight call']|56.1211|47.5042|Actitis hypoleucos|Common Sandpiper|    Albert Lastukhin|Creative Commons ...|5.0|https://www.xeno-...|comsan/XC197017.ogg|      7|\n",
      "|comsan| []|            ['call']|42.5275|130.692|Actitis hypoleucos|Common Sandpiper|    Albert Lastukhin|Creative Commons ...|5.0|https://www.xeno-...|comsan/XC266359.ogg|      8|\n",
      "|comsan| []|            ['song']|58.4439|14.4687|Actitis hypoleucos|Common Sandpiper|        Patrik Åberg|Creative Commons ...|5.0|https://www.xeno-...| comsan/XC27064.ogg|      9|\n",
      "|comsan| []|      ['alarm call']|58.4439|14.4687|Actitis hypoleucos|Common Sandpiper|        Patrik Åberg|Creative Commons ...|5.0|https://www.xeno-...| comsan/XC27065.ogg|     10|\n",
      "|comsan| []|            ['song']| 61.188|24.5131|Actitis hypoleucos|Common Sandpiper|      Jerome Fischer|Creative Commons ...|5.0|https://www.xeno-...|comsan/XC319861.ogg|     11|\n",
      "|comsan| []|            ['call']|44.6967|34.3473|Actitis hypoleucos|Common Sandpiper|    Albert Lastukhin|Creative Commons ...|5.0|https://www.xeno-...|comsan/XC331036.ogg|     12|\n",
      "|comsan| []|            ['call']|44.6967|34.3473|Actitis hypoleucos|Common Sandpiper|    Albert Lastukhin|Creative Commons ...|5.0|https://www.xeno-...|comsan/XC331037.ogg|     13|\n",
      "|comsan| []|            ['call']|29.5608|47.7639|Actitis hypoleucos|Common Sandpiper|        Tero Linjama|Creative Commons ...|5.0|https://www.xeno-...|comsan/XC342915.ogg|     14|\n",
      "|comsan| []|            ['call']|60.4849|27.7396|Actitis hypoleucos|Common Sandpiper|        Tero Linjama|Creative Commons ...|5.0|https://www.xeno-...|comsan/XC342917.ogg|     15|\n",
      "|comsan| []|            ['call']|56.0779|47.9129|Actitis hypoleucos|Common Sandpiper|    Albert Lastukhin|Creative Commons ...|5.0|https://www.xeno-...|comsan/XC371997.ogg|     16|\n",
      "|comsan| []|['call', 'short c...|43.6075|  4.214|Actitis hypoleucos|Common Sandpiper|     Stanislas Wroza|Creative Commons ...|5.0|https://www.xeno-...|comsan/XC381749.ogg|     17|\n",
      "|comsan| []|     ['flight call']|18.2935|99.5007|Actitis hypoleucos|Common Sandpiper|Somkiat Pakapinyo...|Creative Commons ...|5.0|https://www.xeno-...|comsan/XC387542.ogg|     18|\n",
      "|comsan| []|            ['call']|62.4067|17.7101|Actitis hypoleucos|Common Sandpiper|             Aladdin|Creative Commons ...|5.0|https://www.xeno-...|comsan/XC428192.ogg|     19|\n",
      "|comsan| []|     ['flight call']|63.8313|20.2607|Actitis hypoleucos|Common Sandpiper|        Lars Edenius|Creative Commons ...|5.0|https://www.xeno-...|comsan/XC430800.ogg|     20|\n",
      "+------+---+--------------------+-------+-------+------------------+----------------+--------------------+--------------------+---+--------------------+-------------------+-------+\n",
      "only showing top 20 rows\n",
      "\n"
     ]
    },
    {
     "name": "stderr",
     "output_type": "stream",
     "text": [
      "                                                                                \r"
     ]
    }
   ],
   "source": [
    "df_meta_top.show()"
   ]
  },
  {
   "cell_type": "markdown",
   "metadata": {},
   "source": [
    "## Encodec with a single recording"
   ]
  },
  {
   "cell_type": "code",
   "execution_count": 99,
   "metadata": {},
   "outputs": [
    {
     "data": {
      "text/plain": [
       "'eaywag1/XC639588.ogg'"
      ]
     },
     "execution_count": 99,
     "metadata": {},
     "output_type": "execute_result"
    }
   ],
   "source": [
    "from pyspark.sql.functions import rand\n",
    "\n",
    "# row = df_meta_top.head()\n",
    "seed = 6\n",
    "# row = df_meta_top.sample(fraction=0.01, seed=seed).head()\n",
    "df_with_random = df_meta_top.withColumn(\"random\", rand(seed))\n",
    "row = df_with_random.orderBy(\"random\").limit(1).head()\n",
    "local_path = row._c11\n",
    "species_code, filename = local_path.split(\"/\")\n",
    "local_path"
   ]
  },
  {
   "cell_type": "code",
   "execution_count": 108,
   "metadata": {},
   "outputs": [],
   "source": [
    "from encodec import EncodecModel\n",
    "from encodec.utils import convert_audio\n",
    "\n",
    "import torchaudio\n",
    "import torch\n",
    "\n",
    "bandwidth = 6.0\n",
    "\n",
    "# Instantiate a pretrained EnCodec model\n",
    "model = EncodecModel.encodec_model_24khz()\n",
    "# The number of codebooks used will be determined bythe bandwidth selected.\n",
    "# E.g. for a bandwidth of 6kbps, `n_q = 8` codebooks are used.\n",
    "# Supported bandwidths are 1.5kbps (n_q = 2), 3 kbps (n_q = 4), 6 kbps (n_q = 8) and 12 kbps (n_q =16) and 24kbps (n_q=32).\n",
    "# For the 48 kHz model, only 3, 6, 12, and 24 kbps are supported. The number\n",
    "# of codebooks for each is half that of the 24 kHz model as the frame rate is twice as much.\n",
    "model.set_target_bandwidth(bandwidth)"
   ]
  },
  {
   "cell_type": "code",
   "execution_count": 109,
   "metadata": {},
   "outputs": [],
   "source": [
    "import os\n",
    "from pathlib import Path\n",
    "\n",
    "gs_path = f\"data/raw/birdclef-2023/train_audio/{local_path}\"\n",
    "\n",
    "root = Path(\"data/encodec_reconstruction\")\n",
    "original_dir = root / \"original\" / species_code\n",
    "reconstructed_dir = root / \"reconstructed\" / f\"{int(bandwidth)}kbps\" / species_code\n",
    "\n",
    "original_path = original_dir / filename\n",
    "reconstructed_path = reconstructed_dir / (filename[:-4] + \".wav\")\n",
    "\n",
    "os.makedirs(original_dir, exist_ok=True)\n",
    "os.makedirs(reconstructed_dir, exist_ok=True)"
   ]
  },
  {
   "cell_type": "code",
   "execution_count": 110,
   "metadata": {},
   "outputs": [],
   "source": [
    "from google.cloud import storage\n",
    "import io\n",
    "\n",
    "client = storage.Client()\n",
    "bucket = client.get_bucket('dsgt-clef-birdclef-2024')\n",
    "blob = bucket.blob(gs_path)\n",
    "file_stream = io.BytesIO()\n",
    "blob.download_to_file(file_stream)\n",
    "file_stream.seek(0)\n",
    "\n",
    "blob.download_to_filename(original_path)"
   ]
  },
  {
   "cell_type": "code",
   "execution_count": 111,
   "metadata": {},
   "outputs": [],
   "source": [
    "# Load and pre-process the audio waveform\n",
    "wav, sr = torchaudio.load(file_stream)\n",
    "wav = convert_audio(wav, sr, model.sample_rate, model.channels)\n",
    "wav = wav.unsqueeze(0)\n",
    "\n",
    "# Extract discrete codes from EnCodec\n",
    "with torch.no_grad():\n",
    "    encoded_frames = model.encode(wav)\n",
    "codes = torch.cat([encoded[0] for encoded in encoded_frames], dim=-1)  # [B, n_q, T]"
   ]
  },
  {
   "cell_type": "code",
   "execution_count": 112,
   "metadata": {},
   "outputs": [
    {
     "data": {
      "text/plain": [
       "torch.Size([1, 8, 2435])"
      ]
     },
     "execution_count": 112,
     "metadata": {},
     "output_type": "execute_result"
    }
   ],
   "source": [
    "codes.shape"
   ]
  },
  {
   "cell_type": "code",
   "execution_count": 113,
   "metadata": {},
   "outputs": [],
   "source": [
    "with torch.no_grad():\n",
    "    decoded_frames = model.decode(encoded_frames)\n",
    "decoded = decoded_frames[0]\n",
    "torchaudio.save(reconstructed_path, decoded, model.sample_rate)"
   ]
  },
  {
   "cell_type": "code",
   "execution_count": 114,
   "metadata": {},
   "outputs": [
    {
     "data": {
      "text/plain": [
       "torch.Size([1, 1, 779200])"
      ]
     },
     "execution_count": 114,
     "metadata": {},
     "output_type": "execute_result"
    }
   ],
   "source": [
    "decoded_frames.shape"
   ]
  }
 ],
 "metadata": {
  "kernelspec": {
   "display_name": "venv",
   "language": "python",
   "name": "python3"
  },
  "language_info": {
   "codemirror_mode": {
    "name": "ipython",
    "version": 3
   },
   "file_extension": ".py",
   "mimetype": "text/x-python",
   "name": "python",
   "nbconvert_exporter": "python",
   "pygments_lexer": "ipython3",
   "version": "3.10.12"
  }
 },
 "nbformat": 4,
 "nbformat_minor": 2
}
