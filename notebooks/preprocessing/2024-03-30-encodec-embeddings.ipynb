{
 "cells": [
  {
   "cell_type": "code",
   "execution_count": 2,
   "metadata": {},
   "outputs": [
    {
     "name": "stderr",
     "output_type": "stream",
     "text": [
      "Setting default log level to \"WARN\".\n",
      "To adjust logging level use sc.setLogLevel(newLevel). For SparkR, use setLogLevel(newLevel).\n",
      "24/03/29 14:15:48 WARN NativeCodeLoader: Unable to load native-hadoop library for your platform... using builtin-java classes where applicable\n",
      "24/03/29 14:15:48 WARN SparkConf: Note that spark.local.dir will be overridden by the value set by the cluster manager (via SPARK_LOCAL_DIRS in mesos/standalone/kubernetes and LOCAL_DIRS in YARN).\n"
     ]
    },
    {
     "data": {
      "text/html": [
       "\n",
       "            <div>\n",
       "                <p><b>SparkSession - in-memory</b></p>\n",
       "                \n",
       "        <div>\n",
       "            <p><b>SparkContext</b></p>\n",
       "\n",
       "            <p><a href=\"http://birdclef-dev.us-central1-a.c.dsgt-clef-2024.internal:4040\">Spark UI</a></p>\n",
       "\n",
       "            <dl>\n",
       "              <dt>Version</dt>\n",
       "                <dd><code>v3.5.0</code></dd>\n",
       "              <dt>Master</dt>\n",
       "                <dd><code>local[*]</code></dd>\n",
       "              <dt>AppName</dt>\n",
       "                <dd><code>pyspark-shell</code></dd>\n",
       "            </dl>\n",
       "        </div>\n",
       "        \n",
       "            </div>\n",
       "        "
      ],
      "text/plain": [
       "<pyspark.sql.session.SparkSession at 0x77e5a7ad5120>"
      ]
     },
     "metadata": {},
     "output_type": "display_data"
    },
    {
     "name": "stderr",
     "output_type": "stream",
     "text": [
      "                                                                                \r"
     ]
    },
    {
     "name": "stdout",
     "output_type": "stream",
     "text": [
      "root\n",
      " |-- _c0: string (nullable = true)\n",
      " |-- _c1: string (nullable = true)\n",
      " |-- _c2: string (nullable = true)\n",
      " |-- _c3: string (nullable = true)\n",
      " |-- _c4: string (nullable = true)\n",
      " |-- _c5: string (nullable = true)\n",
      " |-- _c6: string (nullable = true)\n",
      " |-- _c7: string (nullable = true)\n",
      " |-- _c8: string (nullable = true)\n",
      " |-- _c9: string (nullable = true)\n",
      " |-- _c10: string (nullable = true)\n",
      " |-- _c11: string (nullable = true)\n",
      "\n",
      "-RECORD 0----------------\n",
      " _c0  | primary_label    \n",
      " _c1  | secondary_labels \n",
      " _c2  | type             \n",
      " _c3  | latitude         \n",
      " _c4  | longitude        \n",
      " _c5  | scientific_name  \n",
      " _c6  | common_name      \n",
      " _c7  | author           \n",
      " _c8  | license          \n",
      " _c9  | rating           \n",
      " _c10 | url              \n",
      " _c11 | filename         \n",
      "only showing top 1 row\n",
      "\n"
     ]
    }
   ],
   "source": [
    "from birdclef.utils import get_spark\n",
    "from IPython.display import Image, display\n",
    "\n",
    "spark = get_spark()\n",
    "display(spark)\n",
    "\n",
    "# read straight from the bucket\n",
    "df_meta = spark.read.csv(\n",
    "    \"gs://dsgt-clef-birdclef-2024/data/raw/birdclef-2023/train_metadata.csv\"\n",
    ")\n",
    "df_meta.printSchema()\n",
    "df_meta.show(vertical=True, n=1, truncate=100)"
   ]
  },
  {
   "cell_type": "code",
   "execution_count": 3,
   "metadata": {},
   "outputs": [
    {
     "name": "stdout",
     "output_type": "stream",
     "text": [
      "+-------------+----------------+--------+--------+---------+------------------+--------------------+-------------+--------------------+------+--------------------+--------------------+\n",
      "|          _c0|             _c1|     _c2|     _c3|      _c4|               _c5|                 _c6|          _c7|                 _c8|   _c9|                _c10|                _c11|\n",
      "+-------------+----------------+--------+--------+---------+------------------+--------------------+-------------+--------------------+------+--------------------+--------------------+\n",
      "|primary_label|secondary_labels|    type|latitude|longitude|   scientific_name|         common_name|       author|             license|rating|                 url|            filename|\n",
      "|      abethr1|              []|['song']|  4.3906|  38.2788|Turdus tephronotus|African Bare-eyed...|Rolf A. de By|Creative Commons ...|   4.0|https://www.xeno-...|abethr1/XC128013.ogg|\n",
      "|      abethr1|              []|['call']| -2.9524|  38.2921|Turdus tephronotus|African Bare-eyed...|James Bradley|Creative Commons ...|   3.5|https://www.xeno-...|abethr1/XC363501.ogg|\n",
      "|      abethr1|              []|['song']| -2.9524|  38.2921|Turdus tephronotus|African Bare-eyed...|James Bradley|Creative Commons ...|   3.5|https://www.xeno-...|abethr1/XC363502.ogg|\n",
      "|      abethr1|              []|['song']| -2.9524|  38.2921|Turdus tephronotus|African Bare-eyed...|James Bradley|Creative Commons ...|   5.0|https://www.xeno-...|abethr1/XC363503.ogg|\n",
      "+-------------+----------------+--------+--------+---------+------------------+--------------------+-------------+--------------------+------+--------------------+--------------------+\n",
      "only showing top 5 rows\n",
      "\n"
     ]
    }
   ],
   "source": [
    "df_meta.show(n=5)"
   ]
  },
  {
   "cell_type": "code",
   "execution_count": 16,
   "metadata": {},
   "outputs": [
    {
     "name": "stderr",
     "output_type": "stream",
     "text": [
      "                                                                                \r"
     ]
    },
    {
     "data": {
      "text/html": [
       "<div>\n",
       "<style scoped>\n",
       "    .dataframe tbody tr th:only-of-type {\n",
       "        vertical-align: middle;\n",
       "    }\n",
       "\n",
       "    .dataframe tbody tr th {\n",
       "        vertical-align: top;\n",
       "    }\n",
       "\n",
       "    .dataframe thead th {\n",
       "        text-align: right;\n",
       "    }\n",
       "</style>\n",
       "<table border=\"1\" class=\"dataframe\">\n",
       "  <thead>\n",
       "    <tr style=\"text-align: right;\">\n",
       "      <th></th>\n",
       "      <th>primary_label</th>\n",
       "      <th>secondary_labels</th>\n",
       "      <th>type</th>\n",
       "      <th>latitude</th>\n",
       "      <th>longitude</th>\n",
       "      <th>scientific_name</th>\n",
       "      <th>common_name</th>\n",
       "      <th>author</th>\n",
       "      <th>license</th>\n",
       "      <th>rating</th>\n",
       "      <th>url</th>\n",
       "      <th>filename</th>\n",
       "    </tr>\n",
       "  </thead>\n",
       "  <tbody>\n",
       "    <tr>\n",
       "      <th>1</th>\n",
       "      <td>abethr1</td>\n",
       "      <td>[]</td>\n",
       "      <td>['song']</td>\n",
       "      <td>4.3906</td>\n",
       "      <td>38.2788</td>\n",
       "      <td>Turdus tephronotus</td>\n",
       "      <td>African Bare-eyed Thrush</td>\n",
       "      <td>Rolf A. de By</td>\n",
       "      <td>Creative Commons Attribution-NonCommercial-Sha...</td>\n",
       "      <td>4.0</td>\n",
       "      <td>https://www.xeno-canto.org/128013</td>\n",
       "      <td>abethr1/XC128013.ogg</td>\n",
       "    </tr>\n",
       "    <tr>\n",
       "      <th>2</th>\n",
       "      <td>abethr1</td>\n",
       "      <td>[]</td>\n",
       "      <td>['call']</td>\n",
       "      <td>-2.9524</td>\n",
       "      <td>38.2921</td>\n",
       "      <td>Turdus tephronotus</td>\n",
       "      <td>African Bare-eyed Thrush</td>\n",
       "      <td>James Bradley</td>\n",
       "      <td>Creative Commons Attribution-NonCommercial-Sha...</td>\n",
       "      <td>3.5</td>\n",
       "      <td>https://www.xeno-canto.org/363501</td>\n",
       "      <td>abethr1/XC363501.ogg</td>\n",
       "    </tr>\n",
       "    <tr>\n",
       "      <th>3</th>\n",
       "      <td>abethr1</td>\n",
       "      <td>[]</td>\n",
       "      <td>['song']</td>\n",
       "      <td>-2.9524</td>\n",
       "      <td>38.2921</td>\n",
       "      <td>Turdus tephronotus</td>\n",
       "      <td>African Bare-eyed Thrush</td>\n",
       "      <td>James Bradley</td>\n",
       "      <td>Creative Commons Attribution-NonCommercial-Sha...</td>\n",
       "      <td>3.5</td>\n",
       "      <td>https://www.xeno-canto.org/363502</td>\n",
       "      <td>abethr1/XC363502.ogg</td>\n",
       "    </tr>\n",
       "    <tr>\n",
       "      <th>4</th>\n",
       "      <td>abethr1</td>\n",
       "      <td>[]</td>\n",
       "      <td>['song']</td>\n",
       "      <td>-2.9524</td>\n",
       "      <td>38.2921</td>\n",
       "      <td>Turdus tephronotus</td>\n",
       "      <td>African Bare-eyed Thrush</td>\n",
       "      <td>James Bradley</td>\n",
       "      <td>Creative Commons Attribution-NonCommercial-Sha...</td>\n",
       "      <td>5.0</td>\n",
       "      <td>https://www.xeno-canto.org/363503</td>\n",
       "      <td>abethr1/XC363503.ogg</td>\n",
       "    </tr>\n",
       "    <tr>\n",
       "      <th>5</th>\n",
       "      <td>abethr1</td>\n",
       "      <td>[]</td>\n",
       "      <td>['call', 'song']</td>\n",
       "      <td>-2.9524</td>\n",
       "      <td>38.2921</td>\n",
       "      <td>Turdus tephronotus</td>\n",
       "      <td>African Bare-eyed Thrush</td>\n",
       "      <td>James Bradley</td>\n",
       "      <td>Creative Commons Attribution-NonCommercial-Sha...</td>\n",
       "      <td>4.5</td>\n",
       "      <td>https://www.xeno-canto.org/363504</td>\n",
       "      <td>abethr1/XC363504.ogg</td>\n",
       "    </tr>\n",
       "    <tr>\n",
       "      <th>...</th>\n",
       "      <td>...</td>\n",
       "      <td>...</td>\n",
       "      <td>...</td>\n",
       "      <td>...</td>\n",
       "      <td>...</td>\n",
       "      <td>...</td>\n",
       "      <td>...</td>\n",
       "      <td>...</td>\n",
       "      <td>...</td>\n",
       "      <td>...</td>\n",
       "      <td>...</td>\n",
       "      <td>...</td>\n",
       "    </tr>\n",
       "    <tr>\n",
       "      <th>16937</th>\n",
       "      <td>yewgre1</td>\n",
       "      <td>[]</td>\n",
       "      <td>['']</td>\n",
       "      <td>-1.2502</td>\n",
       "      <td>29.7971</td>\n",
       "      <td>Eurillas latirostris</td>\n",
       "      <td>Yellow-whiskered Greenbul</td>\n",
       "      <td>András Schmidt</td>\n",
       "      <td>Creative Commons Attribution-NonCommercial-Sha...</td>\n",
       "      <td>3.0</td>\n",
       "      <td>https://xeno-canto.org/703472</td>\n",
       "      <td>yewgre1/XC703472.ogg</td>\n",
       "    </tr>\n",
       "    <tr>\n",
       "      <th>16938</th>\n",
       "      <td>yewgre1</td>\n",
       "      <td>[]</td>\n",
       "      <td>['']</td>\n",
       "      <td>-1.2489</td>\n",
       "      <td>29.7923</td>\n",
       "      <td>Eurillas latirostris</td>\n",
       "      <td>Yellow-whiskered Greenbul</td>\n",
       "      <td>András Schmidt</td>\n",
       "      <td>Creative Commons Attribution-NonCommercial-Sha...</td>\n",
       "      <td>4.0</td>\n",
       "      <td>https://xeno-canto.org/703485</td>\n",
       "      <td>yewgre1/XC703485.ogg</td>\n",
       "    </tr>\n",
       "    <tr>\n",
       "      <th>16939</th>\n",
       "      <td>yewgre1</td>\n",
       "      <td>[]</td>\n",
       "      <td>['']</td>\n",
       "      <td>-1.2433</td>\n",
       "      <td>29.7844</td>\n",
       "      <td>Eurillas latirostris</td>\n",
       "      <td>Yellow-whiskered Greenbul</td>\n",
       "      <td>András Schmidt</td>\n",
       "      <td>Creative Commons Attribution-NonCommercial-Sha...</td>\n",
       "      <td>4.0</td>\n",
       "      <td>https://xeno-canto.org/704433</td>\n",
       "      <td>yewgre1/XC704433.ogg</td>\n",
       "    </tr>\n",
       "    <tr>\n",
       "      <th>16940</th>\n",
       "      <td>yewgre1</td>\n",
       "      <td>[]</td>\n",
       "      <td>['']</td>\n",
       "      <td>0.0452</td>\n",
       "      <td>36.3699</td>\n",
       "      <td>Eurillas latirostris</td>\n",
       "      <td>Yellow-whiskered Greenbul</td>\n",
       "      <td>Lars Lachmann</td>\n",
       "      <td>Creative Commons Attribution-NonCommercial-Sha...</td>\n",
       "      <td>4.0</td>\n",
       "      <td>https://xeno-canto.org/752974</td>\n",
       "      <td>yewgre1/XC752974.ogg</td>\n",
       "    </tr>\n",
       "    <tr>\n",
       "      <th>16941</th>\n",
       "      <td>yewgre1</td>\n",
       "      <td>[]</td>\n",
       "      <td>['']</td>\n",
       "      <td>-0.3986</td>\n",
       "      <td>37.3087</td>\n",
       "      <td>Eurillas latirostris</td>\n",
       "      <td>Yellow-whiskered Greenbul</td>\n",
       "      <td>Lars Lachmann</td>\n",
       "      <td>Creative Commons Attribution-NonCommercial-Sha...</td>\n",
       "      <td>4.5</td>\n",
       "      <td>https://xeno-canto.org/753190</td>\n",
       "      <td>yewgre1/XC753190.ogg</td>\n",
       "    </tr>\n",
       "  </tbody>\n",
       "</table>\n",
       "<p>16941 rows × 12 columns</p>\n",
       "</div>"
      ],
      "text/plain": [
       "0     primary_label secondary_labels              type latitude longitude  \\\n",
       "1           abethr1               []          ['song']   4.3906   38.2788   \n",
       "2           abethr1               []          ['call']  -2.9524   38.2921   \n",
       "3           abethr1               []          ['song']  -2.9524   38.2921   \n",
       "4           abethr1               []          ['song']  -2.9524   38.2921   \n",
       "5           abethr1               []  ['call', 'song']  -2.9524   38.2921   \n",
       "...             ...              ...               ...      ...       ...   \n",
       "16937       yewgre1               []              ['']  -1.2502   29.7971   \n",
       "16938       yewgre1               []              ['']  -1.2489   29.7923   \n",
       "16939       yewgre1               []              ['']  -1.2433   29.7844   \n",
       "16940       yewgre1               []              ['']   0.0452   36.3699   \n",
       "16941       yewgre1               []              ['']  -0.3986   37.3087   \n",
       "\n",
       "0           scientific_name                common_name          author  \\\n",
       "1        Turdus tephronotus   African Bare-eyed Thrush   Rolf A. de By   \n",
       "2        Turdus tephronotus   African Bare-eyed Thrush   James Bradley   \n",
       "3        Turdus tephronotus   African Bare-eyed Thrush   James Bradley   \n",
       "4        Turdus tephronotus   African Bare-eyed Thrush   James Bradley   \n",
       "5        Turdus tephronotus   African Bare-eyed Thrush   James Bradley   \n",
       "...                     ...                        ...             ...   \n",
       "16937  Eurillas latirostris  Yellow-whiskered Greenbul  András Schmidt   \n",
       "16938  Eurillas latirostris  Yellow-whiskered Greenbul  András Schmidt   \n",
       "16939  Eurillas latirostris  Yellow-whiskered Greenbul  András Schmidt   \n",
       "16940  Eurillas latirostris  Yellow-whiskered Greenbul   Lars Lachmann   \n",
       "16941  Eurillas latirostris  Yellow-whiskered Greenbul   Lars Lachmann   \n",
       "\n",
       "0                                                license rating  \\\n",
       "1      Creative Commons Attribution-NonCommercial-Sha...    4.0   \n",
       "2      Creative Commons Attribution-NonCommercial-Sha...    3.5   \n",
       "3      Creative Commons Attribution-NonCommercial-Sha...    3.5   \n",
       "4      Creative Commons Attribution-NonCommercial-Sha...    5.0   \n",
       "5      Creative Commons Attribution-NonCommercial-Sha...    4.5   \n",
       "...                                                  ...    ...   \n",
       "16937  Creative Commons Attribution-NonCommercial-Sha...    3.0   \n",
       "16938  Creative Commons Attribution-NonCommercial-Sha...    4.0   \n",
       "16939  Creative Commons Attribution-NonCommercial-Sha...    4.0   \n",
       "16940  Creative Commons Attribution-NonCommercial-Sha...    4.0   \n",
       "16941  Creative Commons Attribution-NonCommercial-Sha...    4.5   \n",
       "\n",
       "0                                    url              filename  \n",
       "1      https://www.xeno-canto.org/128013  abethr1/XC128013.ogg  \n",
       "2      https://www.xeno-canto.org/363501  abethr1/XC363501.ogg  \n",
       "3      https://www.xeno-canto.org/363502  abethr1/XC363502.ogg  \n",
       "4      https://www.xeno-canto.org/363503  abethr1/XC363503.ogg  \n",
       "5      https://www.xeno-canto.org/363504  abethr1/XC363504.ogg  \n",
       "...                                  ...                   ...  \n",
       "16937      https://xeno-canto.org/703472  yewgre1/XC703472.ogg  \n",
       "16938      https://xeno-canto.org/703485  yewgre1/XC703485.ogg  \n",
       "16939      https://xeno-canto.org/704433  yewgre1/XC704433.ogg  \n",
       "16940      https://xeno-canto.org/752974  yewgre1/XC752974.ogg  \n",
       "16941      https://xeno-canto.org/753190  yewgre1/XC753190.ogg  \n",
       "\n",
       "[16941 rows x 12 columns]"
      ]
     },
     "execution_count": 16,
     "metadata": {},
     "output_type": "execute_result"
    }
   ],
   "source": [
    "df_meta_pd = df_meta.toPandas()\n",
    "df_meta_pd.columns = df_meta_pd.iloc[0]\n",
    "df_meta_pd = df_meta_pd.drop(df_meta_pd.index[0])\n",
    "df_meta_pd"
   ]
  },
  {
   "cell_type": "code",
   "execution_count": 7,
   "metadata": {},
   "outputs": [],
   "source": [
    "import os\n",
    "from pathlib import Path\n",
    "\n",
    "in_root = Path(\"data/raw/birdclef-2023/train_audio\")\n",
    "out_dir = Path(\"data/encodec_embeddings\")\n",
    "\n",
    "os.makedirs(out_dir, exist_ok=True)"
   ]
  },
  {
   "cell_type": "code",
   "execution_count": 5,
   "metadata": {},
   "outputs": [
    {
     "name": "stderr",
     "output_type": "stream",
     "text": [
      "/home/acheung/birdclef-2024/venv/lib/python3.10/site-packages/torch/nn/utils/weight_norm.py:28: UserWarning: torch.nn.utils.weight_norm is deprecated in favor of torch.nn.utils.parametrizations.weight_norm.\n",
      "  warnings.warn(\"torch.nn.utils.weight_norm is deprecated in favor of torch.nn.utils.parametrizations.weight_norm.\")\n"
     ]
    }
   ],
   "source": [
    "from encodec import EncodecModel\n",
    "import torchaudio\n",
    "\n",
    "bandwidth = 3.0\n",
    "model = EncodecModel.encodec_model_24khz()\n",
    "model.set_target_bandwidth(bandwidth)"
   ]
  },
  {
   "cell_type": "code",
   "execution_count": 97,
   "metadata": {},
   "outputs": [],
   "source": [
    "import pandas as pd\n",
    "import torch\n",
    "\n",
    "from encodec.utils import convert_audio\n",
    "from itertools import chain\n",
    "from torch.nn import functional as F\n",
    "from tqdm import tqdm\n",
    "\n",
    "\n",
    "def convert(file):\n",
    "    # Load and pre-process the audio waveform\n",
    "    wav, sr = torchaudio.load(in_root / file)\n",
    "    wav = convert_audio(wav, sr, model.sample_rate, model.channels)\n",
    "    wav = wav.unsqueeze(0)\n",
    "    return wav\n",
    "\n",
    "\n",
    "def encode(wav):\n",
    "    # Extract discrete codes from EnCodec\n",
    "    with torch.no_grad():\n",
    "        encoded_frames = model.encode(wav)\n",
    "    codes = torch.cat([encoded[0] for encoded in encoded_frames], dim=-1)\n",
    "    return codes[0].flatten().numpy()\n",
    "\n",
    "\n",
    "def embed(file, chunk_size=1):\n",
    "    wav = convert(file)\n",
    "    true_chunk_size = chunk_size * model.sample_rate\n",
    "    chunks = torch.split(wav, true_chunk_size, dim=-1)\n",
    "    last_padded = F.pad(chunks[-1], (0, true_chunk_size - chunks[-1].shape[-1]))\n",
    "    chunks = chunks[:-1] + (last_padded,)\n",
    "    codes = [encode(chunk) for chunk in chunks]\n",
    "    return codes\n",
    "\n",
    "\n",
    "def embed_single(file_df):\n",
    "    file = file_df[\"filename\"]\n",
    "    codes = embed(file)\n",
    "    indices = range(len(codes))\n",
    "    names = [file.split(\"/\")[1]] * len(codes)\n",
    "    return names, indices, codes\n",
    "\n",
    "\n",
    "def embed_species(species, chunk_size=1):\n",
    "    tqdm.pandas()\n",
    "    files = df_meta_pd[df_meta_pd[\"primary_label\"] == species]\n",
    "    cols = files.progress_apply(embed_single, axis=1)\n",
    "    cols = zip(*cols)\n",
    "    names, indices, codes = [chain(*col) for col in cols]\n",
    "    df = pd.DataFrame({\"name\": names, \"chunk\": indices, \"embedding\": codes})\n",
    "\n",
    "    out_path = out_dir / f\"{species}.parquet\"\n",
    "    df.to_parquet(out_path, index=False)\n",
    "    return df"
   ]
  },
  {
   "cell_type": "code",
   "execution_count": 73,
   "metadata": {},
   "outputs": [
    {
     "name": "stderr",
     "output_type": "stream",
     "text": [
      "  0%|          | 0/7 [00:00<?, ?it/s]"
     ]
    },
    {
     "name": "stderr",
     "output_type": "stream",
     "text": [
      "100%|██████████| 7/7 [00:19<00:00,  2.82s/it]\n"
     ]
    },
    {
     "data": {
      "text/html": [
       "<div>\n",
       "<style scoped>\n",
       "    .dataframe tbody tr th:only-of-type {\n",
       "        vertical-align: middle;\n",
       "    }\n",
       "\n",
       "    .dataframe tbody tr th {\n",
       "        vertical-align: top;\n",
       "    }\n",
       "\n",
       "    .dataframe thead th {\n",
       "        text-align: right;\n",
       "    }\n",
       "</style>\n",
       "<table border=\"1\" class=\"dataframe\">\n",
       "  <thead>\n",
       "    <tr style=\"text-align: right;\">\n",
       "      <th></th>\n",
       "      <th>name</th>\n",
       "      <th>chunk</th>\n",
       "      <th>embedding</th>\n",
       "    </tr>\n",
       "  </thead>\n",
       "  <tbody>\n",
       "    <tr>\n",
       "      <th>0</th>\n",
       "      <td>XC115075.ogg</td>\n",
       "      <td>0</td>\n",
       "      <td>[121, 835, 228, 724, 819, 126, 339, 661, 274, ...</td>\n",
       "    </tr>\n",
       "    <tr>\n",
       "      <th>1</th>\n",
       "      <td>XC115075.ogg</td>\n",
       "      <td>1</td>\n",
       "      <td>[237, 731, 237, 628, 260, 281, 237, 237, 194, ...</td>\n",
       "    </tr>\n",
       "    <tr>\n",
       "      <th>2</th>\n",
       "      <td>XC115075.ogg</td>\n",
       "      <td>2</td>\n",
       "      <td>[497, 792, 237, 237, 237, 409, 237, 237, 438, ...</td>\n",
       "    </tr>\n",
       "    <tr>\n",
       "      <th>3</th>\n",
       "      <td>XC115075.ogg</td>\n",
       "      <td>3</td>\n",
       "      <td>[237, 237, 237, 237, 373, 237, 488, 798, 260, ...</td>\n",
       "    </tr>\n",
       "    <tr>\n",
       "      <th>4</th>\n",
       "      <td>XC115075.ogg</td>\n",
       "      <td>4</td>\n",
       "      <td>[237, 798, 731, 237, 237, 661, 237, 628, 260, ...</td>\n",
       "    </tr>\n",
       "  </tbody>\n",
       "</table>\n",
       "</div>"
      ],
      "text/plain": [
       "           name  chunk                                          embedding\n",
       "0  XC115075.ogg      0  [121, 835, 228, 724, 819, 126, 339, 661, 274, ...\n",
       "1  XC115075.ogg      1  [237, 731, 237, 628, 260, 281, 237, 237, 194, ...\n",
       "2  XC115075.ogg      2  [497, 792, 237, 237, 237, 409, 237, 237, 438, ...\n",
       "3  XC115075.ogg      3  [237, 237, 237, 237, 373, 237, 488, 798, 260, ...\n",
       "4  XC115075.ogg      4  [237, 798, 731, 237, 237, 661, 237, 628, 260, ..."
      ]
     },
     "execution_count": 73,
     "metadata": {},
     "output_type": "execute_result"
    }
   ],
   "source": [
    "species = \"bawman1\"\n",
    "\n",
    "species_df = embed_species(species)\n",
    "species_df.head()"
   ]
  },
  {
   "cell_type": "markdown",
   "metadata": {},
   "source": [
    "## Test loading and concatenation"
   ]
  },
  {
   "cell_type": "code",
   "execution_count": 75,
   "metadata": {},
   "outputs": [
    {
     "data": {
      "text/html": [
       "<div>\n",
       "<style scoped>\n",
       "    .dataframe tbody tr th:only-of-type {\n",
       "        vertical-align: middle;\n",
       "    }\n",
       "\n",
       "    .dataframe tbody tr th {\n",
       "        vertical-align: top;\n",
       "    }\n",
       "\n",
       "    .dataframe thead th {\n",
       "        text-align: right;\n",
       "    }\n",
       "</style>\n",
       "<table border=\"1\" class=\"dataframe\">\n",
       "  <thead>\n",
       "    <tr style=\"text-align: right;\">\n",
       "      <th></th>\n",
       "      <th>name</th>\n",
       "      <th>chunk</th>\n",
       "      <th>embedding</th>\n",
       "    </tr>\n",
       "  </thead>\n",
       "  <tbody>\n",
       "    <tr>\n",
       "      <th>0</th>\n",
       "      <td>XC115075.ogg</td>\n",
       "      <td>0</td>\n",
       "      <td>[121, 835, 228, 724, 819, 126, 339, 661, 274, ...</td>\n",
       "    </tr>\n",
       "    <tr>\n",
       "      <th>1</th>\n",
       "      <td>XC115075.ogg</td>\n",
       "      <td>1</td>\n",
       "      <td>[237, 731, 237, 628, 260, 281, 237, 237, 194, ...</td>\n",
       "    </tr>\n",
       "    <tr>\n",
       "      <th>2</th>\n",
       "      <td>XC115075.ogg</td>\n",
       "      <td>2</td>\n",
       "      <td>[497, 792, 237, 237, 237, 409, 237, 237, 438, ...</td>\n",
       "    </tr>\n",
       "    <tr>\n",
       "      <th>3</th>\n",
       "      <td>XC115075.ogg</td>\n",
       "      <td>3</td>\n",
       "      <td>[237, 237, 237, 237, 373, 237, 488, 798, 260, ...</td>\n",
       "    </tr>\n",
       "    <tr>\n",
       "      <th>4</th>\n",
       "      <td>XC115075.ogg</td>\n",
       "      <td>4</td>\n",
       "      <td>[237, 798, 731, 237, 237, 661, 237, 628, 260, ...</td>\n",
       "    </tr>\n",
       "  </tbody>\n",
       "</table>\n",
       "</div>"
      ],
      "text/plain": [
       "           name  chunk                                          embedding\n",
       "0  XC115075.ogg      0  [121, 835, 228, 724, 819, 126, 339, 661, 274, ...\n",
       "1  XC115075.ogg      1  [237, 731, 237, 628, 260, 281, 237, 237, 194, ...\n",
       "2  XC115075.ogg      2  [497, 792, 237, 237, 237, 409, 237, 237, 438, ...\n",
       "3  XC115075.ogg      3  [237, 237, 237, 237, 373, 237, 488, 798, 260, ...\n",
       "4  XC115075.ogg      4  [237, 798, 731, 237, 237, 661, 237, 628, 260, ..."
      ]
     },
     "execution_count": 75,
     "metadata": {},
     "output_type": "execute_result"
    }
   ],
   "source": [
    "species_df = pd.read_parquet(out_dir / f\"{species}.parquet\")\n",
    "species_df.head()"
   ]
  },
  {
   "cell_type": "code",
   "execution_count": 112,
   "metadata": {},
   "outputs": [
    {
     "data": {
      "text/plain": [
       "(4, 1050)"
      ]
     },
     "execution_count": 112,
     "metadata": {},
     "output_type": "execute_result"
    }
   ],
   "source": [
    "import numpy as np\n",
    "\n",
    "file = \"XC115075.ogg\"\n",
    "file_embeddings = species_df[species_df[\"name\"] == file][\"embedding\"]\n",
    "file_embeddings = file_embeddings.apply(lambda x: x.reshape(4, -1))\n",
    "file_embeddings = np.concatenate(file_embeddings, axis=1)\n",
    "file_embeddings.shape"
   ]
  },
  {
   "cell_type": "code",
   "execution_count": 121,
   "metadata": {},
   "outputs": [],
   "source": [
    "def decode(embedding):\n",
    "    encoded_frames = torch.tensor(embedding).unsqueeze(0)\n",
    "    encoded_frames = [(encoded_frames, None)]\n",
    "    with torch.no_grad():\n",
    "        decoded_frames = model.decode(encoded_frames)\n",
    "    decoded = decoded_frames[0]\n",
    "    return decoded"
   ]
  },
  {
   "cell_type": "code",
   "execution_count": 115,
   "metadata": {},
   "outputs": [],
   "source": [
    "recon_dir = out_dir / \"reconstructed\"\n",
    "whole_path = recon_dir / f\"{species}_{file[:-4]}_whole.wav\"\n",
    "split_path = recon_dir / f\"{species}_{file[:-4]}_split.wav\"\n",
    "os.makedirs(recon_dir, exist_ok=True)"
   ]
  },
  {
   "cell_type": "code",
   "execution_count": 141,
   "metadata": {},
   "outputs": [],
   "source": [
    "recon_split = decode(file_embeddings)\n",
    "torchaudio.save(split_path, recon_split, model.sample_rate)"
   ]
  },
  {
   "cell_type": "code",
   "execution_count": 142,
   "metadata": {},
   "outputs": [],
   "source": [
    "recon_whole = decode(encode(convert(f\"{species}/{file}\")).reshape(4, -1))\n",
    "torchaudio.save(whole_path, recon_whole, model.sample_rate)"
   ]
  },
  {
   "cell_type": "code",
   "execution_count": 157,
   "metadata": {},
   "outputs": [],
   "source": [
    "def mse(t1, t2):\n",
    "    t1 = t1.flatten()\n",
    "    t2 = t2.flatten()\n",
    "    if len(t1) < len(t2):\n",
    "        t1, t2 = t2, t1\n",
    "    t1 = t1[: len(t2)]\n",
    "    return (t1 - t2).square().mean().item()"
   ]
  },
  {
   "cell_type": "code",
   "execution_count": 158,
   "metadata": {},
   "outputs": [
    {
     "data": {
      "text/plain": [
       "0.0003832542570307851"
      ]
     },
     "execution_count": 158,
     "metadata": {},
     "output_type": "execute_result"
    }
   ],
   "source": [
    "mse(recon_whole, recon_split)"
   ]
  },
  {
   "cell_type": "code",
   "execution_count": 159,
   "metadata": {},
   "outputs": [
    {
     "data": {
      "text/plain": [
       "0.0007301927544176579"
      ]
     },
     "execution_count": 159,
     "metadata": {},
     "output_type": "execute_result"
    }
   ],
   "source": [
    "raw = convert(f\"{species}/{file}\")[0]\n",
    "mse(recon_whole, raw)"
   ]
  },
  {
   "cell_type": "code",
   "execution_count": 160,
   "metadata": {},
   "outputs": [
    {
     "data": {
      "text/plain": [
       "0.0007859260658733547"
      ]
     },
     "execution_count": 160,
     "metadata": {},
     "output_type": "execute_result"
    }
   ],
   "source": [
    "mse(recon_split, raw)"
   ]
  },
  {
   "cell_type": "code",
   "execution_count": 162,
   "metadata": {},
   "outputs": [
    {
     "data": {
      "text/plain": [
       "0.07621951219512195"
      ]
     },
     "execution_count": 162,
     "metadata": {},
     "output_type": "execute_result"
    }
   ],
   "source": [
    "(\n",
    "    recon_whole == recon_split[:, : recon_whole.shape[1]]\n",
    ").sum().item() / recon_whole.size()[1]"
   ]
  }
 ],
 "metadata": {
  "kernelspec": {
   "display_name": "venv",
   "language": "python",
   "name": "python3"
  },
  "language_info": {
   "codemirror_mode": {
    "name": "ipython",
    "version": 3
   },
   "file_extension": ".py",
   "mimetype": "text/x-python",
   "name": "python",
   "nbconvert_exporter": "python",
   "pygments_lexer": "ipython3",
   "version": "3.10.12"
  }
 },
 "nbformat": 4,
 "nbformat_minor": 2
}
