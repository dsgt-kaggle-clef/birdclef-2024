{
 "cells": [
  {
   "cell_type": "markdown",
   "metadata": {},
   "source": [
    "# Histogram of Bird Species"
   ]
  },
  {
   "cell_type": "code",
   "execution_count": 1,
   "metadata": {},
   "outputs": [],
   "source": [
    "%load_ext autoreload\n",
    "%autoreload 2"
   ]
  },
  {
   "cell_type": "markdown",
   "metadata": {},
   "source": [
    "### testing Spark setup"
   ]
  },
  {
   "cell_type": "code",
   "execution_count": 2,
   "metadata": {},
   "outputs": [
    {
     "name": "stdout",
     "output_type": "stream",
     "text": [
      "gs://dsgt-clef-birdclef-2024/data/raw/birdclef-2023/eBird_Taxonomy_v2021.csv\n",
      "gs://dsgt-clef-birdclef-2024/data/raw/birdclef-2023/sample_submission.csv\n",
      "gs://dsgt-clef-birdclef-2024/data/raw/birdclef-2023/train_metadata.csv\n",
      "gs://dsgt-clef-birdclef-2024/data/raw/birdclef-2023/test_soundscapes/\n",
      "gs://dsgt-clef-birdclef-2024/data/raw/birdclef-2023/train_audio/\n"
     ]
    }
   ],
   "source": [
    "# let's check that the initial data from murilo is theres\n",
    "! gcloud storage ls gs://dsgt-clef-birdclef-2024/data/raw/birdclef-2023 | head"
   ]
  },
  {
   "cell_type": "code",
   "execution_count": 3,
   "metadata": {},
   "outputs": [
    {
     "name": "stderr",
     "output_type": "stream",
     "text": [
      "Setting default log level to \"WARN\".\n",
      "To adjust logging level use sc.setLogLevel(newLevel). For SparkR, use setLogLevel(newLevel).\n",
      "24/01/30 18:00:29 WARN NativeCodeLoader: Unable to load native-hadoop library for your platform... using builtin-java classes where applicable\n"
     ]
    },
    {
     "data": {
      "text/html": [
       "\n",
       "            <div>\n",
       "                <p><b>SparkSession - in-memory</b></p>\n",
       "                \n",
       "        <div>\n",
       "            <p><b>SparkContext</b></p>\n",
       "\n",
       "            <p><a href=\"http://birdclef-dev.us-central1-a.c.dsgt-clef-2024.internal:4040\">Spark UI</a></p>\n",
       "\n",
       "            <dl>\n",
       "              <dt>Version</dt>\n",
       "                <dd><code>v3.5.0</code></dd>\n",
       "              <dt>Master</dt>\n",
       "                <dd><code>local[*]</code></dd>\n",
       "              <dt>AppName</dt>\n",
       "                <dd><code>pyspark-shell</code></dd>\n",
       "            </dl>\n",
       "        </div>\n",
       "        \n",
       "            </div>\n",
       "        "
      ],
      "text/plain": [
       "<pyspark.sql.session.SparkSession at 0x7fe8d8425bd0>"
      ]
     },
     "metadata": {},
     "output_type": "display_data"
    },
    {
     "name": "stderr",
     "output_type": "stream",
     "text": [
      "                                                                                \r"
     ]
    },
    {
     "name": "stdout",
     "output_type": "stream",
     "text": [
      "root\n",
      " |-- _c0: string (nullable = true)\n",
      " |-- _c1: string (nullable = true)\n",
      " |-- _c2: string (nullable = true)\n",
      " |-- _c3: string (nullable = true)\n",
      " |-- _c4: string (nullable = true)\n",
      " |-- _c5: string (nullable = true)\n",
      " |-- _c6: string (nullable = true)\n",
      " |-- _c7: string (nullable = true)\n",
      " |-- _c8: string (nullable = true)\n",
      " |-- _c9: string (nullable = true)\n",
      " |-- _c10: string (nullable = true)\n",
      " |-- _c11: string (nullable = true)\n",
      "\n",
      "-RECORD 0----------------\n",
      " _c0  | primary_label    \n",
      " _c1  | secondary_labels \n",
      " _c2  | type             \n",
      " _c3  | latitude         \n",
      " _c4  | longitude        \n",
      " _c5  | scientific_name  \n",
      " _c6  | common_name      \n",
      " _c7  | author           \n",
      " _c8  | license          \n",
      " _c9  | rating           \n",
      " _c10 | url              \n",
      " _c11 | filename         \n",
      "only showing top 1 row\n",
      "\n"
     ]
    }
   ],
   "source": [
    "from birdclef.utils import get_spark\n",
    "from IPython.display import Image, display\n",
    "\n",
    "spark = get_spark()\n",
    "display(spark)\n",
    "\n",
    "# read straight from the bucket\n",
    "df_meta = spark.read.csv(\n",
    "    \"gs://dsgt-clef-birdclef-2024/data/raw/birdclef-2023/train_metadata.csv\"\n",
    ")\n",
    "df_meta.printSchema()\n",
    "df_meta.show(vertical=True, n=1, truncate=100)"
   ]
  },
  {
   "cell_type": "code",
   "execution_count": 4,
   "metadata": {},
   "outputs": [
    {
     "name": "stdout",
     "output_type": "stream",
     "text": [
      "+-------------+----------------+--------+--------+---------+------------------+--------------------+-------------+--------------------+------+--------------------+--------------------+\n",
      "|          _c0|             _c1|     _c2|     _c3|      _c4|               _c5|                 _c6|          _c7|                 _c8|   _c9|                _c10|                _c11|\n",
      "+-------------+----------------+--------+--------+---------+------------------+--------------------+-------------+--------------------+------+--------------------+--------------------+\n",
      "|primary_label|secondary_labels|    type|latitude|longitude|   scientific_name|         common_name|       author|             license|rating|                 url|            filename|\n",
      "|      abethr1|              []|['song']|  4.3906|  38.2788|Turdus tephronotus|African Bare-eyed...|Rolf A. de By|Creative Commons ...|   4.0|https://www.xeno-...|abethr1/XC128013.ogg|\n",
      "|      abethr1|              []|['call']| -2.9524|  38.2921|Turdus tephronotus|African Bare-eyed...|James Bradley|Creative Commons ...|   3.5|https://www.xeno-...|abethr1/XC363501.ogg|\n",
      "|      abethr1|              []|['song']| -2.9524|  38.2921|Turdus tephronotus|African Bare-eyed...|James Bradley|Creative Commons ...|   3.5|https://www.xeno-...|abethr1/XC363502.ogg|\n",
      "|      abethr1|              []|['song']| -2.9524|  38.2921|Turdus tephronotus|African Bare-eyed...|James Bradley|Creative Commons ...|   5.0|https://www.xeno-...|abethr1/XC363503.ogg|\n",
      "+-------------+----------------+--------+--------+---------+------------------+--------------------+-------------+--------------------+------+--------------------+--------------------+\n",
      "only showing top 5 rows\n",
      "\n"
     ]
    }
   ],
   "source": [
    "df_meta.show(n=5)"
   ]
  },
  {
   "cell_type": "markdown",
   "metadata": {},
   "source": [
    "### Histogram of bird species"
   ]
  },
  {
   "cell_type": "code",
   "execution_count": 5,
   "metadata": {},
   "outputs": [
    {
     "name": "stderr",
     "output_type": "stream",
     "text": [
      "/tmp/ipykernel_2183/2116515705.py:2: DeprecationWarning: \n",
      "Pyarrow will become a required dependency of pandas in the next major release of pandas (pandas 3.0),\n",
      "(to allow more performant data types, such as the Arrow string type, and better interoperability with other libraries)\n",
      "but was not found to be installed on your system.\n",
      "If this would cause problems for you,\n",
      "please provide us feedback at https://github.com/pandas-dev/pandas/issues/54466\n",
      "        \n",
      "  import pandas as pd\n",
      "/usr/local/lib/python3.10/dist-packages/pyspark/sql/pandas/conversion.py:111: UserWarning: toPandas attempted Arrow optimization because 'spark.sql.execution.arrow.pyspark.enabled' is set to true; however, failed by the reason below:\n",
      "  PyArrow >= 4.0.0 must be installed; however, it was not found.\n",
      "Attempting non-optimization as 'spark.sql.execution.arrow.pyspark.fallback.enabled' is set to true.\n",
      "  warn(msg)\n",
      "                                                                                \r"
     ]
    }
   ],
   "source": [
    "from matplotlib import pyplot as plt\n",
    "import pandas as pd\n",
    "\n",
    "# Group by species and count\n",
    "species_counts = df_meta.groupBy(\"_c5\").count().orderBy(\"count\", ascending=False)\n",
    "\n",
    "# Convert to Pandas DataFrame for plotting\n",
    "species_df = species_counts.toPandas()\n",
    "\n",
    "# Get the top and bottom 10 species\n",
    "top_10 = species_df.head(10)\n",
    "bottom_10 = species_df.tail(10)\n",
    "\n",
    "# Combine top and bottom for plotting\n",
    "combined = pd.concat([top_10, bottom_10])"
   ]
  },
  {
   "cell_type": "code",
   "execution_count": 6,
   "metadata": {},
   "outputs": [
    {
     "data": {
      "image/png": "[encoded data removed]",
      "text/plain": [
       "<Figure size 1000x600 with 1 Axes>"
      ]
     },
     "metadata": {},
     "output_type": "display_data"
    }
   ],
   "source": [
    "# Plotting\n",
    "plt.figure(figsize=(10, 6))\n",
    "plt.bar(\n",
    "    species_df[\"_c5\"], species_df[\"count\"], color=\"blue\"\n",
    ")  # Ensure 'species' matches your DataFrame column name\n",
    "plt.xlabel(\"Species\")\n",
    "plt.ylabel(\"Count\")\n",
    "plt.title(\"Histogram of Bird Species\")\n",
    "plt.xticks([])\n",
    "plt.tight_layout()\n",
    "plt.show()"
   ]
  },
  {
   "cell_type": "code",
   "execution_count": 7,
   "metadata": {},
   "outputs": [
    {
     "name": "stdout",
     "output_type": "stream",
     "text": [
      "Count of unique bird species: 272\n"
     ]
    }
   ],
   "source": [
    "# Number of distinct bird species\n",
    "unique_species_count = df_meta.select(\"_c5\").distinct().count()\n",
    "print(f\"Count of unique bird species: {unique_species_count}\")"
   ]
  },
  {
   "cell_type": "code",
   "execution_count": null,
   "metadata": {},
   "outputs": [],
   "source": []
  },
  {
   "cell_type": "code",
   "execution_count": null,
   "metadata": {},
   "outputs": [],
   "source": []
  },
  {
   "cell_type": "code",
   "execution_count": null,
   "metadata": {},
   "outputs": [],
   "source": []
  }
 ],
 "metadata": {
  "kernelspec": {
   "display_name": "Python 3",
   "language": "python",
   "name": "python3"
  },
  "language_info": {
   "codemirror_mode": {
    "name": "ipython",
    "version": 3
   },
   "file_extension": ".py",
   "mimetype": "text/x-python",
   "name": "python",
   "nbconvert_exporter": "python",
   "pygments_lexer": "ipython3",
   "version": "3.10.12"
  }
 },
 "nbformat": 4,
 "nbformat_minor": 2
}
