{
 "cells": [
  {
   "cell_type": "code",
   "execution_count": 1,
   "metadata": {},
   "outputs": [
    {
     "name": "stderr",
     "output_type": "stream",
     "text": [
      "Setting default log level to \"WARN\".\n",
      "To adjust logging level use sc.setLogLevel(newLevel). For SparkR, use setLogLevel(newLevel).\n",
      "24/03/18 22:06:25 WARN NativeCodeLoader: Unable to load native-hadoop library for your platform... using builtin-java classes where applicable\n",
      "24/03/18 22:06:25 WARN SparkConf: Note that spark.local.dir will be overridden by the value set by the cluster manager (via SPARK_LOCAL_DIRS in mesos/standalone/kubernetes and LOCAL_DIRS in YARN).\n"
     ]
    },
    {
     "data": {
      "text/html": [
       "\n",
       "            <div>\n",
       "                <p><b>SparkSession - in-memory</b></p>\n",
       "                \n",
       "        <div>\n",
       "            <p><b>SparkContext</b></p>\n",
       "\n",
       "            <p><a href=\"http://birdclef-dev.us-central1-a.c.dsgt-clef-2024.internal:4040\">Spark UI</a></p>\n",
       "\n",
       "            <dl>\n",
       "              <dt>Version</dt>\n",
       "                <dd><code>v3.5.0</code></dd>\n",
       "              <dt>Master</dt>\n",
       "                <dd><code>local[*]</code></dd>\n",
       "              <dt>AppName</dt>\n",
       "                <dd><code>pyspark-shell</code></dd>\n",
       "            </dl>\n",
       "        </div>\n",
       "        \n",
       "            </div>\n",
       "        "
      ],
      "text/plain": [
       "<pyspark.sql.session.SparkSession at 0x73110f98ec50>"
      ]
     },
     "metadata": {},
     "output_type": "display_data"
    },
    {
     "name": "stderr",
     "output_type": "stream",
     "text": [
      "                                                                                \r"
     ]
    },
    {
     "name": "stdout",
     "output_type": "stream",
     "text": [
      "root\n",
      " |-- _c0: string (nullable = true)\n",
      " |-- _c1: string (nullable = true)\n",
      " |-- _c2: string (nullable = true)\n",
      " |-- _c3: string (nullable = true)\n",
      " |-- _c4: string (nullable = true)\n",
      " |-- _c5: string (nullable = true)\n",
      " |-- _c6: string (nullable = true)\n",
      " |-- _c7: string (nullable = true)\n",
      " |-- _c8: string (nullable = true)\n",
      " |-- _c9: string (nullable = true)\n",
      " |-- _c10: string (nullable = true)\n",
      " |-- _c11: string (nullable = true)\n",
      "\n",
      "-RECORD 0----------------\n",
      " _c0  | primary_label    \n",
      " _c1  | secondary_labels \n",
      " _c2  | type             \n",
      " _c3  | latitude         \n",
      " _c4  | longitude        \n",
      " _c5  | scientific_name  \n",
      " _c6  | common_name      \n",
      " _c7  | author           \n",
      " _c8  | license          \n",
      " _c9  | rating           \n",
      " _c10 | url              \n",
      " _c11 | filename         \n",
      "only showing top 1 row\n",
      "\n"
     ]
    }
   ],
   "source": [
    "from birdclef.utils import get_spark\n",
    "from IPython.display import Image, display\n",
    "\n",
    "spark = get_spark()\n",
    "display(spark)\n",
    "\n",
    "# read straight from the bucket\n",
    "df_meta = spark.read.csv(\n",
    "    \"gs://dsgt-clef-birdclef-2024/data/raw/birdclef-2023/train_metadata.csv\"\n",
    ")\n",
    "df_meta.printSchema()\n",
    "df_meta.show(vertical=True, n=1, truncate=100)"
   ]
  },
  {
   "cell_type": "code",
   "execution_count": 2,
   "metadata": {},
   "outputs": [
    {
     "name": "stdout",
     "output_type": "stream",
     "text": [
      "+-------------+----------------+--------+--------+---------+------------------+--------------------+-------------+--------------------+------+--------------------+--------------------+\n",
      "|          _c0|             _c1|     _c2|     _c3|      _c4|               _c5|                 _c6|          _c7|                 _c8|   _c9|                _c10|                _c11|\n",
      "+-------------+----------------+--------+--------+---------+------------------+--------------------+-------------+--------------------+------+--------------------+--------------------+\n",
      "|primary_label|secondary_labels|    type|latitude|longitude|   scientific_name|         common_name|       author|             license|rating|                 url|            filename|\n",
      "|      abethr1|              []|['song']|  4.3906|  38.2788|Turdus tephronotus|African Bare-eyed...|Rolf A. de By|Creative Commons ...|   4.0|https://www.xeno-...|abethr1/XC128013.ogg|\n",
      "|      abethr1|              []|['call']| -2.9524|  38.2921|Turdus tephronotus|African Bare-eyed...|James Bradley|Creative Commons ...|   3.5|https://www.xeno-...|abethr1/XC363501.ogg|\n",
      "|      abethr1|              []|['song']| -2.9524|  38.2921|Turdus tephronotus|African Bare-eyed...|James Bradley|Creative Commons ...|   3.5|https://www.xeno-...|abethr1/XC363502.ogg|\n",
      "|      abethr1|              []|['song']| -2.9524|  38.2921|Turdus tephronotus|African Bare-eyed...|James Bradley|Creative Commons ...|   5.0|https://www.xeno-...|abethr1/XC363503.ogg|\n",
      "+-------------+----------------+--------+--------+---------+------------------+--------------------+-------------+--------------------+------+--------------------+--------------------+\n",
      "only showing top 5 rows\n",
      "\n"
     ]
    }
   ],
   "source": [
    "df_meta.show(n=5)"
   ]
  },
  {
   "cell_type": "code",
   "execution_count": 11,
   "metadata": {},
   "outputs": [],
   "source": [
    "import os\n",
    "from pathlib import Path\n",
    "\n",
    "in_root = Path(\"data/raw/birdclef-2023/train_audio\")\n",
    "out_root = Path(\"data/encodec_lm\")\n",
    "\n",
    "os.makedirs(out_root, exist_ok=True)\n",
    "\n",
    "def get_out_dir(species_code):\n",
    "    out_dir = out_root / species_code\n",
    "    os.makedirs(out_dir, exist_ok=True)\n",
    "    return out_dir\n",
    "\n",
    "def get_out_path(filename, use_lm):\n",
    "    species, file = filename.split(\"/\")\n",
    "    return get_out_dir(species) / (file[:-4] + (\"_lm\" * use_lm) + \".wav\")"
   ]
  },
  {
   "cell_type": "code",
   "execution_count": 8,
   "metadata": {},
   "outputs": [
    {
     "name": "stderr",
     "output_type": "stream",
     "text": [
      "/home/acheung/birdclef-2024/venv/lib/python3.10/site-packages/torch/nn/utils/weight_norm.py:28: UserWarning: torch.nn.utils.weight_norm is deprecated in favor of torch.nn.utils.parametrizations.weight_norm.\n",
      "  warnings.warn(\"torch.nn.utils.weight_norm is deprecated in favor of torch.nn.utils.parametrizations.weight_norm.\")\n"
     ]
    }
   ],
   "source": [
    "from encodec import EncodecModel\n",
    "import torchaudio\n",
    "\n",
    "bandwidth = 3.0\n",
    "model = EncodecModel.encodec_model_24khz()\n",
    "model.set_target_bandwidth(bandwidth)\n",
    "\n",
    "file = \"eaywag1/XC639588.ogg\"\n",
    "wav, sr = torchaudio.load(in_root / file)"
   ]
  },
  {
   "cell_type": "code",
   "execution_count": 12,
   "metadata": {},
   "outputs": [],
   "source": [
    "from encodec.compress import compress, decompress\n",
    "from encodec.utils import convert_audio\n",
    "\n",
    "wav = convert_audio(wav, sr, model.sample_rate, model.channels)\n",
    "\n",
    "compressed = compress(model, wav, use_lm=False)\n",
    "compressed_lm = compress(model, wav, use_lm=True)"
   ]
  },
  {
   "cell_type": "code",
   "execution_count": 16,
   "metadata": {},
   "outputs": [
    {
     "name": "stdout",
     "output_type": "stream",
     "text": [
      "torch.Size([1, 584388])\n",
      "9202\n",
      "5539\n"
     ]
    }
   ],
   "source": [
    "print(wav.shape)\n",
    "print(len(compressed))\n",
    "print(len(compressed_lm))"
   ]
  },
  {
   "cell_type": "code",
   "execution_count": 13,
   "metadata": {},
   "outputs": [
    {
     "name": "stderr",
     "output_type": "stream",
     "text": [
      "/home/acheung/birdclef-2024/venv/lib/python3.10/site-packages/torch/nn/utils/weight_norm.py:28: UserWarning: torch.nn.utils.weight_norm is deprecated in favor of torch.nn.utils.parametrizations.weight_norm.\n",
      "  warnings.warn(\"torch.nn.utils.weight_norm is deprecated in favor of torch.nn.utils.parametrizations.weight_norm.\")\n"
     ]
    }
   ],
   "source": [
    "out, out_sr = decompress(compressed)\n",
    "out_lm, out_lm_sr = decompress(compressed_lm)\n",
    "\n",
    "torchaudio.save(get_out_path(file, use_lm=False), out, sample_rate=out_sr, encoding=\"PCM_S\", bits_per_sample=16)\n",
    "torchaudio.save(get_out_path(file, use_lm=True), out_lm, sample_rate=out_lm_sr, encoding=\"PCM_S\", bits_per_sample=16)"
   ]
  }
 ],
 "metadata": {
  "kernelspec": {
   "display_name": "venv",
   "language": "python",
   "name": "python3"
  },
  "language_info": {
   "codemirror_mode": {
    "name": "ipython",
    "version": 3
   },
   "file_extension": ".py",
   "mimetype": "text/x-python",
   "name": "python",
   "nbconvert_exporter": "python",
   "pygments_lexer": "ipython3",
   "version": "3.10.12"
  }
 },
 "nbformat": 4,
 "nbformat_minor": 2
}
